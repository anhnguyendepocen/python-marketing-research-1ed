{
  "nbformat": 4,
  "nbformat_minor": 0,
  "metadata": {
    "colab": {
      "name": "Chapter 8 – Additional Linear Modeling Topics",
      "provenance": [],
      "collapsed_sections": []
    },
    "kernelspec": {
      "name": "python3",
      "display_name": "Python 3"
    }
  },
  "cells": [
    {
      "cell_type": "markdown",
      "metadata": {
        "id": "rZ9HGr2upFsv",
        "colab_type": "text"
      },
      "source": [
        "## 8.1 Handling Highly Correlated Variables"
      ]
    },
    {
      "cell_type": "markdown",
      "metadata": {
        "id": "r1RF94BcpKtP",
        "colab_type": "text"
      },
      "source": [
        "### An Initial Linear Model of Online Spend"
      ]
    },
    {
      "cell_type": "code",
      "metadata": {
        "id": "mUivG7aApJYR",
        "colab_type": "code",
        "colab": {}
      },
      "source": [
        "import pandas as pd\n",
        "cust_df = pd.read_csv('http://bit.ly/PMR-ch8pt1')\n",
        "cust_df.head() # Not shown\n",
        "cust_df.describe(include='all') # Not shown"
      ],
      "execution_count": 0,
      "outputs": []
    },
    {
      "cell_type": "code",
      "metadata": {
        "id": "_RnXI52TqT28",
        "colab_type": "code",
        "colab": {}
      },
      "source": [
        "import statsmodels.formula.api as smf\n",
        "spend_m1 = smf.ols('online_spend ~ age + credit_score + email'\n",
        "                    '+ distance_to_store + online_visits'\n",
        "                    '+ online_trans + store_trans + store_spend '\n",
        "                    '+ sat_service + sat_selection',\n",
        "                    data=cust_df.loc[cust_df.online_spend > 0,\n",
        "                                     'age':]).fit()\n",
        "spend_m1.summary()"
      ],
      "execution_count": 0,
      "outputs": []
    },
    {
      "cell_type": "code",
      "metadata": {
        "id": "KYcT9wR9L1w1",
        "colab_type": "code",
        "colab": {}
      },
      "source": [
        "import seaborn as sns\n",
        "import matplotlib.pyplot as plt\n",
        "sns.set_context('paper')\n",
        "\n",
        "g = sns.PairGrid(cust_df.loc[:, 'age':].fillna(-1), height=1.1)\n",
        "g.map_upper(plt.scatter, linewidths=1, edgecolor=\"w\", s=5, alpha=0.5)\n",
        "g.map_diag(plt.hist)\n",
        "g.map_lower(sns.kdeplot)"
      ],
      "execution_count": 0,
      "outputs": []
    },
    {
      "cell_type": "code",
      "metadata": {
        "id": "WoMN1zoq4N5j",
        "colab_type": "code",
        "colab": {}
      },
      "source": [
        "import scipy.stats as ss\n",
        "import sklearn.preprocessing as pp\n",
        "\n",
        "def autotransform(x):\n",
        "  '''Return scaled Box-Cox transform of x'''\n",
        "  x_bc, lmbd = ss.boxcox(1 + x)\n",
        "  return pp.scale(x_bc)"
      ],
      "execution_count": 0,
      "outputs": []
    },
    {
      "cell_type": "code",
      "metadata": {
        "id": "b8zXlj6CR7_n",
        "colab_type": "code",
        "colab": {}
      },
      "source": [
        "cust_df.head()"
      ],
      "execution_count": 0,
      "outputs": []
    },
    {
      "cell_type": "code",
      "metadata": {
        "id": "fUMRObKY7Ctm",
        "colab_type": "code",
        "colab": {}
      },
      "source": [
        "idx_complete = (cust_df.isna().sum(axis=1) == 0)\n",
        "cust_df_bc = cust_df.loc[(idx_complete) &\n",
        "                         (cust_df.online_spend > 0), 'age':].copy()\n",
        "col_idx = cust_df_bc.columns != 'email'\n",
        "cust_df_bc.iloc[:, col_idx] = \\\n",
        "  cust_df_bc.iloc[:,col_idx].apply(autotransform)"
      ],
      "execution_count": 0,
      "outputs": []
    },
    {
      "cell_type": "code",
      "metadata": {
        "id": "uwMvPy3a-dtG",
        "colab_type": "code",
        "colab": {}
      },
      "source": [
        "cust_df_bc.describe(include='all')"
      ],
      "execution_count": 0,
      "outputs": []
    },
    {
      "cell_type": "code",
      "metadata": {
        "id": "u7M1mBJA8h7d",
        "colab_type": "code",
        "colab": {}
      },
      "source": [
        "g = sns.PairGrid(cust_df_bc, height=1.1,)\n",
        "g.map_upper(plt.scatter, linewidths=1, edgecolor=\"w\", s=5, alpha=0.5)\n",
        "g.map_diag(plt.hist)\n",
        "g.map_lower(sns.kdeplot) # Not shown"
      ],
      "execution_count": 0,
      "outputs": []
    },
    {
      "cell_type": "code",
      "metadata": {
        "id": "HaSSpiD_8i5-",
        "colab_type": "code",
        "colab": {}
      },
      "source": [
        "spend_m2 = smf.ols('online_spend ~ age + credit_score + email'\n",
        "                    '+ distance_to_store + online_visits'\n",
        "                    '+ online_trans + store_trans + store_spend '\n",
        "                    '+ sat_service + sat_selection',\n",
        "                    data=cust_df_bc).fit()\n",
        "spend_m2.summary()"
      ],
      "execution_count": 0,
      "outputs": []
    },
    {
      "cell_type": "code",
      "metadata": {
        "id": "mk0UMItn8l5O",
        "colab_type": "code",
        "colab": {}
      },
      "source": [
        "spend_m3 = smf.ols('online_spend ~ online_trans',\n",
        "                    data=cust_df_bc).fit()\n",
        "from statsmodels.stats import anova as sms_anova\n",
        "sms_anova.anova_lm(spend_m2, spend_m3)"
      ],
      "execution_count": 0,
      "outputs": []
    },
    {
      "cell_type": "markdown",
      "metadata": {
        "id": "t8HhTpYeOHqx",
        "colab_type": "text"
      },
      "source": [
        "### Remediating Collinearity"
      ]
    },
    {
      "cell_type": "code",
      "metadata": {
        "id": "gs6vDPzfXQKT",
        "colab_type": "code",
        "colab": {}
      },
      "source": [
        "from statsmodels.stats.outliers_influence \\\n",
        "  import variance_inflation_factor\n",
        "\n",
        "variance_inflation_factor(spend_m2.model.exog, 1)"
      ],
      "execution_count": 0,
      "outputs": []
    },
    {
      "cell_type": "code",
      "metadata": {
        "id": "-sLz9J_uXEBY",
        "colab_type": "code",
        "colab": {}
      },
      "source": [
        "for i, param in enumerate(spend_m2.params.index):\n",
        "  print('VIF: {:.3f}, Parameter: {}'.format(\n",
        "      variance_inflation_factor(spend_m2.model.exog, i), param))"
      ],
      "execution_count": 0,
      "outputs": []
    },
    {
      "cell_type": "code",
      "metadata": {
        "id": "XHW5rhryI_VZ",
        "colab_type": "code",
        "colab": {}
      },
      "source": [
        "spend_m4 = smf.ols('online_spend ~ age + credit_score + email'\n",
        "                    '+ distance_to_store + online_visits'\n",
        "                    '+ store_spend + sat_service + sat_selection',\n",
        "                    data=cust_df_bc).fit()\n",
        "spend_m4.summary()"
      ],
      "execution_count": 0,
      "outputs": []
    },
    {
      "cell_type": "code",
      "metadata": {
        "id": "sJ0CrXBtcC1u",
        "colab_type": "code",
        "colab": {}
      },
      "source": [
        "for i, param in enumerate(spend_m4.params.index):\n",
        "  print('VIF: {:.3f}, Parameter: {}'.format(\n",
        "      variance_inflation_factor(spend_m4.model.exog, i), param))"
      ],
      "execution_count": 0,
      "outputs": []
    },
    {
      "cell_type": "code",
      "metadata": {
        "id": "PkB4sSDj9ArH",
        "colab_type": "code",
        "colab": {}
      },
      "source": [
        "from sklearn import decomposition\n",
        "\n",
        "# Create a combined online variable using PCA\n",
        "online_pca = (\n",
        "    decomposition.PCA()\n",
        "    .fit_transform(\n",
        "      cust_df_bc[['online_visits','online_trans']]))\n",
        "cust_df_bc['online'] = online_pca[:,0]\n",
        "\n",
        "# Create a combined store variable using PCA\n",
        "store_pca = (\n",
        "    decomposition.PCA().\n",
        "    fit_transform(\n",
        "        cust_df_bc[['store_spend', 'store_trans']]))\n",
        "cust_df_bc['store'] = store_pca[:,0]"
      ],
      "execution_count": 0,
      "outputs": []
    },
    {
      "cell_type": "code",
      "metadata": {
        "id": "TR2mx6LiCI09",
        "colab_type": "code",
        "colab": {}
      },
      "source": [
        "from sklearn import decomposition\n",
        "\n",
        "# Create a combined online variable using PCA\n",
        "online_pca = decomposition.PCA().\\\n",
        "  fit_transform(cust_df_bc[['online_visits','online_trans']])\n",
        "cust_df_bc['online'] = online_pca[:,0]\n",
        "\n",
        "# Create a combined store variable using PCA\n",
        "store_pca = decomposition.PCA().\\\n",
        "  fit_transform(cust_df_bc[['store_spend',\n",
        "                            'store_trans']])\n",
        "cust_df_bc['store'] = store_pca[:,0]"
      ],
      "execution_count": 0,
      "outputs": []
    },
    {
      "cell_type": "code",
      "metadata": {
        "id": "cLzgLcshDpcq",
        "colab_type": "code",
        "colab": {}
      },
      "source": [
        "spend_m5 = smf.ols('online_spend ~ age + credit_score + email'\n",
        "                   '+ distance_to_store + online + store'\n",
        "                   '+ sat_service + sat_selection',\n",
        "                    data=cust_df_bc).fit()\n",
        "spend_m5.summary()"
      ],
      "execution_count": 0,
      "outputs": []
    },
    {
      "cell_type": "code",
      "metadata": {
        "id": "NB3ytbJniH5s",
        "colab_type": "code",
        "colab": {}
      },
      "source": [
        "for i, param in enumerate(spend_m5.params.index):\n",
        "  print('VIF: {:.3f}, Parameter: {}'.format(\n",
        "      variance_inflation_factor(spend_m5.model.exog, i), param))"
      ],
      "execution_count": 0,
      "outputs": []
    },
    {
      "cell_type": "markdown",
      "metadata": {
        "id": "e2Lz3-R9ON6p",
        "colab_type": "text"
      },
      "source": [
        "## 8.2 Linear Models for Binary Outcomes: Logistic Regression"
      ]
    },
    {
      "cell_type": "markdown",
      "metadata": {
        "id": "Mv_tc4MYOSnC",
        "colab_type": "text"
      },
      "source": [
        "### 8.2.1 Basics of the Logistic Regression Model"
      ]
    },
    {
      "cell_type": "code",
      "metadata": {
        "id": "aHVhluqlN_mS",
        "colab_type": "code",
        "colab": {}
      },
      "source": [
        "import numpy as np\n",
        "np.exp(0) / ( np.exp(0) + 1 )"
      ],
      "execution_count": 0,
      "outputs": []
    },
    {
      "cell_type": "code",
      "metadata": {
        "id": "41o09qu52Iau",
        "colab_type": "code",
        "colab": {}
      },
      "source": [
        "from scipy.special import expit\n",
        "expit(0)"
      ],
      "execution_count": 0,
      "outputs": []
    },
    {
      "cell_type": "code",
      "metadata": {
        "id": "2dIaoWfmO-h3",
        "colab_type": "code",
        "colab": {}
      },
      "source": [
        "expit(-np.inf) # infinitely low = likelihood 0"
      ],
      "execution_count": 0,
      "outputs": []
    },
    {
      "cell_type": "code",
      "metadata": {
        "id": "stJhqGf1QFOT",
        "colab_type": "code",
        "colab": {}
      },
      "source": [
        "expit(2) # moderate probability = 88% chance of outcome"
      ],
      "execution_count": 0,
      "outputs": []
    },
    {
      "cell_type": "code",
      "metadata": {
        "id": "BtXi0b7qQHfB",
        "colab_type": "code",
        "colab": {}
      },
      "source": [
        "expit(-0.2) # weak likelihood"
      ],
      "execution_count": 0,
      "outputs": []
    },
    {
      "cell_type": "code",
      "metadata": {
        "id": "AT2WWWDoQIvC",
        "colab_type": "code",
        "colab": {}
      },
      "source": [
        "np.log(0.88/(1-0.88)) # moderate high likelihood"
      ],
      "execution_count": 0,
      "outputs": []
    },
    {
      "cell_type": "code",
      "metadata": {
        "id": "obQD_JZDRhFn",
        "colab_type": "code",
        "colab": {}
      },
      "source": [
        "from scipy.special import logit\n",
        "logit(0.88) # equivalent to hand computation"
      ],
      "execution_count": 0,
      "outputs": []
    },
    {
      "cell_type": "markdown",
      "metadata": {
        "id": "Yl2ayf6IRyPC",
        "colab_type": "text"
      },
      "source": [
        "### 8.2.2 Data for Logistic Regression of Season Passes"
      ]
    },
    {
      "cell_type": "code",
      "metadata": {
        "id": "4G9BubRqGDfG",
        "colab_type": "code",
        "colab": {}
      },
      "source": [
        "pass_df = pd.read_csv('http://bit.ly/PMR-ch8pt2') # TODO REFORMAT THIS TO MATCH\n",
        "pass_df.Pass = pass_df.Pass.astype(\n",
        "    pd.api.types.CategoricalDtype(categories=['YesPass','NoPass'],\n",
        "                                  ordered=True))\n",
        "pass_df.Promo = pass_df.Promo.astype(\n",
        "    pd.api.types.CategoricalDtype(categories=['NoBundle','Bundle'],\n",
        "                                  ordered=True))\n",
        "pass_df.head()"
      ],
      "execution_count": 0,
      "outputs": []
    },
    {
      "cell_type": "code",
      "metadata": {
        "id": "r4ZhYEX-ach_",
        "colab_type": "code",
        "colab": {}
      },
      "source": [
        "pass_df.describe()"
      ],
      "execution_count": 0,
      "outputs": []
    },
    {
      "cell_type": "markdown",
      "metadata": {
        "id": "CYeahAzVStzp",
        "colab_type": "text"
      },
      "source": [
        "### 8.2.3 Sales Table Data"
      ]
    },
    {
      "cell_type": "code",
      "metadata": {
        "id": "bxL-HN4gRpq5",
        "colab_type": "code",
        "colab": {}
      },
      "source": [
        "pass_df.groupby(['Pass', 'Promo', 'Channel']).Pass.count().unstack(level=2).T"
      ],
      "execution_count": 0,
      "outputs": []
    },
    {
      "cell_type": "code",
      "metadata": {
        "id": "NG0H-b1IRpmk",
        "colab_type": "code",
        "colab": {}
      },
      "source": [
        "channels = ['Mail', 'Park', 'Email']\n",
        "passes = ['NoPass','YesPass']\n",
        "promos = ['NoBundle', 'Bundle']"
      ],
      "execution_count": 0,
      "outputs": []
    },
    {
      "cell_type": "code",
      "metadata": {
        "id": "QxPFU8AgTNMs",
        "colab_type": "code",
        "colab": {}
      },
      "source": [
        "pass_counts = [278, 449, 359, 242, 49, 223, 284, 639, 485, 83, 27, 38]"
      ],
      "execution_count": 0,
      "outputs": []
    },
    {
      "cell_type": "code",
      "metadata": {
        "id": "QpflwF8hRpi-",
        "colab_type": "code",
        "colab": {}
      },
      "source": [
        "i = 0\n",
        "pass_array = []\n",
        "for c in channels:\n",
        "  for p in passes:\n",
        "    for b in promos:\n",
        "      pass_array.append(np.repeat([[c, b, p]], pass_counts[i],\n",
        "                                  axis=0))\n",
        "      i += 1"
      ],
      "execution_count": 0,
      "outputs": []
    },
    {
      "cell_type": "code",
      "metadata": {
        "id": "eAAg17UlRpfV",
        "colab_type": "code",
        "colab": {}
      },
      "source": [
        "pass_df = pd.DataFrame(np.concatenate(pass_array),\n",
        "                       columns=['Channel', 'Promo', 'Pass'])\n",
        "pass_df.head()"
      ],
      "execution_count": 0,
      "outputs": []
    },
    {
      "cell_type": "code",
      "metadata": {
        "id": "PTqrZ1RbRpbA",
        "colab_type": "code",
        "colab": {}
      },
      "source": [
        "pass_df.groupby(['Pass', 'Promo', 'Channel']).Pass.count()\\\n",
        "  .unstack(level=2).T"
      ],
      "execution_count": 0,
      "outputs": []
    },
    {
      "cell_type": "code",
      "metadata": {
        "id": "xpLT3qvXUtTo",
        "colab_type": "code",
        "colab": {}
      },
      "source": [
        "pass_df.groupby(['Pass', 'Promo']).Pass.count().unstack(level=1)"
      ],
      "execution_count": 0,
      "outputs": []
    },
    {
      "cell_type": "code",
      "metadata": {
        "id": "CEF62u5SRpXg",
        "colab_type": "code",
        "colab": {}
      },
      "source": [
        "pass_df.Pass = pass_df.Pass.astype(\n",
        "    pd.api.types.CategoricalDtype(categories=['YesPass','NoPass'],\n",
        "                                  ordered=True))\n",
        "pass_df.Promo = pass_df.Promo.astype(\n",
        "    pd.api.types.CategoricalDtype(categories=['NoBundle','Bundle'],\n",
        "                                  ordered=True))"
      ],
      "execution_count": 0,
      "outputs": []
    },
    {
      "cell_type": "markdown",
      "metadata": {
        "id": "x4hqrsbWVZvf",
        "colab_type": "text"
      },
      "source": [
        "### 8.2.4 Fitting a Logistic Regression Model"
      ]
    },
    {
      "cell_type": "code",
      "metadata": {
        "id": "_mQx9GNhRpSx",
        "colab_type": "code",
        "colab": {}
      },
      "source": [
        "import statsmodels.api as sm\n",
        "pass_m1 = smf.glm('Pass ~ Promo', data=pass_df,\n",
        "                  family=sm.families.Binomial()).fit()\n",
        "pass_m1.summary()"
      ],
      "execution_count": 0,
      "outputs": []
    },
    {
      "cell_type": "code",
      "metadata": {
        "id": "Zd-actodRpKl",
        "colab_type": "code",
        "colab": {}
      },
      "source": [
        "# ratio of outcome % to alternative %\n",
        "expit(0.3888) / (1-expit(0.3888))"
      ],
      "execution_count": 0,
      "outputs": []
    },
    {
      "cell_type": "code",
      "metadata": {
        "id": "4RCiUvyuRpGz",
        "colab_type": "code",
        "colab": {}
      },
      "source": [
        "np.exp(0.3888) # identical"
      ],
      "execution_count": 0,
      "outputs": []
    },
    {
      "cell_type": "code",
      "metadata": {
        "id": "uQWOxA-nOvIN",
        "colab_type": "code",
        "colab": {}
      },
      "source": [
        "print('Odds of pass:no pass, bundle: {:.3f} : 1'\n",
        "  .format(np.exp(0.3888 - 0.1922)))\n",
        "print('Odds of pass:no pass, without bundle: {:.3f} : 1'\n",
        "  .format(np.exp(-0.1922)))"
      ],
      "execution_count": 0,
      "outputs": []
    },
    {
      "cell_type": "code",
      "metadata": {
        "id": "hF2ziOZsQKib",
        "colab_type": "code",
        "colab": {}
      },
      "source": [
        "np.exp(0.3888 - 0.1922)/(1 + np.exp(0.3888 - 0.1922))"
      ],
      "execution_count": 0,
      "outputs": []
    },
    {
      "cell_type": "code",
      "metadata": {
        "id": "xybDln_IO9bt",
        "colab_type": "code",
        "colab": {}
      },
      "source": [
        "print('Probability of pass, bundle: {:.3f}'\n",
        "  .format(np.exp(0.3888 - 0.1922)/(1 + np.exp(0.3888 - 0.1922))))\n",
        "print('Probability of pass, no bundle: {:.3f}'\n",
        "  .format(np.exp(-0.1922)/(1 + np.exp(-0.1922))))\n",
        "print('Bundle increased probability by {:.3f}'\n",
        "  .format((np.exp(0.3888 - 0.1922)/(1 + np.exp(0.3888 - 0.1922)))/\n",
        "          (np.exp(-0.1922)/(1 + np.exp(-0.1922)))))"
      ],
      "execution_count": 0,
      "outputs": []
    },
    {
      "cell_type": "code",
      "metadata": {
        "id": "1PLnuPZARpAk",
        "colab_type": "code",
        "colab": {}
      },
      "source": [
        "np.exp(pass_m1.params)"
      ],
      "execution_count": 0,
      "outputs": []
    },
    {
      "cell_type": "code",
      "metadata": {
        "id": "Ek3CvWYbRo9J",
        "colab_type": "code",
        "colab": {}
      },
      "source": [
        "np.exp(pass_m1.conf_int())"
      ],
      "execution_count": 0,
      "outputs": []
    },
    {
      "cell_type": "markdown",
      "metadata": {
        "id": "ZlWfHYp3X0SD",
        "colab_type": "text"
      },
      "source": [
        "### 8.2.5 Reconsidering the model"
      ]
    },
    {
      "cell_type": "code",
      "metadata": {
        "id": "4J4ZLvsyaM6O",
        "colab_type": "code",
        "colab": {}
      },
      "source": [
        "pass_df.groupby(['Pass']).Channel.value_counts().unstack()"
      ],
      "execution_count": 0,
      "outputs": []
    },
    {
      "cell_type": "code",
      "metadata": {
        "id": "-Ipz4YiKYaZU",
        "colab_type": "code",
        "colab": {}
      },
      "source": [
        "pass_df.groupby(['Pass']).Channel.value_counts().unstack()\\\n",
        "  .plot(kind='barh', stacked=True, figsize=(10,6))"
      ],
      "execution_count": 0,
      "outputs": []
    },
    {
      "cell_type": "code",
      "metadata": {
        "id": "SXQl-wneHe9o",
        "colab_type": "code",
        "colab": {}
      },
      "source": [
        "f = plt.figure(figsize=(15,8))\n",
        "axs = f.subplots(1,3)\n",
        "for ax, (c, channel_group) in zip(axs, pass_df.groupby(\"Channel\")):\n",
        "  ax = channel_group\\\n",
        "   .groupby(\"Promo\")\\\n",
        "   .Pass.value_counts(normalize=True).unstack()\\\n",
        "   .plot(kind='bar', ax=ax, stacked=True)\n",
        "  ax.set_title(c)"
      ],
      "execution_count": 0,
      "outputs": []
    },
    {
      "cell_type": "code",
      "metadata": {
        "id": "iIxIv4FVa8wW",
        "colab_type": "code",
        "colab": {}
      },
      "source": [
        "plt.figure(figsize=(15,8))\n",
        "for i,c in enumerate(channels):\n",
        "  ax = plt.subplot(1, 3, i+1)\n",
        "  pass_df.loc[pass_df.Channel == c]\\\n",
        "    .groupby('Promo').Pass.value_counts(normalize=True).unstack()\\\n",
        "    .plot(kind='bar', ax=ax, stacked=True)\n",
        "  plt.title(c)\n",
        "  plt.ylim((0,1.3))"
      ],
      "execution_count": 0,
      "outputs": []
    },
    {
      "cell_type": "code",
      "metadata": {
        "id": "oDjX_CqdeBdc",
        "colab_type": "code",
        "colab": {}
      },
      "source": [
        "pass_m2 = smf.glm('Pass ~ Promo + Channel',\n",
        "                  data=pass_df,\n",
        "                  family=sm.families.Binomial()).fit()\n",
        "pass_m2.summary()"
      ],
      "execution_count": 0,
      "outputs": []
    },
    {
      "cell_type": "code",
      "metadata": {
        "id": "3GSdzti4eBat",
        "colab_type": "code",
        "colab": {}
      },
      "source": [
        "np.exp(pass_m2.params)"
      ],
      "execution_count": 0,
      "outputs": []
    },
    {
      "cell_type": "code",
      "metadata": {
        "id": "tsuJ6UcCeBYW",
        "colab_type": "code",
        "colab": {}
      },
      "source": [
        "np.exp(pass_m2.conf_int())"
      ],
      "execution_count": 0,
      "outputs": []
    },
    {
      "cell_type": "code",
      "metadata": {
        "id": "7fTiMCW3eBV1",
        "colab_type": "code",
        "colab": {}
      },
      "source": [
        "pass_m3 = smf.glm('Pass ~ Promo + Channel + Promo:Channel',\n",
        "                  data=pass_df,\n",
        "                  family=sm.families.Binomial()).fit()\n",
        "pass_m3.summary()"
      ],
      "execution_count": 0,
      "outputs": []
    },
    {
      "cell_type": "code",
      "metadata": {
        "id": "94P0Ri4neBTD",
        "colab_type": "code",
        "colab": {}
      },
      "source": [
        "np.exp(pass_m3.conf_int())"
      ],
      "execution_count": 0,
      "outputs": []
    },
    {
      "cell_type": "code",
      "metadata": {
        "id": "rM-lkDG6F3_W",
        "colab_type": "code",
        "colab": {}
      },
      "source": [
        ""
      ],
      "execution_count": 0,
      "outputs": []
    }
  ]
}
