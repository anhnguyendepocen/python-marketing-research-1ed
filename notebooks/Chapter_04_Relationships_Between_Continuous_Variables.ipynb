{
  "nbformat": 4,
  "nbformat_minor": 0,
  "metadata": {
    "colab": {
      "name": "Chapter 4 - Relationships Between Continuous Variables",
      "provenance": [],
      "collapsed_sections": []
    },
    "kernelspec": {
      "name": "python3",
      "display_name": "Python 3"
    }
  },
  "cells": [
    {
      "cell_type": "code",
      "metadata": {
        "colab_type": "code",
        "id": "FkTGvmgIhZC6",
        "colab": {}
      },
      "source": [
        "%config InlineBackend.figure_format = 'svg'"
      ],
      "execution_count": null,
      "outputs": []
    },
    {
      "cell_type": "markdown",
      "metadata": {
        "id": "OtW3xrYpS281",
        "colab_type": "text"
      },
      "source": [
        "## 4.1 Retailer data"
      ]
    },
    {
      "cell_type": "code",
      "metadata": {
        "id": "ySRzMKXkOhN4",
        "colab_type": "code",
        "colab": {}
      },
      "source": [
        "import pandas as pd\n",
        "cust_df = pd.read_csv('http://bit.ly/PMR-ch4')"
      ],
      "execution_count": null,
      "outputs": []
    },
    {
      "cell_type": "code",
      "metadata": {
        "id": "ld0OJvmZOn7H",
        "colab_type": "code",
        "colab": {}
      },
      "source": [
        "cust_df.head()"
      ],
      "execution_count": null,
      "outputs": []
    },
    {
      "cell_type": "code",
      "metadata": {
        "id": "nYn4ZuvCl25G",
        "colab_type": "code",
        "colab": {}
      },
      "source": [
        "cust_df.age.hist()"
      ],
      "execution_count": null,
      "outputs": []
    },
    {
      "cell_type": "code",
      "metadata": {
        "id": "hSb7I7u2l5U1",
        "colab_type": "code",
        "colab": {}
      },
      "source": [
        "cust_df.age.min()"
      ],
      "execution_count": null,
      "outputs": []
    },
    {
      "cell_type": "markdown",
      "metadata": {
        "id": "BD4j7luKS6Dm",
        "colab_type": "text"
      },
      "source": [
        "### 4.1.1 Simulating the data"
      ]
    },
    {
      "cell_type": "code",
      "metadata": {
        "id": "WrCDKjaDSgS1",
        "colab_type": "code",
        "colab": {}
      },
      "source": [
        "# Import numpy and pandas\n",
        "import pandas as pd\n",
        "import numpy as np\n",
        "\n",
        "n_cust = 1000\n",
        "\n",
        "np.random.seed(21821)\n",
        "\n",
        "cust_df = pd.DataFrame({'cust_id': pd.Categorical(range(n_cust))})"
      ],
      "execution_count": null,
      "outputs": []
    },
    {
      "cell_type": "code",
      "metadata": {
        "id": "dxXyqzp0YiWx",
        "colab_type": "code",
        "colab": {}
      },
      "source": [
        "cust_df['age'] = np.random.normal(loc=35, scale=5, size=n_cust)\n",
        "cust_df['credit_score'] = np.random.normal(loc=3 * cust_df.age + 620,\n",
        "                                           scale=50,\n",
        "                                           size=n_cust)\n",
        "cust_df['email'] = pd.Categorical(np.random.choice(a=['yes', 'no'],\n",
        "                                                   p=[0.8, 0.2],\n",
        "                                                   size=n_cust))\n",
        "cust_df['distance_to_store'] = np.exp(np.random.normal(loc=2,\n",
        "                                                       scale=1.2,\n",
        "                                                       size=n_cust))"
      ],
      "execution_count": null,
      "outputs": []
    },
    {
      "cell_type": "code",
      "metadata": {
        "id": "AUimKNgCZe1Q",
        "colab_type": "code",
        "colab": {}
      },
      "source": [
        "cust_df.describe(include='all')"
      ],
      "execution_count": null,
      "outputs": []
    },
    {
      "cell_type": "markdown",
      "metadata": {
        "id": "42v5SZyjcLvU",
        "colab_type": "text"
      },
      "source": [
        "### 4.1.2 Simulating online and in-store sales data"
      ]
    },
    {
      "cell_type": "code",
      "metadata": {
        "id": "ZyBIvJv7cjql",
        "colab_type": "code",
        "colab": {}
      },
      "source": [
        "mu = 15 + ((cust_df.email == 'yes') * 15 -\n",
        "           0.7 * (cust_df.age - cust_df.age.median()))\n",
        "n = 0.3\n",
        "prob = n / (n + mu)\n",
        "cust_df['online_visits'] = np.random.negative_binomial(n=0.3,\n",
        "                                                       p=prob,\n",
        "                                                       size=n_cust)"
      ],
      "execution_count": null,
      "outputs": []
    },
    {
      "cell_type": "code",
      "metadata": {
        "id": "-hHUyVH3hVcD",
        "colab_type": "code",
        "colab": {}
      },
      "source": [
        "cust_df['online_trans'] = np.random.binomial(n=cust_df.online_visits,\n",
        "                                             p=0.3,\n",
        "                                             size=n_cust)\n",
        "cust_df['online_spend'] = (np.exp(np.random.normal(loc=3,\n",
        "                                                  scale=0.1,\n",
        "                                                  size=n_cust))\n",
        "                           * cust_df.online_trans)"
      ],
      "execution_count": null,
      "outputs": []
    },
    {
      "cell_type": "code",
      "metadata": {
        "id": "PrieCekehVZj",
        "colab_type": "code",
        "colab": {}
      },
      "source": [
        "mu = 3 / np.sqrt(cust_df.distance_to_store)\n",
        "n = 5\n",
        "prob = n / (n + mu)\n",
        "cust_df['store_trans'] = np.random.negative_binomial(n=n,\n",
        "                                                     p=prob,\n",
        "                                                     size=n_cust)\n",
        "cust_df['store_spend'] = (np.exp(np.random.normal(loc=3.5,\n",
        "                                                  scale=0.4,\n",
        "                                                  size=n_cust))\n",
        "                          * cust_df.store_trans)"
      ],
      "execution_count": null,
      "outputs": []
    },
    {
      "cell_type": "code",
      "metadata": {
        "id": "BdqmERo5lYih",
        "colab_type": "code",
        "colab": {}
      },
      "source": [
        "cust_df.describe()"
      ],
      "execution_count": null,
      "outputs": []
    },
    {
      "cell_type": "markdown",
      "metadata": {
        "id": "KQwplVRLlkR7",
        "colab_type": "text"
      },
      "source": [
        "### 4.1.3 Simulating satisfaction survey responses"
      ]
    },
    {
      "cell_type": "code",
      "metadata": {
        "id": "NhWE6-f8lonL",
        "colab_type": "code",
        "colab": {}
      },
      "source": [
        "sat_overall = pd.Series(np.random.normal(loc=3.1,\n",
        "                                         scale=0.8,\n",
        "                                         size=n_cust))\n",
        "sat_overall.describe()"
      ],
      "execution_count": null,
      "outputs": []
    },
    {
      "cell_type": "code",
      "metadata": {
        "id": "UC5w-vjVlokM",
        "colab_type": "code",
        "colab": {}
      },
      "source": [
        "sat_service = np.floor(sat_overall + np.random.normal(loc=0.5,\n",
        "                                                      scale=0.7,\n",
        "                                                      size=n_cust))\n",
        "sat_selection = np.floor(sat_overall + np.random.normal(loc=-0.2,\n",
        "                                                        scale=0.6,\n",
        "                                                        size=n_cust))\n",
        "sat_service.describe()"
      ],
      "execution_count": null,
      "outputs": []
    },
    {
      "cell_type": "code",
      "metadata": {
        "id": "bHVjZLOelohT",
        "colab_type": "code",
        "colab": {}
      },
      "source": [
        "sat_service[sat_service > 5] = 5\n",
        "sat_service[sat_service < 1] = 1\n",
        "sat_selection[sat_selection > 5] = 5\n",
        "sat_selection[sat_selection < 1] = 1\n",
        "sat_service.describe()"
      ],
      "execution_count": null,
      "outputs": []
    },
    {
      "cell_type": "markdown",
      "metadata": {
        "id": "JsuBhwNvpYro",
        "colab_type": "text"
      },
      "source": [
        "### 4.1.4 Simulating non-response data"
      ]
    },
    {
      "cell_type": "code",
      "metadata": {
        "id": "ORR1gZtiloer",
        "colab_type": "code",
        "colab": {}
      },
      "source": [
        "no_response = np.random.binomial(n=1,\n",
        "                                 p=cust_df.age/100,\n",
        "                                 size=n_cust).astype(bool)\n",
        "sat_service[no_response] = np.nan\n",
        "sat_selection[no_response] = np.nan\n",
        "sat_service.describe()"
      ],
      "execution_count": null,
      "outputs": []
    },
    {
      "cell_type": "code",
      "metadata": {
        "id": "a3VtzohCplf5",
        "colab_type": "code",
        "colab": {}
      },
      "source": [
        "cust_df['sat_service'] = sat_service\n",
        "cust_df['sat_selection'] = sat_selection\n",
        "cust_df.describe()"
      ],
      "execution_count": null,
      "outputs": []
    },
    {
      "cell_type": "markdown",
      "metadata": {
        "id": "XGn3rKrbqTOp",
        "colab_type": "text"
      },
      "source": [
        "## 4.2 Exploring associations between variables with scatterplots"
      ]
    },
    {
      "cell_type": "code",
      "metadata": {
        "id": "YVCOm67RLfP4",
        "colab_type": "code",
        "colab": {}
      },
      "source": [
        "cust_df.head()"
      ],
      "execution_count": null,
      "outputs": []
    },
    {
      "cell_type": "code",
      "metadata": {
        "id": "w0CA6OITeHNX",
        "colab_type": "code",
        "colab": {}
      },
      "source": [
        "cust_df.dtypes"
      ],
      "execution_count": null,
      "outputs": []
    },
    {
      "cell_type": "code",
      "metadata": {
        "id": "-23ZgTNjrZn1",
        "colab_type": "code",
        "colab": {}
      },
      "source": [
        "cust_df.plot(kind='scatter', x='age', y='credit_score')"
      ],
      "execution_count": null,
      "outputs": []
    },
    {
      "cell_type": "code",
      "metadata": {
        "id": "_DsT7LyARf0t",
        "colab_type": "code",
        "colab": {}
      },
      "source": [
        "import matplotlib.pyplot as plt\n",
        "\n",
        "\n",
        "plt.style.use('seaborn-notebook')\n",
        "plt.style.use('seaborn-white')\n",
        "plt.style.use('seaborn-ticks')\n",
        "\n",
        "cust_df.plot(kind='scatter', x='age', y='credit_score')"
      ],
      "execution_count": null,
      "outputs": []
    },
    {
      "cell_type": "code",
      "metadata": {
        "id": "DEuVCDPTrmU1",
        "colab_type": "code",
        "colab": {}
      },
      "source": [
        "cust_df.plot(kind='scatter',\n",
        "             x='age',\n",
        "             y='credit_score',\n",
        "             c='none',\n",
        "             edgecolor='darkblue',\n",
        "             xlim=[15, 55],\n",
        "             ylim=[500, 900])\n",
        "plt.plot([15, 55], [cust_df.credit_score.mean(),\n",
        "                    cust_df.credit_score.mean()], 'k:')\n",
        "plt.plot([cust_df.age.mean(), cust_df.age.mean()],\n",
        "         [500, 900], \n",
        "         'k:')\n",
        "plt.title('Active customers as of January 2019')\n",
        "plt.xlabel('Customer age (years)')\n",
        "plt.ylabel('Customer credit score')"
      ],
      "execution_count": null,
      "outputs": []
    },
    {
      "cell_type": "code",
      "metadata": {
        "id": "5aPSiAobU96F",
        "colab_type": "code",
        "colab": {}
      },
      "source": [
        "cust_df.plot(kind='scatter',\n",
        "             x='store_spend',\n",
        "             y='online_spend',\n",
        "             c='none',\n",
        "             edgecolor='darkblue',\n",
        "             s=8)\n",
        "plt.title('Customers as of January 2019')\n",
        "plt.xlabel('Prior 12 months in-store sales ($)')\n",
        "plt.ylabel('Prior 12 months online sales ($)')"
      ],
      "execution_count": null,
      "outputs": []
    },
    {
      "cell_type": "code",
      "metadata": {
        "id": "z1JoB5V82B_-",
        "colab_type": "code",
        "colab": {}
      },
      "source": [
        "cust_df.store_spend.hist(bins=100,\n",
        "                         edgecolor='k',\n",
        "                         facecolor='none',\n",
        "                         linewidth=1.2)\n",
        "plt.title('Customers as of January 2019')\n",
        "plt.xlabel('Prior 12 months online sales ($)')\n",
        "plt.ylabel('Count of customers')"
      ],
      "execution_count": null,
      "outputs": []
    },
    {
      "cell_type": "markdown",
      "metadata": {
        "id": "5quedjVZ4ePS",
        "colab_type": "text"
      },
      "source": [
        "### 4.2.2 Color-coding points on a scatterplot"
      ]
    },
    {
      "cell_type": "code",
      "metadata": {
        "id": "IKHQmpzGA_CH",
        "colab_type": "code",
        "colab": {}
      },
      "source": [
        "edge_mapper = {'yes': 'g',\n",
        "                'no': 'k'}\n",
        "fill_mapper = {'yes': 'none',\n",
        "               'no': 'k' }\n",
        "\n",
        "fig, ax = plt.subplots()\n",
        "for name, group in cust_df.groupby('email'):\n",
        "  ax.scatter(x=group.store_spend,\n",
        "             y=group.online_spend,\n",
        "             edgecolor=edge_mapper[name],\n",
        "             c=fill_mapper[name],\n",
        "             s=8,\n",
        "             label=name)\n",
        "plt.legend(title='email')\n",
        "plt.title('Customers as of January 2019')\n",
        "plt.xlabel('Prior 12 months in-store sales ($)')\n",
        "plt.ylabel('Prior 12 months online sales ($)')"
      ],
      "execution_count": null,
      "outputs": []
    },
    {
      "cell_type": "code",
      "metadata": {
        "id": "EoXl7VXjZqNH",
        "colab_type": "code",
        "colab": {}
      },
      "source": [
        "fig, ax = plt.subplots()\n",
        "for name, group in cust_df.groupby('email'):\n",
        "  ax.scatter(x=group.store_spend+1,\n",
        "             y=group.online_spend+1,\n",
        "             edgecolor=edge_mapper[name],\n",
        "             c=fill_mapper[name],\n",
        "             s=8,\n",
        "             label=name)\n",
        "plt.legend(title='email')\n",
        "plt.title('Customers as of January 2019')\n",
        "plt.xlabel('Prior 12 months in-store sales (log $)')\n",
        "plt.ylabel('Prior 12 months online sales (log $)')\n",
        "plt.xscale('log')\n",
        "plt.yscale('log')"
      ],
      "execution_count": null,
      "outputs": []
    },
    {
      "cell_type": "markdown",
      "metadata": {
        "id": "svNIhO-5BrdB",
        "colab_type": "text"
      },
      "source": [
        "## 4.3 Combining plots in a single graphics object"
      ]
    },
    {
      "cell_type": "code",
      "metadata": {
        "id": "Q8VPVLUlNaRa",
        "colab_type": "code",
        "colab": {}
      },
      "source": [
        "plt.subplot(221)\n",
        "plt.scatter(x=cust_df.distance_to_store,\n",
        "            y=cust_df.store_spend,\n",
        "            c='none',\n",
        "            edgecolor='darkblue',\n",
        "            s=8)\n",
        "plt.title('store')\n",
        "plt.ylabel('Prior 12 months in-store sales ($)')\n",
        "\n",
        "plt.subplot(223)\n",
        "plt.scatter(x=cust_df.distance_to_store,\n",
        "            y=cust_df.online_spend,\n",
        "            c='none',\n",
        "            edgecolor='darkblue',\n",
        "            s=8)\n",
        "plt.title('online')\n",
        "plt.xlabel('Distance to store')\n",
        "plt.ylabel('Prior 12 months online sales ($)')\n",
        "\n",
        "plt.subplot(222)\n",
        "plt.scatter(x=cust_df.distance_to_store,\n",
        "            y=cust_df.store_spend+1,\n",
        "            c='none',\n",
        "            edgecolor='darkblue',\n",
        "            s=8)\n",
        "plt.title('store, log')\n",
        "plt.xscale('log')\n",
        "plt.yscale('log')\n",
        "\n",
        "plt.subplot(224)\n",
        "plt.scatter(x=cust_df.distance_to_store,\n",
        "            y=cust_df.online_spend+1,\n",
        "            c='none',\n",
        "            edgecolor='darkblue',\n",
        "            s=8)\n",
        "plt.title('online, log')\n",
        "plt.xlabel('Distance to store')\n",
        "plt.xscale('log')\n",
        "plt.yscale('log')\n",
        "\n",
        "plt.tight_layout()"
      ],
      "execution_count": null,
      "outputs": []
    },
    {
      "cell_type": "markdown",
      "metadata": {
        "id": "eOU_t1I7wc5I",
        "colab_type": "text"
      },
      "source": [
        "## Scatterplot matrices"
      ]
    },
    {
      "cell_type": "markdown",
      "metadata": {
        "id": "v1P_wm7pgrmp",
        "colab_type": "text"
      },
      "source": [
        "### 4.4.1 scatter_matrix()"
      ]
    },
    {
      "cell_type": "code",
      "metadata": {
        "id": "TZlsjIVUmls2",
        "colab_type": "code",
        "colab": {}
      },
      "source": [
        "_ = pd.plotting.scatter_matrix(cust_df, figsize=(12,12),\n",
        "                               c='none', edgecolor='darkblue')"
      ],
      "execution_count": null,
      "outputs": []
    },
    {
      "cell_type": "code",
      "metadata": {
        "id": "CFHPfUwLCcl1",
        "colab_type": "code",
        "colab": {}
      },
      "source": [
        "_ = pd.plotting.scatter_matrix(cust_df[['age', 'distance_to_store',\n",
        "                                        'store_spend']],\n",
        "                               c='none', edgecolor='darkblue')"
      ],
      "execution_count": null,
      "outputs": []
    },
    {
      "cell_type": "markdown",
      "metadata": {
        "id": "7ZGW25B1gzZR",
        "colab_type": "text"
      },
      "source": [
        "### 4.4.2 PairGrid()"
      ]
    },
    {
      "cell_type": "code",
      "metadata": {
        "id": "Qf3kcTkzGxn2",
        "colab_type": "code",
        "colab": {}
      },
      "source": [
        "import seaborn as sns\n",
        "\n",
        "g = sns.PairGrid(cust_df[['age', 'distance_to_store',\n",
        "                          'store_spend', 'email']],\n",
        "                 size=2.5,\n",
        "                 hue='email', palette='Set2',\n",
        "                 hue_kws={\"marker\": ['o', 's']})\n",
        "_ = g.map_offdiag(plt.scatter, s=20, alpha=0.5)\n",
        "_ = g.map_diag(plt.hist, bins=20)\n",
        "_ = g.add_legend()"
      ],
      "execution_count": null,
      "outputs": []
    },
    {
      "cell_type": "markdown",
      "metadata": {
        "id": "wG8DmoDX2Unm",
        "colab_type": "text"
      },
      "source": [
        "## Correlation coefficients"
      ]
    },
    {
      "cell_type": "code",
      "metadata": {
        "id": "kocRu1uL1RYH",
        "colab_type": "code",
        "colab": {}
      },
      "source": [
        "np.cov(cust_df.age, cust_df.credit_score)"
      ],
      "execution_count": null,
      "outputs": []
    },
    {
      "cell_type": "code",
      "metadata": {
        "id": "mn1ybwJo3Jeg",
        "colab_type": "code",
        "colab": {}
      },
      "source": [
        "np.corrcoef(cust_df.age, cust_df.credit_score)"
      ],
      "execution_count": null,
      "outputs": []
    },
    {
      "cell_type": "code",
      "metadata": {
        "id": "FFPH0lX14Prt",
        "colab_type": "code",
        "colab": {}
      },
      "source": [
        "np.cov(cust_df.age,\n",
        "       cust_df.credit_score)[0,1]/(cust_df.age.std() *\n",
        "                                   cust_df.credit_score.std())"
      ],
      "execution_count": null,
      "outputs": []
    },
    {
      "cell_type": "markdown",
      "metadata": {
        "id": "0oy_3E4G4l6O",
        "colab_type": "text"
      },
      "source": [
        "### 4.5.1 Correlation tests"
      ]
    },
    {
      "cell_type": "code",
      "metadata": {
        "id": "0ywSQtZ36jQo",
        "colab_type": "code",
        "colab": {}
      },
      "source": [
        "from scipy import stats\n",
        "\n",
        "stats.pearsonr(cust_df.age, cust_df.credit_score)"
      ],
      "execution_count": null,
      "outputs": []
    },
    {
      "cell_type": "markdown",
      "metadata": {
        "id": "E4HnX2_37Zuf",
        "colab_type": "text"
      },
      "source": [
        "### Correlation matrices"
      ]
    },
    {
      "cell_type": "code",
      "metadata": {
        "id": "1t2hfypg4Lky",
        "colab_type": "code",
        "colab": {}
      },
      "source": [
        "cust_df.corr()"
      ],
      "execution_count": null,
      "outputs": []
    },
    {
      "cell_type": "code",
      "metadata": {
        "id": "Mhgr8DMt8xB5",
        "colab_type": "code",
        "colab": {}
      },
      "source": [
        "plt.imshow(cust_df.corr())\n",
        "plt.colorbar()"
      ],
      "execution_count": null,
      "outputs": []
    },
    {
      "cell_type": "code",
      "metadata": {
        "id": "SqjbIUt38-LK",
        "colab_type": "code",
        "colab": {}
      },
      "source": [
        "sns.heatmap(cust_df.corr(), center=0)"
      ],
      "execution_count": null,
      "outputs": []
    },
    {
      "cell_type": "code",
      "metadata": {
        "id": "DJLJuigD9qdC",
        "colab_type": "code",
        "colab": {}
      },
      "source": [
        "sns.heatmap(cust_df.corr(),\n",
        "            vmin=-0.3,\n",
        "            vmax=0.6,\n",
        "            center=0,\n",
        "            annot=True,\n",
        "            fmt='.2f',\n",
        "            mask=~np.tri(cust_df.corr().shape[1], k=-1, dtype=bool),\n",
        "            cbar=False)"
      ],
      "execution_count": null,
      "outputs": []
    },
    {
      "cell_type": "markdown",
      "metadata": {
        "id": "Bx_YdcB8_DWg",
        "colab_type": "text"
      },
      "source": [
        "### 4.5.3 Transforming variables before computing correlations"
      ]
    },
    {
      "cell_type": "code",
      "metadata": {
        "id": "IxlLKcs--IDU",
        "colab_type": "code",
        "colab": {}
      },
      "source": [
        "x = np.random.uniform(low=-10, high=10, size=1000)\n",
        "np.corrcoef(x, x**2)"
      ],
      "execution_count": null,
      "outputs": []
    },
    {
      "cell_type": "code",
      "metadata": {
        "id": "ENauX6rFBWop",
        "colab_type": "code",
        "colab": {}
      },
      "source": [
        "np.corrcoef(cust_df.distance_to_store, cust_df.store_spend)"
      ],
      "execution_count": null,
      "outputs": []
    },
    {
      "cell_type": "code",
      "metadata": {
        "id": "Axb8fVvbBhVz",
        "colab_type": "code",
        "colab": {}
      },
      "source": [
        "np.corrcoef(1/cust_df.distance_to_store, cust_df.store_spend)"
      ],
      "execution_count": null,
      "outputs": []
    },
    {
      "cell_type": "code",
      "metadata": {
        "id": "SEV7wXKaBkJz",
        "colab_type": "code",
        "colab": {}
      },
      "source": [
        "np.corrcoef(1/np.sqrt(cust_df.distance_to_store),\n",
        "            cust_df.store_spend)"
      ],
      "execution_count": null,
      "outputs": []
    },
    {
      "cell_type": "code",
      "metadata": {
        "id": "y3HEZ1SnBpHT",
        "colab_type": "code",
        "colab": {}
      },
      "source": [
        "plt.scatter(cust_df.distance_to_store, cust_df.store_spend)\n",
        "plt.xlabel('Distance to store')"
      ],
      "execution_count": null,
      "outputs": []
    },
    {
      "cell_type": "code",
      "metadata": {
        "id": "8LXJOqYvBzUE",
        "colab_type": "code",
        "colab": {}
      },
      "source": [
        "plt.scatter(1/np.sqrt(cust_df.distance_to_store), cust_df.store_spend)\n",
        "plt.xlabel('1/sqrt(distance_to_store)')"
      ],
      "execution_count": null,
      "outputs": []
    },
    {
      "cell_type": "markdown",
      "metadata": {
        "id": "LKo43jPPCgWZ",
        "colab_type": "text"
      },
      "source": [
        "### 4.5.5 Box-Cox transformations"
      ]
    },
    {
      "cell_type": "code",
      "metadata": {
        "id": "tfc2sdlXCQPS",
        "colab_type": "code",
        "colab": {}
      },
      "source": [
        "dts_bc, lmda = stats.boxcox(cust_df.distance_to_store)\n",
        "lmda"
      ],
      "execution_count": null,
      "outputs": []
    },
    {
      "cell_type": "code",
      "metadata": {
        "id": "0WHkSs1vET4i",
        "colab_type": "code",
        "colab": {}
      },
      "source": [
        "plt.figure(figsize=(8,4))\n",
        "plt.subplot(1,2,1)\n",
        "plt.hist(cust_df.distance_to_store,\n",
        "         bins=20,\n",
        "         edgecolor='k',\n",
        "         facecolor='none',\n",
        "         linewidth=1.2)\n",
        "plt.xlabel('Distance to nearest store')\n",
        "plt.ylabel('Count of customers')\n",
        "plt.box(False)\n",
        "plt.subplot(1,2,2)\n",
        "plt.hist(dts_bc,\n",
        "         bins=20,\n",
        "         edgecolor='k',\n",
        "         facecolor='none',\n",
        "         linewidth=1.2)\n",
        "plt.xlabel('Box-Cox transform of distance')\n",
        "plt.ylabel('Count of customers')\n",
        "plt.box(False)"
      ],
      "execution_count": null,
      "outputs": []
    },
    {
      "cell_type": "code",
      "metadata": {
        "id": "v5yprN2ow0Cb",
        "colab_type": "code",
        "colab": {}
      },
      "source": [
        "sspend_bc, lmda_age = stats.boxcox(cust_df.age)\n",
        "lmda_age"
      ],
      "execution_count": null,
      "outputs": []
    },
    {
      "cell_type": "code",
      "metadata": {
        "id": "j4PU9Z7LGp-P",
        "colab_type": "code",
        "colab": {}
      },
      "source": [
        "sspend_bc, lmda_sspend = stats.boxcox(cust_df.store_spend+.001)\n",
        "lmda_sspend"
      ],
      "execution_count": null,
      "outputs": []
    },
    {
      "cell_type": "code",
      "metadata": {
        "id": "QqKcYV5aGsjX",
        "colab_type": "code",
        "colab": {}
      },
      "source": [
        "np.corrcoef(cust_df.distance_to_store, cust_df.store_spend)"
      ],
      "execution_count": null,
      "outputs": []
    },
    {
      "cell_type": "code",
      "metadata": {
        "id": "gSzut1XlGwGZ",
        "colab_type": "code",
        "colab": {}
      },
      "source": [
        "np.corrcoef(dts_bc, sspend_bc)"
      ],
      "execution_count": null,
      "outputs": []
    },
    {
      "cell_type": "markdown",
      "metadata": {
        "id": "-w_dtRgbHpKG",
        "colab_type": "text"
      },
      "source": [
        "## 4.6 Exploring associations in survey responses"
      ]
    },
    {
      "cell_type": "code",
      "metadata": {
        "id": "Pe5XZJ2CHmQP",
        "colab_type": "code",
        "colab": {}
      },
      "source": [
        "plt.scatter(x=cust_df.sat_service,\n",
        "            y=cust_df.sat_selection,\n",
        "            c='none',\n",
        "            edgecolor='darkblue')\n",
        "plt.xlabel('Customer satisfaction with service')\n",
        "plt.ylabel('Customer satisfaction with selection')"
      ],
      "execution_count": null,
      "outputs": []
    },
    {
      "cell_type": "code",
      "metadata": {
        "id": "hvfbDl6zIlBY",
        "colab_type": "code",
        "colab": {}
      },
      "source": [
        "plt.scatter(x=cust_df.sat_service + np.random.normal(scale=0.1,\n",
        "                                                     size=n_cust),\n",
        "            y=cust_df.sat_selection + np.random.normal(scale=0.1,\n",
        "                                                       size=n_cust),\n",
        "            c='none',\n",
        "            edgecolor='darkblue')\n",
        "plt.xlabel('Customer satisfaction with service')\n",
        "plt.ylabel('Customer satisfaction with selection')"
      ],
      "execution_count": null,
      "outputs": []
    },
    {
      "cell_type": "code",
      "metadata": {
        "id": "womRBew8OLkf",
        "colab_type": "code",
        "colab": {}
      },
      "source": [
        "!python --version"
      ],
      "execution_count": null,
      "outputs": []
    },
    {
      "cell_type": "code",
      "metadata": {
        "id": "qqYIYsilQmMs",
        "colab_type": "code",
        "colab": {}
      },
      "source": [
        ""
      ],
      "execution_count": null,
      "outputs": []
    }
  ]
}