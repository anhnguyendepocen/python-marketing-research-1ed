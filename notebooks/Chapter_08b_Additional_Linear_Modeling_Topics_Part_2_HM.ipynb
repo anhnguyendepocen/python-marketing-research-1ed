{
  "nbformat": 4,
  "nbformat_minor": 0,
  "metadata": {
    "colab": {
      "name": "Chapter 8 – Additional Linear Modeling Topics: Part 2 HM",
      "provenance": [],
      "collapsed_sections": []
    },
    "kernelspec": {
      "name": "python3",
      "display_name": "Python 3"
    }
  },
  "cells": [
    {
      "cell_type": "markdown",
      "metadata": {
        "id": "B9_vILsVaCv7",
        "colab_type": "text"
      },
      "source": [
        "## 8.3 An introduction to Hierarchical Models"
      ]
    },
    {
      "cell_type": "markdown",
      "metadata": {
        "id": "m7C0Rq_raNaE",
        "colab_type": "text"
      },
      "source": [
        "### Ratings-Based Conjoint Analysis for the Amusement Park"
      ]
    },
    {
      "cell_type": "code",
      "metadata": {
        "colab_type": "code",
        "id": "mLDMvHRfak6k",
        "colab": {}
      },
      "source": [
        "import pandas as pd\n",
        "conjoint_df = pd.read_csv('http://bit.ly/PMR-ch8pt3')\n",
        "conjoint_df.head() # Not shown\n",
        "conjoint_df.describe(include='all') # Not shown"
      ],
      "execution_count": 0,
      "outputs": []
    },
    {
      "cell_type": "code",
      "metadata": {
        "id": "jAK7gxvGamN2",
        "colab_type": "code",
        "colab": {}
      },
      "source": [
        "import pandas as pd\n",
        "import numpy as np\n",
        "np.random.seed(89745)\n",
        "response_id = range(200) # respondent ids\n",
        "n_questions = 16 # number of conjoint ratings per respondent\n",
        "speed_options = ['40', '50', '60', '70']\n",
        "speed = np.random.choice(speed_options,\n",
        "                         size=n_questions,\n",
        "                         replace=True)\n",
        "height_options = ['200', '300', '400']\n",
        "height = np.random.choice(height_options,\n",
        "                         size=n_questions,\n",
        "                         replace=True)\n",
        "const_options = ['Steel', 'Wood']\n",
        "const= np.random.choice(const_options,\n",
        "                         size=n_questions,\n",
        "                         replace=True)\n",
        "theme_options = ['Dragon', 'Eagle']\n",
        "theme = np.random.choice(theme_options,\n",
        "                         size=n_questions,\n",
        "                         replace=True)"
      ],
      "execution_count": 0,
      "outputs": []
    },
    {
      "cell_type": "code",
      "metadata": {
        "id": "8tC99OJ5Hhpy",
        "colab_type": "code",
        "colab": {}
      },
      "source": [
        "profiles_df = pd.DataFrame([speed, height, const, theme],\n",
        "                           index=['speed', 'height', 'const', 'theme']).T\n",
        "profiles_df"
      ],
      "execution_count": 0,
      "outputs": []
    },
    {
      "cell_type": "code",
      "metadata": {
        "id": "JdOqKXQ1beMz",
        "colab_type": "code",
        "colab": {}
      },
      "source": [
        "profile_dummies = pd.get_dummies(profiles_df)\n",
        "profile_dummies.drop(\n",
        "    ['speed_40', 'height_200', 'const_Steel', 'theme_Dragon'],\n",
        "    axis=1, inplace=True)\n",
        "profiles_model = pd.concat(\n",
        "    [pd.Series(np.ones(16, dtype=int), name='Intercept'),\n",
        "     profile_dummies],\n",
        "    axis=1)\n",
        "profiles_model"
      ],
      "execution_count": 0,
      "outputs": []
    },
    {
      "cell_type": "code",
      "metadata": {
        "id": "-OMIlRGYHhhs",
        "colab_type": "code",
        "colab": {}
      },
      "source": [
        "weights = np.random.multivariate_normal(\n",
        "    mean=[-3, 0.5, 1, 3, 2, 1, -0.2, -0.5],\n",
        "    cov=np.diag([0.2, 0.1, 0.1, 0.1, 0.2, 0.3, 1, 1]),\n",
        "    size=len(response_id)\n",
        ")"
      ],
      "execution_count": 0,
      "outputs": []
    },
    {
      "cell_type": "code",
      "metadata": {
        "id": "FBbkhWb9MvVU",
        "colab_type": "code",
        "colab": {}
      },
      "source": [
        "conjoint_df = pd.DataFrame()\n",
        "for i in response_id:\n",
        "  utility = (\n",
        "      (profiles_model * weights[i]).sum(axis=1)\n",
        "      + np.random.normal(size=16))\n",
        "  ratings = pd.cut(utility, 10, labels=range(1,11))\n",
        "  conjoint_resp = profiles_df.copy()\n",
        "  conjoint_resp['rating'] = pd.to_numeric(ratings)\n",
        "  conjoint_resp['resp_id'] = i\n",
        "  conjoint_df = conjoint_df.append(conjoint_resp,\n",
        "                                   ignore_index=True)\n",
        "conjoint_df.head()"
      ],
      "execution_count": 0,
      "outputs": []
    },
    {
      "cell_type": "code",
      "metadata": {
        "id": "YBbd7AYOMvSr",
        "colab_type": "code",
        "colab": {}
      },
      "source": [
        "conjoint_df.describe(include='all')"
      ],
      "execution_count": 0,
      "outputs": []
    },
    {
      "cell_type": "markdown",
      "metadata": {
        "id": "YeNfMlJ9YfPw",
        "colab_type": "text"
      },
      "source": [
        "### 8.3.4 An Initial Linear Model"
      ]
    },
    {
      "cell_type": "code",
      "metadata": {
        "id": "nKG2O6Opb63x",
        "colab_type": "code",
        "colab": {}
      },
      "source": [
        "conjoint_df.groupby('height').rating.mean()"
      ],
      "execution_count": 0,
      "outputs": []
    },
    {
      "cell_type": "code",
      "metadata": {
        "id": "EpXVThPuXKb2",
        "colab_type": "code",
        "colab": {}
      },
      "source": [
        "import statsmodels.formula.api as smf\n",
        "ride_lm = smf.ols('rating ~ speed + height + const + theme',\n",
        "                    data=conjoint_df).fit()\n",
        "ride_lm.summary()"
      ],
      "execution_count": 0,
      "outputs": []
    },
    {
      "cell_type": "markdown",
      "metadata": {
        "id": "85eyAA0CeLhk",
        "colab_type": "text"
      },
      "source": [
        "### 8.3.5 Hierarchical Linear Model with statsmodels"
      ]
    },
    {
      "cell_type": "code",
      "metadata": {
        "id": "4Ng3-l6xzegt",
        "colab_type": "code",
        "colab": {}
      },
      "source": [
        "ride_hlm_1 = smf.mixedlm('rating ~ speed + height + const + theme',\n",
        "                         data=conjoint_df,\n",
        "                         groups=conjoint_df['resp_id'],\n",
        "                         re_formula='~ 1')\n",
        "ride_hlm_1_f = ride_hlm_1.fit()\n",
        "ride_hlm_1_f.summary()"
      ],
      "execution_count": 0,
      "outputs": []
    },
    {
      "cell_type": "code",
      "metadata": {
        "id": "s0t9c0x9u2as",
        "colab_type": "code",
        "colab": {}
      },
      "source": [
        "ride_hlm_1_f.fe_params"
      ],
      "execution_count": 0,
      "outputs": []
    },
    {
      "cell_type": "code",
      "metadata": {
        "id": "p78xJ5oeGDo4",
        "colab_type": "code",
        "colab": {}
      },
      "source": [
        "re_params = pd.DataFrame(ride_hlm_1_f.random_effects).T\n",
        "re_params.head()"
      ],
      "execution_count": 0,
      "outputs": []
    },
    {
      "cell_type": "code",
      "metadata": {
        "id": "u-zXgWJkTt__",
        "colab_type": "code",
        "colab": {}
      },
      "source": [
        "ride_hlm_1_f_coef = \\\n",
        "  ride_hlm_1_f.fe_params.to_frame().T\\\n",
        "    .iloc[np.zeros(len(re_params))]\n",
        "ride_hlm_1_f_coef.index = range(len(re_params))\n",
        "ride_hlm_1_f_coef.Intercept += re_params.Group\n",
        "\n",
        "ride_hlm_1_f_coef.head()"
      ],
      "execution_count": 0,
      "outputs": []
    },
    {
      "cell_type": "markdown",
      "metadata": {
        "id": "SK02V1F0w001",
        "colab_type": "text"
      },
      "source": [
        "### 8.3.6 The Complete Hierarchical Linear Model"
      ]
    },
    {
      "cell_type": "code",
      "metadata": {
        "id": "T_Y4Hrd6i2xh",
        "colab_type": "code",
        "colab": {}
      },
      "source": [
        "np.random.seed(89745)\n",
        "ride_hlm_2 = smf.mixedlm('rating ~ speed + height + const + theme',\n",
        "                         data=conjoint_df,\n",
        "                         groups=conjoint_df['resp_id'],\n",
        "                         re_formula='~ speed + height + const + theme')\n",
        "ride_hlm_2_f = ride_hlm_2.fit(maxiter=1000, method='nm')"
      ],
      "execution_count": 0,
      "outputs": []
    },
    {
      "cell_type": "code",
      "metadata": {
        "id": "FQD-bdCiKKIe",
        "colab_type": "code",
        "colab": {}
      },
      "source": [
        "ride_hlm_2_f.fe_params"
      ],
      "execution_count": 0,
      "outputs": []
    },
    {
      "cell_type": "code",
      "metadata": {
        "id": "JTdVvswnXKJV",
        "colab_type": "code",
        "colab": {}
      },
      "source": [
        "ride_hlm_2_f_re_df = pd.DataFrame(ride_hlm_2_f.random_effects).T\n",
        "ride_hlm_2_f_re_df.rename({'Group': 'Intercept'},\n",
        "                          axis=1, inplace=True)\n",
        "ride_hlm_2_f_re_df.head()"
      ],
      "execution_count": 0,
      "outputs": []
    },
    {
      "cell_type": "code",
      "metadata": {
        "id": "kVJqkA7KVUGY",
        "colab_type": "code",
        "colab": {}
      },
      "source": [
        "hlm_2_f_coef = ride_hlm_2_f_re_df + ride_hlm_2_f.fe_params\n",
        "hlm_2_f_coef.head()"
      ],
      "execution_count": 0,
      "outputs": []
    },
    {
      "cell_type": "markdown",
      "metadata": {
        "id": "bhRjuOLFmE2m",
        "colab_type": "text"
      },
      "source": [
        "### 8.3.7 Interpreting random effects"
      ]
    },
    {
      "cell_type": "code",
      "metadata": {
        "id": "gbv90md2obb0",
        "colab_type": "code",
        "colab": {}
      },
      "source": [
        "import seaborn as sns\n",
        "\n",
        "sns.heatmap(hlm_2_f_coef.iloc[:,1:].corr(), vmax=0.3)"
      ],
      "execution_count": 0,
      "outputs": []
    },
    {
      "cell_type": "code",
      "metadata": {
        "id": "Rnq1m2BzRrnX",
        "colab_type": "code",
        "colab": {}
      },
      "source": [
        "sns.heatmap(ride_hlm_2_f_re_df.iloc[:,1:].corr(), vmax=0.3)"
      ],
      "execution_count": 0,
      "outputs": []
    },
    {
      "cell_type": "code",
      "metadata": {
        "id": "4DRkDOSSuJmm",
        "colab_type": "code",
        "colab": {}
      },
      "source": [
        "import matplotlib.pyplot as plt\n",
        "import seaborn as sns\n",
        "\n",
        "cg = sns.clustermap(ride_hlm_2_f_re_df.iloc[:,1:].corr(), vmax=0.5,\n",
        "                    vmin=-0.5,cmap=plt.cm.bwr, center=0)\n",
        "plt.setp(cg.ax_heatmap.yaxis.get_majorticklabels(), rotation=0)\n",
        "plt.setp(cg.ax_heatmap.xaxis.get_majorticklabels(), rotation=45)"
      ],
      "execution_count": 0,
      "outputs": []
    },
    {
      "cell_type": "code",
      "metadata": {
        "id": "U9jUBHWdogLB",
        "colab_type": "code",
        "colab": {}
      },
      "source": [
        "import matplotlib.pyplot as plt\n",
        "import seaborn as sns\n",
        "\n",
        "cg = sns.clustermap(ride_hlm_2_f_re_df.iloc[:,1:].corr(), vmax=0.5,\n",
        "                    vmin=-0.5,cmap=plt.cm.bwr, center=0)\n",
        "plt.setp(cg.ax_heatmap.yaxis.get_majorticklabels(), rotation=0)\n",
        "plt.setp(cg.ax_heatmap.xaxis.get_majorticklabels(), rotation=45)"
      ],
      "execution_count": 0,
      "outputs": []
    },
    {
      "cell_type": "code",
      "metadata": {
        "id": "doaEcehkWO5P",
        "colab_type": "code",
        "colab": {}
      },
      "source": [
        ""
      ],
      "execution_count": 0,
      "outputs": []
    }
  ]
}
