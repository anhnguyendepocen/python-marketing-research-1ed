{
  "nbformat": 4,
  "nbformat_minor": 0,
  "metadata": {
    "colab": {
      "name": "Chapter 10 - Clustering",
      "provenance": [],
      "collapsed_sections": []
    },
    "kernelspec": {
      "name": "python3",
      "display_name": "Python 3"
    }
  },
  "cells": [
    {
      "cell_type": "markdown",
      "metadata": {
        "id": "LbNZ_RxVSBfW",
        "colab_type": "text"
      },
      "source": [
        "## 10.2 Segmentation data"
      ]
    },
    {
      "cell_type": "code",
      "metadata": {
        "colab_type": "code",
        "id": "1lQSEGA6huah",
        "colab": {}
      },
      "source": [
        "%config InlineBackend.figure_format = 'svg'\n",
        "import pandas as pd\n",
        "pd.set_option('display.max_rows', 500)\n",
        "pd.set_option('display.max_columns', 500)\n",
        "pd.set_option('display.width', 70)"
      ],
      "execution_count": null,
      "outputs": []
    },
    {
      "cell_type": "code",
      "metadata": {
        "id": "9aCRs4UcD3kF",
        "colab_type": "code",
        "colab": {}
      },
      "source": [
        "import pandas as pd\n",
        "seg_df = pd.read_csv('http://bit.ly/PMR-ch5')\n",
        "seg_df.head()"
      ],
      "execution_count": null,
      "outputs": []
    },
    {
      "cell_type": "code",
      "metadata": {
        "id": "Hli3KwwpdFn8",
        "colab_type": "code",
        "colab": {}
      },
      "source": [
        "from google.colab import files\n",
        "\n",
        "f = files.upload()"
      ],
      "execution_count": null,
      "outputs": []
    },
    {
      "cell_type": "code",
      "metadata": {
        "id": "Jyi3IBI2dTje",
        "colab_type": "code",
        "colab": {}
      },
      "source": [
        "import pandas as pd\n",
        "\n",
        "seg_df = pd.read_csv('segment_dataframe_Python_intro_Ch5.csv',\n",
        "                     index_col=0)\n",
        "seg_df.head()"
      ],
      "execution_count": null,
      "outputs": []
    },
    {
      "cell_type": "code",
      "metadata": {
        "id": "MHj1XO5kQysK",
        "colab_type": "code",
        "colab": {}
      },
      "source": [
        "seg_df['is_female'] = seg_df.gender == 'female'\n",
        "seg_sub = seg_df.drop(['Segment', 'gender'], axis=1)\n",
        "seg_sub.head()"
      ],
      "execution_count": null,
      "outputs": []
    },
    {
      "cell_type": "code",
      "metadata": {
        "id": "7lGDS89BKdcv",
        "colab_type": "code",
        "colab": {}
      },
      "source": [
        "from sklearn import preprocessing\n",
        "\n",
        "seg_sc = pd.DataFrame(preprocessing.scale(seg_sub),\n",
        "                      columns=seg_sub.columns)\n",
        "seg_sc.head()"
      ],
      "execution_count": null,
      "outputs": []
    },
    {
      "cell_type": "markdown",
      "metadata": {
        "id": "TOV7rLuSR9YW",
        "colab_type": "text"
      },
      "source": [
        "### 10.3 Check function"
      ]
    },
    {
      "cell_type": "code",
      "metadata": {
        "id": "0i7pf5jEPrpU",
        "colab_type": "code",
        "colab": {}
      },
      "source": [
        "pd.pivot_table(seg_sub, index=seg_df.Segment)"
      ],
      "execution_count": null,
      "outputs": []
    },
    {
      "cell_type": "code",
      "metadata": {
        "id": "i8bvDrvHFfi_",
        "colab_type": "code",
        "colab": {}
      },
      "source": [
        "import numpy as np\n",
        "\n",
        "# Output not shown\n",
        "pd.pivot_table(seg_sub, index=seg_df.Segment,\n",
        "               aggfunc=[np.mean, np.std]).unstack()"
      ],
      "execution_count": null,
      "outputs": []
    },
    {
      "cell_type": "code",
      "metadata": {
        "id": "nSe_29eMFnMH",
        "colab_type": "code",
        "colab": {}
      },
      "source": [
        "pd.pivot_table(seg_sub, index=seg_df.Segment,\n",
        "               aggfunc=lambda x: np.percentile(x, 95))"
      ],
      "execution_count": null,
      "outputs": []
    },
    {
      "cell_type": "code",
      "metadata": {
        "id": "mlsU3tZiIU9i",
        "colab_type": "code",
        "colab": {}
      },
      "source": [
        "def check_clusters(data, labels):\n",
        "  return pd.pivot_table(data,\n",
        "                        index=labels)\n",
        "\n",
        "check_clusters(seg_sub, seg_df.Segment)"
      ],
      "execution_count": null,
      "outputs": []
    },
    {
      "cell_type": "markdown",
      "metadata": {
        "id": "s1pHhoAkJL_w",
        "colab_type": "text"
      },
      "source": [
        "### 10.3.2 Hierarchical clustering and distances"
      ]
    },
    {
      "cell_type": "code",
      "metadata": {
        "id": "T9rdVvfgEf8G",
        "colab_type": "code",
        "colab": {}
      },
      "source": [
        "# Vector of differences\n",
        "np.array([1, 2, 3]) - np.array([2, 3, 2])"
      ],
      "execution_count": null,
      "outputs": []
    },
    {
      "cell_type": "code",
      "metadata": {
        "id": "6tqUfO7eEphq",
        "colab_type": "code",
        "colab": {}
      },
      "source": [
        "# Sum of the squared distances\n",
        "np.sum((np.array([1, 2, 3]) - np.array([2, 3, 2]))**2)"
      ],
      "execution_count": null,
      "outputs": []
    },
    {
      "cell_type": "code",
      "metadata": {
        "id": "EUh5eEBUE1ij",
        "colab_type": "code",
        "colab": {}
      },
      "source": [
        "# Root sum of the squared distances\n",
        "np.sqrt(np.sum((np.array([1, 2, 3]) - np.array([2, 3, 2]))**2))"
      ],
      "execution_count": null,
      "outputs": []
    },
    {
      "cell_type": "code",
      "metadata": {
        "id": "3n9a1hA1E790",
        "colab_type": "code",
        "colab": {}
      },
      "source": [
        "from scipy.spatial import distance\n",
        "\n",
        "distance.pdist([np.array([1, 2, 3]), np.array([2, 3, 2])])"
      ],
      "execution_count": null,
      "outputs": []
    },
    {
      "cell_type": "code",
      "metadata": {
        "id": "C_AqTsuBF3J0",
        "colab_type": "code",
        "colab": {}
      },
      "source": [
        "distance.pdist(seg_sc.iloc[:3])"
      ],
      "execution_count": null,
      "outputs": []
    },
    {
      "cell_type": "code",
      "metadata": {
        "id": "spg803CSFpyK",
        "colab_type": "code",
        "colab": {}
      },
      "source": [
        "distance.squareform(distance.pdist(seg_sc.iloc[:3]))"
      ],
      "execution_count": null,
      "outputs": []
    },
    {
      "cell_type": "code",
      "metadata": {
        "id": "fWsI0DsJK1uk",
        "colab_type": "code",
        "colab": {}
      },
      "source": [
        "import matplotlib.pyplot as plt\n",
        "plt.style.use('seaborn-white')\n",
        "\n",
        "plt.figure(figsize=(10,5))\n",
        "plt.subplot(1,2,1)\n",
        "plt.hist(distance.pdist(seg_sub))\n",
        "plt.title('Pairwise distances from unscaled data')\n",
        "plt.xlabel('Distance')\n",
        "plt.ylabel('Count')\n",
        "plt.subplot(1,2,2)\n",
        "plt.hist(distance.pdist(seg_sc))\n",
        "plt.xlabel('Distance')\n",
        "plt.ylabel('Count')\n",
        "plt.title('Pairwise distances from scaled data')"
      ],
      "execution_count": null,
      "outputs": []
    },
    {
      "cell_type": "code",
      "metadata": {
        "id": "cOciL39NJMlS",
        "colab_type": "code",
        "colab": {}
      },
      "source": [
        "from scipy.cluster import hierarchy\n",
        "\n",
        "linkages = hierarchy.linkage(seg_sc, method='ward')"
      ],
      "execution_count": null,
      "outputs": []
    },
    {
      "cell_type": "code",
      "metadata": {
        "id": "7fQsDALTLMUR",
        "colab_type": "code",
        "colab": {}
      },
      "source": [
        "hierarchy.dendrogram(linkages)\n",
        "plt.show()"
      ],
      "execution_count": null,
      "outputs": []
    },
    {
      "cell_type": "code",
      "metadata": {
        "id": "oFMiK6pLXfNx",
        "colab_type": "code",
        "colab": {}
      },
      "source": [
        "hierarchy.dendrogram(linkages, orientation='top',\n",
        "                     truncate_mode='lastp', p=20)\n",
        "plt.show()"
      ],
      "execution_count": null,
      "outputs": []
    },
    {
      "cell_type": "code",
      "metadata": {
        "id": "1HR86_rUqttU",
        "colab_type": "code",
        "colab": {}
      },
      "source": [
        "plt.subplot(1,2,1)\n",
        "hierarchy.dendrogram(linkages, leaf_rotation=0)\n",
        "plt.xlim((0,200))\n",
        "plt.subplot(1,2,2)\n",
        "hierarchy.dendrogram(linkages, leaf_rotation=0)\n",
        "plt.xlim((2800, 3000))\n",
        "plt.show()"
      ],
      "execution_count": null,
      "outputs": []
    },
    {
      "cell_type": "code",
      "metadata": {
        "id": "qMDXG5tAWoYl",
        "colab_type": "code",
        "colab": {}
      },
      "source": [
        "# Similar\n",
        "seg_sub.loc[[17, 51]]"
      ],
      "execution_count": null,
      "outputs": []
    },
    {
      "cell_type": "code",
      "metadata": {
        "id": "8V044ER0yTSG",
        "colab_type": "code",
        "colab": {}
      },
      "source": [
        "# Dissimilar\n",
        "seg_sub.loc[[163, 88]]"
      ],
      "execution_count": null,
      "outputs": []
    },
    {
      "cell_type": "code",
      "metadata": {
        "id": "j__c7IURW0HM",
        "colab_type": "code",
        "colab": {}
      },
      "source": [
        "# Dissimilar\n",
        "seg_sub.loc[[17,163]]"
      ],
      "execution_count": null,
      "outputs": []
    },
    {
      "cell_type": "code",
      "metadata": {
        "id": "jnC-o4PtUP5V",
        "colab_type": "code",
        "colab": {}
      },
      "source": [
        "hierarchy.cophenet(linkages, distance.pdist(seg_sc))[0]"
      ],
      "execution_count": null,
      "outputs": []
    },
    {
      "cell_type": "code",
      "metadata": {
        "id": "KrRtSYOr2-on",
        "colab_type": "code",
        "colab": {}
      },
      "source": [
        "# Not shown\n",
        "hierarchy.dendrogram(linkages, color_threshold=9)\n",
        "plt.show()"
      ],
      "execution_count": null,
      "outputs": []
    },
    {
      "cell_type": "code",
      "metadata": {
        "id": "zc_IomE0LMRJ",
        "colab_type": "code",
        "colab": {}
      },
      "source": [
        "labels = hierarchy.fcluster(linkages, t=4, criterion='maxclust')\n",
        "list(zip(*np.unique(labels, return_counts=True)))"
      ],
      "execution_count": null,
      "outputs": []
    },
    {
      "cell_type": "code",
      "metadata": {
        "id": "RJaBEoII4GUX",
        "colab_type": "code",
        "colab": {}
      },
      "source": [
        "check_clusters(seg_sub, labels)"
      ],
      "execution_count": null,
      "outputs": []
    },
    {
      "cell_type": "code",
      "metadata": {
        "id": "DulXcy_WFcBi",
        "colab_type": "code",
        "colab": {}
      },
      "source": [
        "linkages_unscaled = hierarchy.linkage(seg_sub, method='ward')\n",
        "hierarchy.dendrogram(linkages_unscaled)\n",
        "plt.show()"
      ],
      "execution_count": null,
      "outputs": []
    },
    {
      "cell_type": "code",
      "metadata": {
        "id": "TUc6kyFdAkc_",
        "colab_type": "code",
        "colab": {}
      },
      "source": [
        "labels_unscaled = hierarchy.fcluster(linkages_unscaled, t=3,\n",
        "                                     criterion='maxclust')\n",
        "check_clusters(seg_sub, labels_unscaled)"
      ],
      "execution_count": null,
      "outputs": []
    },
    {
      "cell_type": "code",
      "metadata": {
        "id": "PSG9Y0QzKvOq",
        "colab_type": "code",
        "colab": {}
      },
      "source": [
        "def cluster_plot_raw(x, y, labels):\n",
        "  for l in np.unique(labels):\n",
        "    idx = labels == l\n",
        "    plt.scatter(x[idx],\n",
        "                y[idx],\n",
        "                label=l)\n",
        "  plt.legend()\n",
        "  plt.xlabel(x.name)\n",
        "  plt.ylabel(y.name)"
      ],
      "execution_count": null,
      "outputs": []
    },
    {
      "cell_type": "code",
      "metadata": {
        "id": "yzCPUMRvKxUx",
        "colab_type": "code",
        "colab": {}
      },
      "source": [
        "cluster_plot_raw(seg_sub.age, seg_sub.income, labels_unscaled)"
      ],
      "execution_count": null,
      "outputs": []
    },
    {
      "cell_type": "markdown",
      "metadata": {
        "id": "YlQ1LbB_dyRl",
        "colab_type": "text"
      },
      "source": [
        "### 10.3.3 Mean-based clustering: K-*means*"
      ]
    },
    {
      "cell_type": "code",
      "metadata": {
        "id": "70WmSCsSQcV2",
        "colab_type": "code",
        "colab": {}
      },
      "source": [
        "def check_clusters(data, labels):\n",
        "  print(list(zip(*np.unique(labels, return_counts=True))))\n",
        "  \n",
        "  return pd.pivot_table(data,\n",
        "                        index=labels)"
      ],
      "execution_count": null,
      "outputs": []
    },
    {
      "cell_type": "code",
      "metadata": {
        "id": "01wmfLsuRJzv",
        "colab_type": "code",
        "colab": {}
      },
      "source": [
        "import numpy as np\n",
        "from sklearn import cluster\n",
        "\n",
        "np.random.seed(536)\n",
        "centroids, labels, inertia = cluster.k_means(seg_sc, n_clusters=4)\n",
        "check_clusters(seg_sub, labels)"
      ],
      "execution_count": null,
      "outputs": []
    },
    {
      "cell_type": "code",
      "metadata": {
        "colab_type": "code",
        "id": "T84-A5ESkcqg",
        "colab": {}
      },
      "source": [
        "centroids, k_labels_unscaled4, inertia = cluster.k_means(seg_sub,\n",
        "                                                         n_clusters=4)\n",
        "check_clusters(seg_sub, k_labels_unscaled4)"
      ],
      "execution_count": null,
      "outputs": []
    },
    {
      "cell_type": "code",
      "metadata": {
        "id": "z21zSuHtQ3FE",
        "colab_type": "code",
        "colab": {}
      },
      "source": [
        "centroids, k_labels_unscaled3, inertia = cluster.k_means(seg_sub,\n",
        "                                                         n_clusters=3)\n",
        "check_clusters(seg_sub, k_labels_unscaled3)"
      ],
      "execution_count": null,
      "outputs": []
    },
    {
      "cell_type": "code",
      "metadata": {
        "id": "WrUmCv6BX9px",
        "colab_type": "code",
        "colab": {}
      },
      "source": [
        "import matplotlib.pyplot as plt\n",
        "seg_sub.boxplot(column='income', by=k_labels_unscaled4)\n",
        "plt.xlabel('Cluster')\n",
        "plt.ylabel('Income')\n",
        "plt.suptitle('') # Remove cluster id subtitle"
      ],
      "execution_count": null,
      "outputs": []
    },
    {
      "cell_type": "code",
      "metadata": {
        "id": "22qImebHQm2G",
        "colab_type": "code",
        "colab": {}
      },
      "source": [
        "from sklearn import decomposition\n",
        "from matplotlib import cm\n",
        "\n",
        "def cluster_plot(data_df, labels):\n",
        "  p = decomposition.PCA(random_state=132, svd_solver='full')\n",
        "  scaled_transformed = p.fit_transform(preprocessing.scale(data_df))\n",
        "  for l in np.unique(labels):\n",
        "    idx = np.where(labels == l)[0]\n",
        "    plt.scatter(scaled_transformed[idx, 0],\n",
        "                scaled_transformed[idx, 1],\n",
        "                label=l)\n",
        "  plt.legend()\n",
        "  plt.title('First two components explain {}% of the variance'\n",
        "            .format(round(100*p.explained_variance_ratio_[:2].sum())))\n",
        "  plt.xlabel('First principal component')\n",
        "  plt.ylabel('Second principal component')\n",
        "\n",
        "cluster_plot(seg_sub, k_labels_unscaled4)"
      ],
      "execution_count": null,
      "outputs": []
    },
    {
      "cell_type": "markdown",
      "metadata": {
        "id": "2uhiNFLCcS_G",
        "colab_type": "text"
      },
      "source": [
        "### 10.3.5 Model-based clustering: Gaussian Mixture Models"
      ]
    },
    {
      "cell_type": "code",
      "metadata": {
        "id": "olxjJAvMz07P",
        "colab_type": "code",
        "colab": {}
      },
      "source": [
        "from sklearn import mixture\n",
        "\n",
        "gmm4 = mixture.GaussianMixture(n_components=4,\n",
        "                              covariance_type='full',\n",
        "                              random_state=323).fit(seg_sub)\n",
        "gmm4_labels = gmm4.predict(seg_sub)\n",
        "gmm4.bic(seg_sub)"
      ],
      "execution_count": null,
      "outputs": []
    },
    {
      "cell_type": "code",
      "metadata": {
        "id": "6SefFWddz-k_",
        "colab_type": "code",
        "colab": {}
      },
      "source": [
        "check_clusters(seg_sub, gmm4_labels)"
      ],
      "execution_count": null,
      "outputs": []
    },
    {
      "cell_type": "code",
      "metadata": {
        "id": "K6hFW74lBgPe",
        "colab_type": "code",
        "colab": {}
      },
      "source": [
        "gmm_n_test = [mixture.GaussianMixture(n_components=n,\n",
        "                                      covariance_type='full',\n",
        "                                      random_state=323)\n",
        "                       .fit(seg_sub) for n in range(1,14)]\n",
        "plt.plot(range(1, 14), [g.bic(seg_sub) for g in gmm_n_test])"
      ],
      "execution_count": null,
      "outputs": []
    },
    {
      "cell_type": "code",
      "metadata": {
        "id": "HLgXR24kBgL-",
        "colab_type": "code",
        "colab": {}
      },
      "source": [
        "gmm_n_v_test = {v: [mixture.GaussianMixture(n_components=n,\n",
        "                                        covariance_type=v,\n",
        "                                        random_state=323)\n",
        "                       .fit(seg_sub) for n in range(1,14)]\n",
        "                for v in ['full', 'tied', 'diag', 'spherical']}\n",
        "gmm_n_v_test_bic = {v: [g.bic(seg_sub) for g in m]\n",
        "                    for v, m in gmm_n_v_test.items()}\n",
        "pd.DataFrame(gmm_n_v_test_bic).plot()"
      ],
      "execution_count": null,
      "outputs": []
    },
    {
      "cell_type": "code",
      "metadata": {
        "id": "eLP8QOd7DiFb",
        "colab_type": "code",
        "colab": {}
      },
      "source": [
        "gmm_n_v_test = {v: [mixture.GaussianMixture(n_components=n,\n",
        "                                        covariance_type=v,\n",
        "                                        random_state=323)\n",
        "                       .fit(seg_sc) for n in range(1,14)]\n",
        "                for v in ['full', 'tied', 'diag', 'spherical']}\n",
        "gmm_n_v_test_bic = {v: [g.bic(seg_sc) for g in m]\n",
        "                    for v, m in gmm_n_v_test.items()}\n",
        "pd.DataFrame(gmm_n_v_test_bic).plot()"
      ],
      "execution_count": null,
      "outputs": []
    },
    {
      "cell_type": "code",
      "metadata": {
        "id": "-3CtaMR5fa2T",
        "colab_type": "code",
        "colab": {}
      },
      "source": [
        "gmm5 = mixture.GaussianMixture(n_components=5,\n",
        "                               covariance_type='diag',\n",
        "                               random_state=323).fit(seg_sub)\n",
        "gmm5_labels = gmm5.predict(seg_sub)"
      ],
      "execution_count": null,
      "outputs": []
    },
    {
      "cell_type": "code",
      "metadata": {
        "id": "GCACgJPNk9t9",
        "colab_type": "code",
        "colab": {}
      },
      "source": [
        "check_clusters(seg_sub, gmm5_labels)"
      ],
      "execution_count": null,
      "outputs": []
    },
    {
      "cell_type": "code",
      "metadata": {
        "id": "p8wO4NdnkuuG",
        "colab_type": "code",
        "colab": {}
      },
      "source": [
        "cluster_plot_raw(seg_sub.age, seg_sub.income, gmm5_labels)"
      ],
      "execution_count": null,
      "outputs": []
    },
    {
      "cell_type": "code",
      "metadata": {
        "id": "ENYs9dyjhRSS",
        "colab_type": "code",
        "colab": {}
      },
      "source": [
        "n_obs = seg_sub.shape[0]\n",
        "cluster_plot_raw(seg_sub.subscribe + .3*np.random.rand(n_obs),\n",
        "                 seg_sub.is_female + .3*np.random.rand(n_obs),\n",
        "                 gmm5_labels)"
      ],
      "execution_count": null,
      "outputs": []
    }
  ]
}