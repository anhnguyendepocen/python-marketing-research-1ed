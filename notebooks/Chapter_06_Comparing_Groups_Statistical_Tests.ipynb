{
  "nbformat": 4,
  "nbformat_minor": 0,
  "metadata": {
    "colab": {
      "name": "Chapter 6 - Comparing Groups: Statistical Tests",
      "provenance": [],
      "collapsed_sections": []
    },
    "kernelspec": {
      "name": "python3",
      "display_name": "Python 3"
    }
  },
  "cells": [
    {
      "cell_type": "markdown",
      "metadata": {
        "id": "Rg5e6phkBnty",
        "colab_type": "text"
      },
      "source": [
        "## 6.1 Data for Comparing Groups"
      ]
    },
    {
      "cell_type": "code",
      "metadata": {
        "colab_type": "code",
        "id": "Ci2wusAchfyR",
        "colab": {}
      },
      "source": [
        "%config InlineBackend.figure_format = 'svg'\n",
        "import pandas as pd\n",
        "pd.set_option('display.max_rows', 500)\n",
        "pd.set_option('display.max_columns', 500)\n",
        "pd.set_option('display.width', 70)"
      ],
      "execution_count": null,
      "outputs": []
    },
    {
      "cell_type": "code",
      "metadata": {
        "id": "GIUnwdWcyqdx",
        "colab_type": "code",
        "colab": {}
      },
      "source": [
        "import pandas as pd\n",
        "seg_df = pd.read_csv('http://bit.ly/PMR-ch5')\n",
        "seg_df.head()"
      ],
      "execution_count": null,
      "outputs": []
    },
    {
      "cell_type": "code",
      "metadata": {
        "id": "f4Atcpjux3Y3",
        "colab_type": "code",
        "colab": {}
      },
      "source": [
        "from google.colab import files\n",
        "import pandas as pd\n",
        "\n",
        "uploaded = files.upload()\n",
        "seg_df = pd.read_csv('segment_dataframe_Python_intro_Ch5.csv', index_col=0)\n",
        "seg_df.head()"
      ],
      "execution_count": null,
      "outputs": []
    },
    {
      "cell_type": "markdown",
      "metadata": {
        "id": "gZESoDahBq7o",
        "colab_type": "text"
      },
      "source": [
        "## 6.2 Testing Group Frequencies: chisq.test()"
      ]
    },
    {
      "cell_type": "code",
      "metadata": {
        "id": "ZcP2l9vxppQB",
        "colab_type": "code",
        "colab": {}
      },
      "source": [
        "import numpy as np\n",
        "tmp = np.repeat(range(4), [25, 25, 25, 20])\n",
        "tmp"
      ],
      "execution_count": null,
      "outputs": []
    },
    {
      "cell_type": "code",
      "metadata": {
        "id": "TWN8_tyBwECK",
        "colab_type": "code",
        "colab": {}
      },
      "source": [
        "tmp_values, tmp_counts = np.unique(tmp, return_counts=True)\n",
        "tmp_counts"
      ],
      "execution_count": null,
      "outputs": []
    },
    {
      "cell_type": "code",
      "metadata": {
        "id": "kKyCxvAjtMyU",
        "colab_type": "code",
        "colab": {}
      },
      "source": [
        "from scipy import stats\n",
        "stats.chisquare(tmp_counts)"
      ],
      "execution_count": null,
      "outputs": []
    },
    {
      "cell_type": "code",
      "metadata": {
        "id": "8sE706kjtRYF",
        "colab_type": "code",
        "colab": {}
      },
      "source": [
        "tmp_values, tmp_counts = np.unique(np.repeat(range(4),\n",
        "                                             [25, 25, 25, 10]),\n",
        "                                   return_counts=True)\n",
        "print(tmp_counts)\n",
        "print(stats.chisquare(tmp_counts))\n",
        "print('Expected values: {}'.format(np.ones(4)*tmp_counts.sum()/4))"
      ],
      "execution_count": null,
      "outputs": []
    },
    {
      "cell_type": "code",
      "metadata": {
        "id": "jeZwap_1thCc",
        "colab_type": "code",
        "colab": {}
      },
      "source": [
        "tmp_counts_small = tmp_counts/5\n",
        "print(tmp_counts_small)\n",
        "print(stats.chisquare(tmp_counts_small))\n",
        "print('Expected values: {}'.format(np.ones(4)*tmp_counts_small.sum()/4))"
      ],
      "execution_count": null,
      "outputs": []
    },
    {
      "cell_type": "code",
      "metadata": {
        "id": "qaGs97RKaCp-",
        "colab_type": "code",
        "colab": {}
      },
      "source": [
        "tmp_counts_large = tmp_counts*10 + 1900\n",
        "print(tmp_counts_large)\n",
        "print(stats.chisquare(tmp_counts_large))\n",
        "print('Expected values: {}'.format(np.ones(4)*tmp_counts_large.sum()/4))"
      ],
      "execution_count": null,
      "outputs": []
    },
    {
      "cell_type": "code",
      "metadata": {
        "id": "3PczdPUOz42H",
        "colab_type": "code",
        "colab": {}
      },
      "source": [
        "segment_values, segment_counts = np.unique(seg_df.Segment,\n",
        "                                           return_counts=True)\n",
        "print(segment_counts)\n",
        "stats.chisquare(segment_counts)"
      ],
      "execution_count": null,
      "outputs": []
    },
    {
      "cell_type": "code",
      "metadata": {
        "id": "3cd-r8pI8sPq",
        "colab_type": "code",
        "colab": {}
      },
      "source": [
        "seg_df.Segment.value_counts()"
      ],
      "execution_count": null,
      "outputs": []
    },
    {
      "cell_type": "code",
      "metadata": {
        "id": "0Y5FGW5B7KC9",
        "colab_type": "code",
        "colab": {}
      },
      "source": [
        "stats.chisquare(seg_df.Segment.value_counts())"
      ],
      "execution_count": null,
      "outputs": []
    },
    {
      "cell_type": "code",
      "metadata": {
        "id": "m4gMVcCE8mHU",
        "colab_type": "code",
        "colab": {}
      },
      "source": [
        "pd.crosstab(seg_df.subscribe, columns=seg_df.own_home)"
      ],
      "execution_count": null,
      "outputs": []
    },
    {
      "cell_type": "code",
      "metadata": {
        "id": "HL730q5X_-Jp",
        "colab_type": "code",
        "colab": {}
      },
      "source": [
        "stats.chi2_contingency(pd.crosstab(seg_df.subscribe,\n",
        "                                   columns=seg_df.own_home))"
      ],
      "execution_count": null,
      "outputs": []
    },
    {
      "cell_type": "code",
      "metadata": {
        "id": "SpEb3FlO9EIL",
        "colab_type": "code",
        "colab": {}
      },
      "source": [
        "sub_by_home = pd.crosstab(seg_df.subscribe,\n",
        "                          columns=seg_df.own_home)\n",
        "print('chisq_stat: {0}\\np_value: {1}\\ndof: {2}\\nexpected_values: {3}'\n",
        "      .format(*stats.chi2_contingency(sub_by_home)))"
      ],
      "execution_count": null,
      "outputs": []
    },
    {
      "cell_type": "code",
      "metadata": {
        "id": "Jcb5JfJT2GaV",
        "colab_type": "code",
        "colab": {}
      },
      "source": [
        "print('chisq_stat: {0}\\np_value: {1}\\ndof: {2}\\nexpected_values: {3}'\n",
        "      .format(*stats.chi2_contingency(sub_by_home,\n",
        "                                      correction=False)))"
      ],
      "execution_count": null,
      "outputs": []
    },
    {
      "cell_type": "markdown",
      "metadata": {
        "id": "vBNIhMuACCHP",
        "colab_type": "text"
      },
      "source": [
        "## 6.3 Testing Observed Proportions: binom.test()"
      ]
    },
    {
      "cell_type": "code",
      "metadata": {
        "id": "n14Gaw4GemFa",
        "colab_type": "code",
        "colab": {}
      },
      "source": [
        "from statsmodels.stats import proportion as sms_proportion\n",
        "sms_proportion.binom_test(count=12, nobs=20, prop=0.5)"
      ],
      "execution_count": null,
      "outputs": []
    },
    {
      "cell_type": "code",
      "metadata": {
        "id": "dXqZvLiScw5f",
        "colab_type": "code",
        "colab": {}
      },
      "source": [
        "sms_proportion.proportion_confint(count=12, nobs=20, alpha=0.05)"
      ],
      "execution_count": null,
      "outputs": []
    },
    {
      "cell_type": "code",
      "metadata": {
        "id": "0dA6A1VBezK6",
        "colab_type": "code",
        "colab": {}
      },
      "source": [
        "sms_proportion.binom_test(count=120, nobs=200, prop=0.5)"
      ],
      "execution_count": null,
      "outputs": []
    },
    {
      "cell_type": "code",
      "metadata": {
        "id": "4pDf7OYQe2Nx",
        "colab_type": "code",
        "colab": {}
      },
      "source": [
        "sms_proportion.proportion_confint(count=120, nobs=200, alpha=0.05)"
      ],
      "execution_count": null,
      "outputs": []
    },
    {
      "cell_type": "code",
      "metadata": {
        "id": "BYio85lRYQGP",
        "colab_type": "code",
        "colab": {}
      },
      "source": [
        "stats.binom.pmf([8, 9, 10, 11, 12], p=0.5, n=20).sum()"
      ],
      "execution_count": null,
      "outputs": []
    },
    {
      "cell_type": "code",
      "metadata": {
        "id": "somgIItoXXFU",
        "colab_type": "code",
        "colab": {}
      },
      "source": [
        "stats.binom.pmf(range(8,13), p=0.5, n=20).sum()"
      ],
      "execution_count": null,
      "outputs": []
    },
    {
      "cell_type": "code",
      "metadata": {
        "id": "5EP7c8edcp2_",
        "colab_type": "code",
        "colab": {}
      },
      "source": [
        "sms_proportion.proportion_confint(12, 20, method='agresti_coull')"
      ],
      "execution_count": null,
      "outputs": []
    },
    {
      "cell_type": "code",
      "metadata": {
        "id": "Payo7YqeYyKO",
        "colab_type": "code",
        "colab": {}
      },
      "source": [
        "sms_proportion.proportion_confint(0, 20, method='agresti_coull')"
      ],
      "execution_count": null,
      "outputs": []
    },
    {
      "cell_type": "markdown",
      "metadata": {
        "id": "RT7mpJNZgYn-",
        "colab_type": "text"
      },
      "source": [
        "## 6.4 Testing Group Means: t.test()"
      ]
    },
    {
      "cell_type": "code",
      "metadata": {
        "id": "x0fuli9J6c82",
        "colab_type": "code",
        "colab": {}
      },
      "source": [
        "from scipy import stats\n",
        "import matplotlib.pyplot as plt\n",
        "\n",
        "income_own_home = seg_df.income[seg_df.own_home]\n",
        "income_dont_own_home = seg_df.income[~seg_df.own_home]\n",
        "\n",
        "seg_df.income.hist() # Not shown\n",
        "income_own_home.hist(alpha=0.5) # Not shown\n",
        "income_dont_own_home.hist(alpha=0.5) # Not shown\n",
        "seg_df.boxplot(column='income', by='own_home') # Not shown\n",
        "plt.figure()\n",
        "_ = stats.probplot(seg_df.income, dist='norm', plot=plt) # Not shown"
      ],
      "execution_count": null,
      "outputs": []
    },
    {
      "cell_type": "code",
      "metadata": {
        "id": "kZ3UZJwih79J",
        "colab_type": "code",
        "colab": {}
      },
      "source": [
        "income_dont_own_home.mean(), income_dont_own_home.std()"
      ],
      "execution_count": null,
      "outputs": []
    },
    {
      "cell_type": "code",
      "metadata": {
        "id": "xS4bEUk8h-gy",
        "colab_type": "code",
        "colab": {}
      },
      "source": [
        "income_own_home.mean(), income_own_home.std()"
      ],
      "execution_count": null,
      "outputs": []
    },
    {
      "cell_type": "code",
      "metadata": {
        "id": "3cQemVbcqhWb",
        "colab_type": "code",
        "colab": {}
      },
      "source": [
        "stats.ttest_ind(income_dont_own_home, income_own_home,\n",
        "                equal_var=False)"
      ],
      "execution_count": null,
      "outputs": []
    },
    {
      "cell_type": "code",
      "metadata": {
        "id": "ygECr4TbqSKS",
        "colab_type": "code",
        "colab": {}
      },
      "source": [
        "count_dont_own_home = income_dont_own_home.shape[0]\n",
        "count_own_home = income_own_home.shape[0]\n",
        "dof = count_dont_own_home + count_own_home - 2\n",
        "geometric_mean_sem = np.sqrt(((count_dont_own_home - 1)\n",
        "                              * stats.sem(income_dont_own_home)**2\n",
        "                              + (count_own_home - 1)\n",
        "                              * stats.sem(income_own_home)**2)/dof)\n",
        "stats.t.interval(alpha=0.95,\n",
        "                 df=dof,\n",
        "                 loc=income_dont_own_home.mean()\\\n",
        "                     - income_own_home.mean(),\n",
        "                 scale=geometric_mean_sem)"
      ],
      "execution_count": null,
      "outputs": []
    },
    {
      "cell_type": "code",
      "metadata": {
        "id": "h2-e4BNnwJKB",
        "colab_type": "code",
        "colab": {}
      },
      "source": [
        "def ttest(a, b):\n",
        "  # This function displays statistics on two groups, runs a t-test,\n",
        "  # and finds the 95% confidence interval of the mean difference\n",
        "  # between groups\n",
        "  \n",
        "  # Get means and standard deviation of each group\n",
        "  mean_a = a.mean() \n",
        "  mean_b = b.mean()\n",
        "  \n",
        "  std_a = a.std()\n",
        "  std_b = b.std()\n",
        "  \n",
        "  print('Group a - mean: {0}  standard deviation: {1}'\n",
        "        .format(mean_a, std_a))\n",
        "  print('Group b - mean: {0}  standard deviation: {1}\\n'\n",
        "        .format(mean_b, std_b))\n",
        "  \n",
        "  # Run a Welch's t-test between the groups\n",
        "  ttest_out = stats.ttest_ind(a, b, equal_var=False)\n",
        "  print(\"Welch's t-test statistic: {0}\\np-value: {1}\\n\"\n",
        "        .format(ttest_out.statistic, ttest_out.pvalue))\n",
        "  \n",
        "  # Find the 95% confidence interval using scipy.statst.interval\n",
        "  # function. The difference in means is the location of the\n",
        "  # distribution (loc parameter). The geometric mean of the\n",
        "  # standard error of each group is the scale\n",
        "  count_a = a.shape[0]\n",
        "  count_b = b.shape[0]\n",
        "  dof = count_a + count_b - 2\n",
        "  \n",
        "  geometric_mean_sem = np.sqrt(((count_a - 1) * stats.sem(a)**2\n",
        "                                + (count_b -1) * stats.sem(b)**2)/dof)\n",
        "  print('95% confidence interval of the mean difference between a and'\n",
        "        ' b:\\n{0}'\n",
        "        .format(stats.t.interval(alpha=0.95, df=dof,\n",
        "                                 loc=mean_a - mean_b,\n",
        "                                 scale=geometric_mean_sem)))\n",
        "  "
      ],
      "execution_count": null,
      "outputs": []
    },
    {
      "cell_type": "code",
      "metadata": {
        "id": "9NXSV_xyyeXc",
        "colab_type": "code",
        "colab": {}
      },
      "source": [
        "ttest(income_dont_own_home, income_own_home)"
      ],
      "execution_count": null,
      "outputs": []
    },
    {
      "cell_type": "code",
      "metadata": {
        "id": "CdtdSlB2rYlQ",
        "colab_type": "code",
        "colab": {}
      },
      "source": [
        "traveler_subset = seg_df.loc[seg_df.Segment == 'travelers']\n",
        "ttest(traveler_subset.income[~traveler_subset.own_home],\n",
        "      traveler_subset.income[traveler_subset.own_home])"
      ],
      "execution_count": null,
      "outputs": []
    },
    {
      "cell_type": "markdown",
      "metadata": {
        "id": "LvCZAztw00hX",
        "colab_type": "text"
      },
      "source": [
        "## 6.5 Testing Multiple Group Means: Analysis of Variance (ANOVA)"
      ]
    },
    {
      "cell_type": "code",
      "metadata": {
        "id": "RuMi49Ux02sL",
        "colab_type": "code",
        "colab": {}
      },
      "source": [
        "stats.f_oneway(income_dont_own_home, income_own_home)"
      ],
      "execution_count": null,
      "outputs": []
    },
    {
      "cell_type": "code",
      "metadata": {
        "id": "oypbeHhS9_5w",
        "colab_type": "code",
        "colab": {}
      },
      "source": [
        "import statsmodels.formula.api as smf\n",
        "from statsmodels.stats import anova as sms_anova"
      ],
      "execution_count": null,
      "outputs": []
    },
    {
      "cell_type": "code",
      "metadata": {
        "id": "h86TukPv4TtU",
        "colab_type": "code",
        "colab": {}
      },
      "source": [
        "income_home_lm = smf.ols('income ~ own_home', data=seg_df).fit()\n",
        "sms_anova.anova_lm(income_home_lm)"
      ],
      "execution_count": null,
      "outputs": []
    },
    {
      "cell_type": "code",
      "metadata": {
        "id": "nfuernlp6ju2",
        "colab_type": "code",
        "colab": {}
      },
      "source": [
        "income_segment_lm = smf.ols('income ~ Segment', data=seg_df).fit()\n",
        "sms_anova.anova_lm(income_segment_lm)"
      ],
      "execution_count": null,
      "outputs": []
    },
    {
      "cell_type": "code",
      "metadata": {
        "id": "Jk0W1r1D8n1j",
        "colab_type": "code",
        "colab": {}
      },
      "source": [
        "income_home_segment_lm = smf.ols('income ~ Segment + own_home',\n",
        "                                 data=seg_df).fit()\n",
        "sms_anova.anova_lm(income_home_segment_lm)"
      ],
      "execution_count": null,
      "outputs": []
    },
    {
      "cell_type": "code",
      "metadata": {
        "id": "dJ2lCkhK6z7G",
        "colab_type": "code",
        "colab": {}
      },
      "source": [
        "income_home_segment_lm = smf.ols('income ~ Segment * own_home',\n",
        "                                 data=seg_df).fit()\n",
        "sms_anova.anova_lm(income_home_segment_lm)"
      ],
      "execution_count": null,
      "outputs": []
    },
    {
      "cell_type": "code",
      "metadata": {
        "id": "ZsqvDCDX7KA_",
        "colab_type": "code",
        "colab": {}
      },
      "source": [
        "sms_anova.anova_lm(smf.ols('income ~ Segment', data=seg_df).fit(),\n",
        "                   smf.ols('income ~ Segment + own_home',\n",
        "                           data=seg_df).fit(),\n",
        "                   typ=1)"
      ],
      "execution_count": null,
      "outputs": []
    },
    {
      "cell_type": "code",
      "metadata": {
        "id": "-zgoDbuKYGX4",
        "colab_type": "code",
        "colab": {}
      },
      "source": [
        "income_segment_lm = smf.ols('income ~ Segment', data=seg_df).fit()\n",
        "income_segment_lm.summary()"
      ],
      "execution_count": null,
      "outputs": []
    },
    {
      "cell_type": "code",
      "metadata": {
        "id": "cc9WmQv4E7nZ",
        "colab_type": "code",
        "colab": {}
      },
      "source": [
        "income_segment_lm.params"
      ],
      "execution_count": null,
      "outputs": []
    },
    {
      "cell_type": "code",
      "metadata": {
        "id": "vB6p73BEb-tu",
        "colab_type": "code",
        "colab": {}
      },
      "source": [
        "income_segment_lm.conf_int()"
      ],
      "execution_count": null,
      "outputs": []
    },
    {
      "cell_type": "code",
      "metadata": {
        "id": "-8G49tDacRTv",
        "colab_type": "code",
        "colab": {}
      },
      "source": [
        "income_segment_lm_adjusted = smf.ols('income ~ -1 + Segment',\n",
        "                                     data=seg_df).fit()\n",
        "income_segment_lm_adjusted.summary()"
      ],
      "execution_count": null,
      "outputs": []
    },
    {
      "cell_type": "code",
      "metadata": {
        "id": "gvx_cmvDoJlX",
        "colab_type": "code",
        "colab": {}
      },
      "source": [
        "means = income_segment_lm_adjusted.params\n",
        "means"
      ],
      "execution_count": null,
      "outputs": []
    },
    {
      "cell_type": "code",
      "metadata": {
        "id": "c23KjRAmj7a4",
        "colab_type": "code",
        "colab": {}
      },
      "source": [
        "ci = income_segment_lm_adjusted.conf_int()\n",
        "ci"
      ],
      "execution_count": null,
      "outputs": []
    },
    {
      "cell_type": "code",
      "metadata": {
        "id": "OSrQf1W8pCPE",
        "colab_type": "code",
        "colab": {}
      },
      "source": [
        "means.plot(kind='barh', xerr=ci[1]-means, color='0.7')"
      ],
      "execution_count": null,
      "outputs": []
    },
    {
      "cell_type": "code",
      "metadata": {
        "id": "k-ZNei_WmfAQ",
        "colab_type": "code",
        "colab": {}
      },
      "source": [
        "import matplotlib.pyplot as plt\n",
        "plt.figure(figsize=(8,4))\n",
        "plt.barh(y=range(4), left=ci[0], width=ci[1]-ci[0],\n",
        "         height=0.2, color='0.4')\n",
        "plt.xlabel('income ($)')\n",
        "plt.yticks(range(len(means)), ci.index)\n",
        "plt.plot(means, range(4), 'ro')\n",
        "plt.xlim((0, 68000))"
      ],
      "execution_count": null,
      "outputs": []
    },
    {
      "cell_type": "code",
      "metadata": {
        "id": "kDFeLt1W04po",
        "colab_type": "code",
        "colab": {}
      },
      "source": [
        "def plot_confidence_intervals(centers, conf_ints, zero_line=False):\n",
        "  '''Plot centers and confidence intervals'''\n",
        "  plt.figure(figsize=(8,4))\n",
        "  sort_index = np.argsort(centers.values)\n",
        "  centers = centers[sort_index]\n",
        "  conf_ints = conf_ints.iloc[sort_index]\n",
        "  plt.barh(y=range(len(centers)), left=conf_ints[0],\n",
        "           width=conf_ints[1]-conf_ints[0],\n",
        "           height=0.2, color='0.4')\n",
        "  plt.yticks(range(len(centers)), conf_ints.index)\n",
        "  plt.plot(centers, range(len(centers)), 'ro')\n",
        "  if zero_line:\n",
        "    plt.plot([0,0],[-.5, len(centers) - 0.5], 'gray',\n",
        "             linestyle='dashed')\n",
        "    plt.xlim((-.05, 1.1 * conf_ints.iloc[:,1].max()))\n",
        "  plt.ylim((-.5, len(centers) - 0.5))"
      ],
      "execution_count": null,
      "outputs": []
    },
    {
      "cell_type": "code",
      "metadata": {
        "id": "jrKWRQoH3Tj3",
        "colab_type": "code",
        "colab": {}
      },
      "source": [
        "plot_confidence_intervals(means, ci, zero_line=True)\n",
        "plt.xlabel('income')"
      ],
      "execution_count": null,
      "outputs": []
    },
    {
      "cell_type": "code",
      "metadata": {
        "id": "PCaN3ez-_pD0",
        "colab_type": "code",
        "colab": {}
      },
      "source": [
        ""
      ],
      "execution_count": null,
      "outputs": []
    }
  ]
}