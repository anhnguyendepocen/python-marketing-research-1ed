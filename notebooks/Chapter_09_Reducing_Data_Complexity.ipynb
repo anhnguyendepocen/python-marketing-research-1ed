{
  "nbformat": 4,
  "nbformat_minor": 0,
  "metadata": {
    "colab": {
      "name": "Chapter 9 - Reducing Data Complexity",
      "provenance": [],
      "collapsed_sections": []
    },
    "kernelspec": {
      "name": "python3",
      "display_name": "Python 3"
    }
  },
  "cells": [
    {
      "cell_type": "markdown",
      "metadata": {
        "id": "IaeV_NOl-q2F",
        "colab_type": "text"
      },
      "source": [
        "## 9.1 Consumer Brand Rating Data"
      ]
    },
    {
      "cell_type": "code",
      "metadata": {
        "colab_type": "code",
        "id": "NeR0DFf0hrHg",
        "colab": {}
      },
      "source": [
        "%config InlineBackend.figure_format = 'svg'\n",
        "import pandas as pd\n",
        "pd.set_option('display.max_rows', 500)\n",
        "pd.set_option('display.max_columns', 500)\n",
        "pd.set_option('display.width', 70)"
      ],
      "execution_count": null,
      "outputs": []
    },
    {
      "cell_type": "markdown",
      "metadata": {
        "id": "GB_4GuOY-vAl",
        "colab_type": "text"
      },
      "source": [
        "### Load data"
      ]
    },
    {
      "cell_type": "code",
      "metadata": {
        "id": "SX4BGTObQdTP",
        "colab_type": "code",
        "colab": {}
      },
      "source": [
        "import pandas as pd\n",
        "brand_ratings = pd.read_csv('http://bit.ly/PMR-ch9') # TODO REFORMAT THIS TO MATCH\n",
        "brand_ratings.head()"
      ],
      "execution_count": null,
      "outputs": []
    },
    {
      "cell_type": "code",
      "metadata": {
        "id": "H5aJ3pFq-5mc",
        "colab_type": "code",
        "colab": {}
      },
      "source": [
        "brand_ratings.tail()"
      ],
      "execution_count": null,
      "outputs": []
    },
    {
      "cell_type": "code",
      "metadata": {
        "id": "emUYaBvW_Bab",
        "colab_type": "code",
        "colab": {}
      },
      "source": [
        "brand_ratings.describe().round(2)"
      ],
      "execution_count": null,
      "outputs": []
    },
    {
      "cell_type": "code",
      "metadata": {
        "id": "A3jQ_yx03ISV",
        "colab_type": "code",
        "colab": {}
      },
      "source": [
        "brand_ratings.plot.box()"
      ],
      "execution_count": null,
      "outputs": []
    },
    {
      "cell_type": "markdown",
      "metadata": {
        "id": "oRo1_mb9GBce",
        "colab_type": "text"
      },
      "source": [
        "### 9.1.1 Rescaling the Data"
      ]
    },
    {
      "cell_type": "code",
      "metadata": {
        "id": "3oNyq-nxh28a",
        "colab_type": "code",
        "colab": {}
      },
      "source": [
        "import numpy as np\n",
        "x = np.arange(1000)\n",
        "x_sc = (x - x.mean())/x.std()\n",
        "print('mean: {}\\nmedian: {}\\nmax: {}\\nmin: {}'.format(x_sc.mean(),\n",
        "                                                      np.median(x_sc),\n",
        "                                                      x_sc.max(),\n",
        "                                                      x_sc.min()))"
      ],
      "execution_count": null,
      "outputs": []
    },
    {
      "cell_type": "code",
      "metadata": {
        "id": "QseNBkEB_2r8",
        "colab_type": "code",
        "colab": {}
      },
      "source": [
        "from sklearn.preprocessing import scale\n",
        "brand_ratings_sc = brand_ratings.copy()\n",
        "brand_ratings_sc.iloc[:, :-1] = scale(brand_ratings_sc.iloc[:, :-1])\n",
        "brand_ratings_sc.describe().round(2)"
      ],
      "execution_count": null,
      "outputs": []
    },
    {
      "cell_type": "code",
      "metadata": {
        "id": "bbY-d8VN3YVZ",
        "colab_type": "code",
        "colab": {}
      },
      "source": [
        "brand_ratings_sc.plot.box()"
      ],
      "execution_count": null,
      "outputs": []
    },
    {
      "cell_type": "code",
      "metadata": {
        "id": "2UStTYvCDM_D",
        "colab_type": "code",
        "colab": {}
      },
      "source": [
        "brand_ratings_sc.head()"
      ],
      "execution_count": null,
      "outputs": []
    },
    {
      "cell_type": "code",
      "metadata": {
        "id": "H8zicCsLn9V4",
        "colab_type": "code",
        "colab": {}
      },
      "source": [
        "import matplotlib.pyplot as plt\n",
        "import seaborn as sns\n",
        "\n",
        "sns.clustermap(brand_ratings.corr(), annot=True, fmt=\".2f\",\n",
        "               center=0, cmap=plt.cm.bwr)"
      ],
      "execution_count": null,
      "outputs": []
    },
    {
      "cell_type": "markdown",
      "metadata": {
        "id": "VuA_IEG3GHyd",
        "colab_type": "text"
      },
      "source": [
        "### 9.1.2 Aggregate Mean Ratings by Brand"
      ]
    },
    {
      "cell_type": "code",
      "metadata": {
        "id": "L1_9Cbs9D-50",
        "colab_type": "code",
        "colab": {}
      },
      "source": [
        "brand_means = brand_ratings.groupby('brand').mean()\n",
        "brand_means"
      ],
      "execution_count": null,
      "outputs": []
    },
    {
      "cell_type": "code",
      "metadata": {
        "id": "kv42g4NLegrp",
        "colab_type": "code",
        "colab": {}
      },
      "source": [
        "from matplotlib import cm\n",
        "\n",
        "sns.heatmap(brand_means[['fun', 'latest', 'trendy', 'perform',\n",
        "                         'leader', 'serious', 'rebuy', 'bargain',\n",
        "                         'value']], cmap=cm.BrBG)"
      ],
      "execution_count": null,
      "outputs": []
    },
    {
      "cell_type": "code",
      "metadata": {
        "id": "RHwgHmkjHA7t",
        "colab_type": "code",
        "colab": {}
      },
      "source": [
        "sns.clustermap(brand_means, cmap=cm.BrBG)"
      ],
      "execution_count": null,
      "outputs": []
    },
    {
      "cell_type": "markdown",
      "metadata": {
        "id": "_JOCtjw2IP87",
        "colab_type": "text"
      },
      "source": [
        "## 9.2 Principal Component Analysis and Perceptual Maps"
      ]
    },
    {
      "cell_type": "markdown",
      "metadata": {
        "id": "E-XuKlHEIX2i",
        "colab_type": "text"
      },
      "source": [
        "### 9.2.1 PCA Example"
      ]
    },
    {
      "cell_type": "code",
      "metadata": {
        "id": "lVDWhW1qHkGR",
        "colab_type": "code",
        "colab": {}
      },
      "source": [
        "np.random.seed(98286)\n",
        "xvar = np.random.randint(low=0, high=10, size=100)\n",
        "yvar = xvar.copy()\n",
        "yvar[:50] = np.random.randint(low=0, high=10, size=50)\n",
        "zvar = yvar.copy()\n",
        "zvar[25:75] = np.random.randint(low=0, high=10, size=50)\n",
        "myvars = np.array([xvar, yvar, zvar])"
      ],
      "execution_count": null,
      "outputs": []
    },
    {
      "cell_type": "code",
      "metadata": {
        "id": "cBlnAQ-ZJUA4",
        "colab_type": "code",
        "colab": {}
      },
      "source": [
        "sns.swarmplot(x=xvar, y=yvar, color='k')"
      ],
      "execution_count": null,
      "outputs": []
    },
    {
      "cell_type": "code",
      "metadata": {
        "id": "K3fCuKn4JdKK",
        "colab_type": "code",
        "colab": {}
      },
      "source": [
        "np.corrcoef(myvars)"
      ],
      "execution_count": null,
      "outputs": []
    },
    {
      "cell_type": "code",
      "metadata": {
        "id": "Hq5y9CsBh6MK",
        "colab_type": "code",
        "colab": {}
      },
      "source": [
        "from sklearn import decomposition\n",
        "my_pca = decomposition.PCA().fit(myvars.T)"
      ],
      "execution_count": null,
      "outputs": []
    },
    {
      "cell_type": "code",
      "metadata": {
        "id": "ugEOii6El0ro",
        "colab_type": "code",
        "colab": {}
      },
      "source": [
        "def pca_summary(pca, round_dig=3):\n",
        "  '''Print a summary of the PCA fit'''\n",
        "  return pd.DataFrame(\n",
        "      [pca.explained_variance_,\n",
        "       pca.explained_variance_ratio_,\n",
        "       np.cumsum(pca.explained_variance_ratio_)],\n",
        "       columns=['pc{}'.format(i) for i in\n",
        "                range(1, 1+len(pca.explained_variance_))],\n",
        "       index=['variance', 'proportion of variance explained',\n",
        "              'cumulative proportion']\n",
        "              ).round(round_dig)\n",
        "pca_summary(my_pca)"
      ],
      "execution_count": null,
      "outputs": []
    },
    {
      "cell_type": "code",
      "metadata": {
        "id": "jV2oZnor9RS_",
        "colab_type": "code",
        "colab": {}
      },
      "source": [
        "def pca_components(pca, variable_names):\n",
        "  '''Return loading of variables on specific components in the PCA'''\n",
        "  return pd.DataFrame(pca.components_,\n",
        "                      index=['pc{}'.format(i+1)\n",
        "                             for i in range(len(pca.components_))],\n",
        "                      columns=variable_names).T\n",
        "my_pca_components = pca_components(my_pca, ['xvar', 'yvar', 'zvar'])\n",
        "my_pca_components.round(3)"
      ],
      "execution_count": null,
      "outputs": []
    },
    {
      "cell_type": "code",
      "metadata": {
        "id": "MpQcjcD5mgRh",
        "colab_type": "code",
        "colab": {}
      },
      "source": [
        "myvars_transformed = my_pca.transform(myvars.T)\n",
        "np.corrcoef(myvars_transformed.T)"
      ],
      "execution_count": null,
      "outputs": []
    },
    {
      "cell_type": "markdown",
      "metadata": {
        "id": "p0OieoSdoEjm",
        "colab_type": "text"
      },
      "source": [
        "### 9.2.2 Visualizing PCA"
      ]
    },
    {
      "cell_type": "code",
      "metadata": {
        "id": "npl-NdK5ndmg",
        "colab_type": "code",
        "colab": {}
      },
      "source": [
        "import matplotlib.pyplot as plt\n",
        "plt.scatter(x=myvars_transformed[:,0],\n",
        "            y=myvars_transformed[:,1],\n",
        "            color='k')\n",
        "plt.xlabel('PC1')\n",
        "plt.ylabel('PC2')"
      ],
      "execution_count": null,
      "outputs": []
    },
    {
      "cell_type": "code",
      "metadata": {
        "id": "CfuIrPQoBZbm",
        "colab_type": "code",
        "colab": {}
      },
      "source": [
        "def plot_arrow_component(pca_components, variable, scale=1):\n",
        "  '''Plot an arrow of component dimensions in PCA space'''\n",
        "  plt.arrow(x=0, y=0,\n",
        "            dx=pca_components.loc[variable]['pc1'] * scale,\n",
        "            dy=pca_components.loc[variable]['pc2'] * scale,\n",
        "            color='r',\n",
        "            head_width=.5, overhang=1)\n",
        "  plt.text(x=pca_components.loc[variable]['pc1'] * scale,\n",
        "           y=pca_components.loc[variable]['pc2'] * scale,\n",
        "           s=variable,\n",
        "           color='r',\n",
        "           fontsize=16)\n",
        "plt.scatter(x=myvars_transformed[:,0],\n",
        "              y=myvars_transformed[:,1],\n",
        "              color='k')\n",
        "\n",
        "for v in my_pca_components.index:\n",
        "  plot_arrow_component(my_pca_components, v, 8)"
      ],
      "execution_count": null,
      "outputs": []
    },
    {
      "cell_type": "code",
      "metadata": {
        "id": "cbGF5YjL9sOh",
        "colab_type": "code",
        "colab": {}
      },
      "source": [
        "def biplot(values_transformed, pca_components, label=[]):\n",
        "  '''Create a biplot, a scatterplot of points in PCA space with arrows\n",
        "  representing the loadings of each variable.\n",
        "  Points can optionally be labelled'''\n",
        "  scale = 1.2* np.max(values_transformed[:,1])\n",
        "  plt.figure(figsize=(10, 10))\n",
        "  for v in pca_components.index:\n",
        "    plot_arrow_component(pca_components, v, scale)\n",
        "  plt.scatter(x=values_transformed[:,0],\n",
        "              y=values_transformed[:,1],\n",
        "              color='gray', s=4)\n",
        "  if len(label) == values_transformed.shape[0]:\n",
        "    for i, txt in enumerate(label):\n",
        "      plt.text(s=txt,\n",
        "               x=values_transformed[i,0]+.01*scale,\n",
        "               y=values_transformed[i,1]+.01*scale,\n",
        "               fontsize=14)\n",
        "  plt.xlabel('PC1')\n",
        "  plt.ylabel('PC2')"
      ],
      "execution_count": null,
      "outputs": []
    },
    {
      "cell_type": "code",
      "metadata": {
        "id": "2kJyuRte96jB",
        "colab_type": "code",
        "colab": {}
      },
      "source": [
        "biplot(myvars_transformed, my_pca_components,\n",
        "       label=range(myvars.shape[1]))"
      ],
      "execution_count": null,
      "outputs": []
    },
    {
      "cell_type": "markdown",
      "metadata": {
        "id": "DtVyokZN1e46",
        "colab_type": "text"
      },
      "source": [
        "### 9.2.3 PCA for Brand Ratings"
      ]
    },
    {
      "cell_type": "code",
      "metadata": {
        "id": "FTFEneTEq4U1",
        "colab_type": "code",
        "colab": {}
      },
      "source": [
        "brand_rating_names = brand_ratings_sc.columns[:-1]\n",
        "brand_ratings_sc_vals = brand_ratings_sc[brand_rating_names]\n",
        "brand_pca = decomposition.PCA().fit(brand_ratings_sc_vals)"
      ],
      "execution_count": null,
      "outputs": []
    },
    {
      "cell_type": "code",
      "metadata": {
        "id": "AbIIbuCV8d0D",
        "colab_type": "code",
        "colab": {}
      },
      "source": [
        "pca_summary(brand_pca)"
      ],
      "execution_count": null,
      "outputs": []
    },
    {
      "cell_type": "code",
      "metadata": {
        "id": "GO-6150v1x_Q",
        "colab_type": "code",
        "colab": {}
      },
      "source": [
        "plt.plot(1+np.arange(len(brand_pca.explained_variance_)),\n",
        "         brand_pca.explained_variance_, 'o-')\n",
        "plt.xlabel('Component')\n",
        "plt.ylabel('Variance')"
      ],
      "execution_count": null,
      "outputs": []
    },
    {
      "cell_type": "code",
      "metadata": {
        "id": "j2Jolpul1zcm",
        "colab_type": "code",
        "colab": {}
      },
      "source": [
        "brand_ratings_sc_trans = brand_pca.transform(brand_ratings_sc_vals)\n",
        "brand_pca_components = pca_components(brand_pca, brand_rating_names)\n",
        "biplot(brand_ratings_sc_trans, brand_pca_components)"
      ],
      "execution_count": null,
      "outputs": []
    },
    {
      "cell_type": "markdown",
      "metadata": {
        "id": "iLkeM2LCBn0x",
        "colab_type": "text"
      },
      "source": [
        "### 9.2.4 Perceptual Map of the Brands"
      ]
    },
    {
      "cell_type": "code",
      "metadata": {
        "id": "0EyYBDOBf7Fa",
        "colab_type": "code",
        "colab": {}
      },
      "source": [
        "brand_means_sc = brand_ratings_sc.groupby('brand').mean()\n",
        "brand_means_sc.head()"
      ],
      "execution_count": null,
      "outputs": []
    },
    {
      "cell_type": "code",
      "metadata": {
        "id": "qrvaXGah2By-",
        "colab_type": "code",
        "colab": {}
      },
      "source": [
        "brand_means_sc = (\n",
        "    ((brand_means_sc - brand_means_sc.mean()) / brand_means_sc.std()))\n",
        "brand_means_sc_transformed = brand_pca.transform(brand_means_sc)\n",
        "biplot(brand_means_sc_transformed, brand_pca_components,\n",
        "       label=brand_means.index)"
      ],
      "execution_count": null,
      "outputs": []
    },
    {
      "cell_type": "code",
      "metadata": {
        "id": "DGV-nP8BCW29",
        "colab_type": "code",
        "colab": {}
      },
      "source": [
        "brand_means_sc.loc['c'] - brand_means_sc.loc['e']"
      ],
      "execution_count": null,
      "outputs": []
    },
    {
      "cell_type": "code",
      "metadata": {
        "id": "PIe_ikDNHHP6",
        "colab_type": "code",
        "colab": {}
      },
      "source": [
        "brand_means_sc.loc[['b','c','f','g']].mean(axis=0) - brand_means_sc.loc['e']"
      ],
      "execution_count": null,
      "outputs": []
    },
    {
      "cell_type": "markdown",
      "metadata": {
        "id": "sWWaP8MaLG78",
        "colab_type": "text"
      },
      "source": [
        "## 9.3 Exploratory Factor Analysis"
      ]
    },
    {
      "cell_type": "markdown",
      "metadata": {
        "id": "47YRynPmLPsx",
        "colab_type": "text"
      },
      "source": [
        "### 9.3.2 Finding an EFA Solution"
      ]
    },
    {
      "cell_type": "code",
      "metadata": {
        "id": "MeTVkwcESmdF",
        "colab_type": "code",
        "colab": {}
      },
      "source": [
        "np.linalg.eig(np.corrcoef(brand_ratings_sc_vals.T))[0]"
      ],
      "execution_count": null,
      "outputs": []
    },
    {
      "cell_type": "code",
      "metadata": {
        "id": "ewvI3oLhSpfN",
        "colab_type": "code",
        "colab": {}
      },
      "source": [
        "brand_2fa = decomposition.FactorAnalysis(n_components=2)\n",
        "brand_2fa.fit(brand_ratings_sc_vals)"
      ],
      "execution_count": null,
      "outputs": []
    },
    {
      "cell_type": "code",
      "metadata": {
        "id": "lJJ_apn2SoDz",
        "colab_type": "code",
        "colab": {}
      },
      "source": [
        "pca_components(brand_2fa, brand_rating_names)\n"
      ],
      "execution_count": null,
      "outputs": []
    },
    {
      "cell_type": "code",
      "metadata": {
        "id": "uXHzDEScjaCm",
        "colab_type": "code",
        "colab": {}
      },
      "source": [
        "brand_ratings_sc.columns"
      ],
      "execution_count": null,
      "outputs": []
    },
    {
      "cell_type": "code",
      "metadata": {
        "id": "l6wC8VKDRtbu",
        "colab_type": "code",
        "colab": {}
      },
      "source": [
        "!pip install factor_analyzer"
      ],
      "execution_count": null,
      "outputs": []
    },
    {
      "cell_type": "code",
      "metadata": {
        "id": "tVPVZ-jFh_7D",
        "colab_type": "code",
        "colab": {}
      },
      "source": [
        "import factor_analyzer\n",
        "\n",
        "fa = factor_analyzer.FactorAnalyzer(n_factors=2, rotation='varimax')\n",
        "fa.fit(brand_ratings_sc_vals)\n",
        "pd.DataFrame(fa.loadings_, index=brand_rating_names).round(2)"
      ],
      "execution_count": null,
      "outputs": []
    },
    {
      "cell_type": "code",
      "metadata": {
        "id": "1yKXurnVkGDX",
        "colab_type": "code",
        "colab": {}
      },
      "source": [
        "fa = factor_analyzer.FactorAnalyzer(n_factors=3, rotation='varimax')\n",
        "fa.fit(brand_ratings_sc_vals)\n",
        "pd.DataFrame(fa.loadings_, index=brand_rating_names).round(2)"
      ],
      "execution_count": null,
      "outputs": []
    },
    {
      "cell_type": "code",
      "metadata": {
        "id": "YHAMK8v5kRWg",
        "colab_type": "code",
        "colab": {}
      },
      "source": [
        "fa = factor_analyzer.FactorAnalyzer(n_factors=3, rotation='oblimin')\n",
        "fa.fit(brand_ratings_sc_vals)\n",
        "fa_loadings_df = pd.DataFrame(fa.loadings_,\n",
        "                              index=brand_rating_names)\n",
        "fa_loadings_df.round(2)"
      ],
      "execution_count": null,
      "outputs": []
    },
    {
      "cell_type": "code",
      "metadata": {
        "id": "CL-XCEnVTn4z",
        "colab_type": "code",
        "colab": {}
      },
      "source": [
        "np.corrcoef(fa.transform(brand_ratings_sc_vals).T)"
      ],
      "execution_count": null,
      "outputs": []
    },
    {
      "cell_type": "code",
      "metadata": {
        "id": "XyT5hxhzUOG1",
        "colab_type": "code",
        "colab": {}
      },
      "source": [
        "sns.clustermap(fa_loadings_df, cmap=cm.BrBG, center=0)"
      ],
      "execution_count": null,
      "outputs": []
    },
    {
      "cell_type": "markdown",
      "metadata": {
        "id": "p1jm0jJVV6LW",
        "colab_type": "text"
      },
      "source": [
        "### 9.3.4 Using Factor Scores for Brands"
      ]
    },
    {
      "cell_type": "code",
      "metadata": {
        "id": "bzKXJihVUQrP",
        "colab_type": "code",
        "colab": {}
      },
      "source": [
        "fa = factor_analyzer.FactorAnalyzer(n_factors=3, rotation='oblimin')\n",
        "brand_ratings_fa_trans = fa.fit_transform(brand_ratings_sc_vals)\n",
        "brand_rating_fa_scores = pd.DataFrame(brand_ratings_fa_trans)\n",
        "brand_rating_fa_scores['brand'] = brand_ratings_sc.brand\n",
        "brand_rating_fa_scores.head()"
      ],
      "execution_count": null,
      "outputs": []
    },
    {
      "cell_type": "code",
      "metadata": {
        "id": "Y9av-b5nYZSG",
        "colab_type": "code",
        "colab": {}
      },
      "source": [
        "brand_rating_fa_mean = brand_rating_fa_scores.groupby('brand').mean()\n",
        "brand_rating_fa_mean.columns = ['Value', 'Leader', 'Latest']\n",
        "brand_rating_fa_mean.round(3)"
      ],
      "execution_count": null,
      "outputs": []
    },
    {
      "cell_type": "code",
      "metadata": {
        "id": "mMxq2ErbYvVX",
        "colab_type": "code",
        "colab": {}
      },
      "source": [
        "sns.clustermap(brand_rating_fa_mean, cmap=cm.BrBG, center=0)"
      ],
      "execution_count": null,
      "outputs": []
    },
    {
      "cell_type": "markdown",
      "metadata": {
        "id": "-NV2bZbTZtbI",
        "colab_type": "text"
      },
      "source": [
        "## 9.4 Manifold dimensionality reduction techniques"
      ]
    },
    {
      "cell_type": "markdown",
      "metadata": {
        "id": "pn-S670NeV8W",
        "colab_type": "text"
      },
      "source": [
        "### 9.4.1 Multidimensional Scaling"
      ]
    },
    {
      "cell_type": "code",
      "metadata": {
        "id": "_m3ik-SBbXxZ",
        "colab_type": "code",
        "colab": {}
      },
      "source": [
        "brand_means"
      ],
      "execution_count": null,
      "outputs": []
    },
    {
      "cell_type": "code",
      "metadata": {
        "id": "JYqWi3q7bA7E",
        "colab_type": "code",
        "colab": {}
      },
      "source": [
        "from sklearn import manifold\n",
        "\n",
        "np.random.seed(889783)\n",
        "brand_mds = manifold.MDS().fit_transform(brand_means)\n",
        "brand_mds"
      ],
      "execution_count": null,
      "outputs": []
    },
    {
      "cell_type": "code",
      "metadata": {
        "id": "zjH8lRq-b9pz",
        "colab_type": "code",
        "colab": {}
      },
      "source": [
        "plt.scatter(x=brand_mds[:,0],\n",
        "            y=brand_mds[:,1],\n",
        "            color='grey')\n",
        "for i,p in enumerate(brand_mds):\n",
        "  plt.annotate(s=brand_means.index[i], xy=p+.1)"
      ],
      "execution_count": null,
      "outputs": []
    },
    {
      "cell_type": "markdown",
      "metadata": {
        "id": "9V2CBOreenX8",
        "colab_type": "text"
      },
      "source": [
        "### 9.4.2 Non-metric MDS"
      ]
    },
    {
      "cell_type": "code",
      "metadata": {
        "id": "JbYAB4rbmZa2",
        "colab_type": "code",
        "colab": {}
      },
      "source": [
        "brand_means"
      ],
      "execution_count": null,
      "outputs": []
    },
    {
      "cell_type": "code",
      "metadata": {
        "id": "Sf6mFS_Gc9NO",
        "colab_type": "code",
        "colab": {}
      },
      "source": [
        "brand_ranks = brand_means.apply(lambda col: col.argsort().argsort())\n",
        "brand_ranks"
      ],
      "execution_count": null,
      "outputs": []
    },
    {
      "cell_type": "code",
      "metadata": {
        "id": "dZp_3jnQbb2d",
        "colab_type": "code",
        "colab": {}
      },
      "source": [
        "brand_mds_nonmetric = manifold.MDS(metric=False)\\\n",
        "  .fit_transform(brand_ranks)\n",
        "plt.scatter(x=brand_mds_nonmetric[:,0],\n",
        "            y=brand_mds_nonmetric[:,1],\n",
        "            color='grey')\n",
        "for i,p in enumerate(brand_mds_nonmetric):\n",
        "  plt.annotate(s=brand_means.index[i], xy=p+.01)"
      ],
      "execution_count": null,
      "outputs": []
    },
    {
      "cell_type": "markdown",
      "metadata": {
        "id": "giC7UYGEeunX",
        "colab_type": "text"
      },
      "source": [
        "### t-distributed Stochastic Neighbor Embedding (t-SNE)"
      ]
    },
    {
      "cell_type": "code",
      "metadata": {
        "id": "_4wG5xazcwZw",
        "colab_type": "code",
        "colab": {}
      },
      "source": [
        "brand_tsne = manifold.TSNE().fit_transform(brand_ratings_sc_vals)\n",
        "brand_tsne_df = pd.DataFrame(brand_tsne, columns=['x', 'y'])\n",
        "brand_tsne_df['brand'] = brand_ratings_sc.brand"
      ],
      "execution_count": null,
      "outputs": []
    },
    {
      "cell_type": "code",
      "metadata": {
        "id": "Uo1L3i_1khZ4",
        "colab_type": "code",
        "colab": {}
      },
      "source": [
        "sns.pairplot(brand_tsne_df, x_vars=['x'], y_vars=['y'],\n",
        "             hue='brand', size=10,\n",
        "             palette=sns.color_palette('Paired', n_colors=10))\n",
        "plt.title('t-SNE')"
      ],
      "execution_count": null,
      "outputs": []
    },
    {
      "cell_type": "code",
      "metadata": {
        "id": "toute6SWiXkK",
        "colab_type": "code",
        "colab": {}
      },
      "source": [
        "import umap\n",
        "\n",
        "brand_embedding = umap.UMAP().fit_transform(brand_ratings_sc_vals)\n",
        "brand_umap_df = pd.DataFrame(brand_embedding, columns=['x', 'y'])\n",
        "brand_umap_df['brand'] = brand_ratings_sc.brand"
      ],
      "execution_count": null,
      "outputs": []
    },
    {
      "cell_type": "code",
      "metadata": {
        "id": "LofXiE3dkSa_",
        "colab_type": "code",
        "colab": {}
      },
      "source": [
        "sns.pairplot(brand_umap_df, x_vars=['x'], y_vars=['y'],\n",
        "             hue='brand', size=10,\n",
        "             palette=sns.color_palette('Paired', n_colors=10))\n",
        "plt.title('UMAP')"
      ],
      "execution_count": null,
      "outputs": []
    },
    {
      "cell_type": "code",
      "metadata": {
        "id": "Kyk3avStrvbQ",
        "colab_type": "code",
        "colab": {}
      },
      "source": [
        "df = pd.DataFrame(brand_ratings_sc_trans[:,:2], columns=['x', 'y'])\n",
        "df['brand'] = brand_ratings.brand\n",
        "sns.pairplot(df, x_vars=['x'], y_vars=['y'],\n",
        "             hue='brand', size=10,\n",
        "             palette=sns.color_palette('Paired', n_colors=10))\n",
        "plt.title('PCA')"
      ],
      "execution_count": null,
      "outputs": []
    },
    {
      "cell_type": "code",
      "metadata": {
        "id": "itGMZNKqju7E",
        "colab_type": "code",
        "colab": {}
      },
      "source": [
        "df = pd.DataFrame(brand_rating_fa_scores.iloc[:,:2])\n",
        "df['brand'] = brand_ratings.brand\n",
        "sns.pairplot(df, x_vars=[0], y_vars=[1],\n",
        "             hue='brand', size=10,\n",
        "             palette=sns.color_palette('Paired', n_colors=10))\n",
        "plt.xlabel('Value')\n",
        "plt.ylabel('Leader')\n",
        "plt.title('EFA')"
      ],
      "execution_count": null,
      "outputs": []
    },
    {
      "cell_type": "code",
      "metadata": {
        "id": "Ek0iU7VwlsX5",
        "colab_type": "code",
        "colab": {}
      },
      "source": [
        "mds = manifold.MDS().fit_transform(brand_ratings_sc_vals)\n",
        "df = pd.DataFrame(mds, columns=['x', 'y'])\n",
        "df['brand'] = brand_ratings.brand\n",
        "sns.pairplot(df, x_vars=['x'], y_vars=['y'],\n",
        "             hue='brand', size=10,\n",
        "             palette=sns.color_palette('Paired', n_colors=10))\n",
        "plt.title('MDS')"
      ],
      "execution_count": null,
      "outputs": []
    },
    {
      "cell_type": "code",
      "metadata": {
        "id": "35KTNPy9H6k7",
        "colab_type": "code",
        "colab": {}
      },
      "source": [
        ""
      ],
      "execution_count": null,
      "outputs": []
    }
  ]
}