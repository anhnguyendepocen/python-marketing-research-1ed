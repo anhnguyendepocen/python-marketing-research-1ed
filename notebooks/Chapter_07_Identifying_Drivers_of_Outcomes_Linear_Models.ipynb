{
  "nbformat": 4,
  "nbformat_minor": 0,
  "metadata": {
    "colab": {
      "name": "Chapter 7 - Identifying Drivers of Outcomes: Linear Models",
      "provenance": [],
      "collapsed_sections": []
    },
    "kernelspec": {
      "name": "python3",
      "display_name": "Python 3"
    }
  },
  "cells": [
    {
      "cell_type": "markdown",
      "metadata": {
        "id": "y8sw2MRSKvNN",
        "colab_type": "text"
      },
      "source": [
        "## 7.1 Amusement park data"
      ]
    },
    {
      "cell_type": "code",
      "metadata": {
        "colab_type": "code",
        "id": "b3Nkwxr4hjVR",
        "colab": {}
      },
      "source": [
        "%config InlineBackend.figure_format = 'svg'\n",
        "import pandas as pd\n",
        "pd.set_option('display.max_rows', 500)\n",
        "pd.set_option('display.max_columns', 500)\n",
        "pd.set_option('display.width', 70)"
      ],
      "execution_count": null,
      "outputs": []
    },
    {
      "cell_type": "markdown",
      "metadata": {
        "id": "IAk06gXTK3PE",
        "colab_type": "text"
      },
      "source": [
        "### Load data"
      ]
    },
    {
      "cell_type": "code",
      "metadata": {
        "id": "U_qprNQRK4iZ",
        "colab_type": "code",
        "colab": {}
      },
      "source": [
        "import pandas as pd\n",
        "sat_df = pd.read_csv('http://bit.ly/PMR-ch7')\n",
        "sat_df.head()"
      ],
      "execution_count": null,
      "outputs": []
    },
    {
      "cell_type": "markdown",
      "metadata": {
        "id": "pkI6L4F_MNOM",
        "colab_type": "text"
      },
      "source": [
        "### Simulating the Amusement Park Data"
      ]
    },
    {
      "cell_type": "code",
      "metadata": {
        "id": "egJZI_sFMWjx",
        "colab_type": "code",
        "colab": {}
      },
      "source": [
        "import numpy as np\n",
        "import pandas as pd\n",
        "np.random.seed(8266)\n",
        "n_resp = 500 # Number of survey responses"
      ],
      "execution_count": null,
      "outputs": []
    },
    {
      "cell_type": "code",
      "metadata": {
        "id": "IwqyZzuEMgUe",
        "colab_type": "code",
        "colab": {}
      },
      "source": [
        "halo = np.random.normal(loc=0, scale=5, size=n_resp)"
      ],
      "execution_count": null,
      "outputs": []
    },
    {
      "cell_type": "code",
      "metadata": {
        "id": "TCEp3Igj92G9",
        "colab_type": "code",
        "colab": {}
      },
      "source": [
        "def generate_satisfaction_scores(mean, std, halo,\n",
        "                                 score_range=(0, 100)):\n",
        "  \"\"\"Simulate satisfaction scores of a survey questions from a normal\n",
        "  distributions.\n",
        "  \n",
        "  Args:\n",
        "    mean: Numeric. The desired mean of the score distribution\n",
        "    std: Numeric. The desired standard deviation of the score\n",
        "      distribution\n",
        "    translation: A constant added to each score\n",
        "    halo: Array of numerics. The \"halo\" for each survey respondent,\n",
        "      which accounts for individual respondents' likelihood to\n",
        "      consistently respond higher or lower than average\n",
        "    score_range: Tuple of numerics. The maximum and minimum\n",
        "      scores, inclusive\n",
        "\n",
        "  Returns:\n",
        "    Array of int. Simulated satisfaction scores\n",
        "  \"\"\"\n",
        "  # Draw scores from a normal distribution\n",
        "  scores = np.random.normal(loc=mean, scale=std, size=len(halo))\n",
        "  # Add the halo\n",
        "  scores = scores + halo\n",
        "  # Floor the scores so that they are all integers and clip to limit range\n",
        "  scores = np.floor(scores)\n",
        "  scores = np.clip(scores, score_range[0], score_range[1])\n",
        "\n",
        "  return scores"
      ],
      "execution_count": null,
      "outputs": []
    },
    {
      "cell_type": "code",
      "metadata": {
        "id": "XzWo-ZXIm3vV",
        "colab_type": "code",
        "colab": {}
      },
      "source": [
        "rides = generate_satisfaction_scores(mean=81, std=3, halo=halo)\n",
        "games = generate_satisfaction_scores(mean=75, std=7, halo=halo)\n",
        "wait = generate_satisfaction_scores(mean=74, std=10, halo=halo)\n",
        "clean = generate_satisfaction_scores(mean=86, std=2, halo=halo)"
      ],
      "execution_count": null,
      "outputs": []
    },
    {
      "cell_type": "code",
      "metadata": {
        "id": "Nhb1TmVANHfo",
        "colab_type": "code",
        "colab": {}
      },
      "source": [
        "np.corrcoef(rides, games)"
      ],
      "execution_count": null,
      "outputs": []
    },
    {
      "cell_type": "code",
      "metadata": {
        "id": "TV-bGxTONJuT",
        "colab_type": "code",
        "colab": {}
      },
      "source": [
        "np.random.seed(82667)\n",
        "distance = np.random.lognormal(mean=3, sigma=1, size=n_resp)\n",
        "num_child = np.random.choice(a=range(6),\n",
        "                             size=n_resp,\n",
        "                             replace=True,\n",
        "                             p=[0.3, 0.15, 0.25, 0.15, 0.1, 0.05])\n",
        "weekend = np.random.choice(a=[True, False],\n",
        "                           size=n_resp,\n",
        "                           replace=True,\n",
        "                           p=[0.5, 0.5])"
      ],
      "execution_count": null,
      "outputs": []
    },
    {
      "cell_type": "code",
      "metadata": {
        "id": "2FTOnlpsJmY1",
        "colab_type": "code",
        "colab": {}
      },
      "source": [
        "overall = np.floor(0.7*(halo + 0.5*rides + 0.15*games + 0.3*wait\n",
        "                   + 0.2*clean + 0.07*distance + 5*(num_child == 0)\n",
        "                   + 0.3*wait*(num_child > 0)\n",
        "                   + np.random.normal(loc=0, scale=7, size=n_resp)))\n",
        "overall = np.clip(overall, 0, 100)"
      ],
      "execution_count": null,
      "outputs": []
    },
    {
      "cell_type": "code",
      "metadata": {
        "id": "HQb2Ll3kSsGD",
        "colab_type": "code",
        "colab": {}
      },
      "source": [
        "sat_df = pd.DataFrame({'is_weekend': weekend,\n",
        "                       'num_child': num_child,\n",
        "                       'distance': distance,\n",
        "                       'rides': rides,\n",
        "                       'games': games,\n",
        "                       'wait': wait,\n",
        "                       'clean': clean,\n",
        "                       'overall': overall})\n",
        "sat_df.is_weekend = sat_df.is_weekend.astype(pd.api.types.\n",
        "                                             CategoricalDtype())"
      ],
      "execution_count": null,
      "outputs": []
    },
    {
      "cell_type": "code",
      "metadata": {
        "id": "8BYhGWOJS40Q",
        "colab_type": "code",
        "colab": {}
      },
      "source": [
        "sat_df.head()"
      ],
      "execution_count": null,
      "outputs": []
    },
    {
      "cell_type": "code",
      "metadata": {
        "id": "J48nIsrGMgMr",
        "colab_type": "code",
        "colab": {}
      },
      "source": [
        "sat_df.to_csv(index=False)"
      ],
      "execution_count": null,
      "outputs": []
    },
    {
      "cell_type": "markdown",
      "metadata": {
        "id": "NEQ3jAjwTrgr",
        "colab_type": "text"
      },
      "source": [
        "## Fitting linear models with lm()"
      ]
    },
    {
      "cell_type": "code",
      "metadata": {
        "id": "IKjZpE5XTtzS",
        "colab_type": "code",
        "colab": {}
      },
      "source": [
        "sat_df.describe().round(2)"
      ],
      "execution_count": null,
      "outputs": []
    },
    {
      "cell_type": "code",
      "metadata": {
        "id": "uiE8VclJDjIB",
        "colab_type": "code",
        "colab": {}
      },
      "source": [
        "import seaborn as sns\n",
        "import matplotlib.pyplot as plt\n"
      ],
      "execution_count": null,
      "outputs": []
    },
    {
      "cell_type": "code",
      "metadata": {
        "id": "r7n6nPorZvwV",
        "colab_type": "code",
        "colab": {}
      },
      "source": [
        "import seaborn as sns\n",
        "sns.set_context('paper')\n",
        "import matplotlib.pyplot as plt\n",
        "g = sns.PairGrid(sat_df.replace({False: 0, True: 1}),\n",
        "                 height=1.2, aspect=1.0)\n",
        "g.map_upper(sns.scatterplot, linewidths=1, edgecolor=\"w\", s=10,\n",
        "            alpha=0.5)\n",
        "g.map_diag(plt.hist)\n",
        "g.map_lower(sns.kdeplot)"
      ],
      "execution_count": null,
      "outputs": []
    },
    {
      "cell_type": "code",
      "metadata": {
        "id": "wdxxVZvyaK0W",
        "colab_type": "code",
        "colab": {}
      },
      "source": [
        "sat_df['log_dist'] = sat_df.distance.apply(np.log)"
      ],
      "execution_count": null,
      "outputs": []
    },
    {
      "cell_type": "code",
      "metadata": {
        "id": "ZzRzTwsjbuJ_",
        "colab_type": "code",
        "colab": {}
      },
      "source": [
        "sat_df.log_dist.hist()\n",
        "plt.xlabel('log distance')\n",
        "plt.ylabel('Count')"
      ],
      "execution_count": null,
      "outputs": []
    },
    {
      "cell_type": "code",
      "metadata": {
        "id": "c_ajrOTHi4ps",
        "colab_type": "code",
        "colab": {}
      },
      "source": [
        "sat_df.corr()"
      ],
      "execution_count": null,
      "outputs": []
    },
    {
      "cell_type": "code",
      "metadata": {
        "id": "TqY5wzbFbxvX",
        "colab_type": "code",
        "colab": {}
      },
      "source": [
        "sat_df_corr = sat_df.corr()\n",
        "sns.heatmap(sat_df_corr, annot=True, fmt=\".2f\",\n",
        "            mask=~np.tri(sat_df_corr.shape[0], k=-1, dtype=bool),\n",
        "            cbar=False)"
      ],
      "execution_count": null,
      "outputs": []
    },
    {
      "cell_type": "code",
      "metadata": {
        "id": "xne4Q_pWpWvt",
        "colab_type": "code",
        "colab": {}
      },
      "source": [
        "sat_df.plot(kind='scatter', x='rides', y='overall')\n",
        "plt.xlabel('Satisfaction with rides')\n",
        "plt.ylabel('Satisfaction overall')"
      ],
      "execution_count": null,
      "outputs": []
    },
    {
      "cell_type": "markdown",
      "metadata": {
        "id": "Gb0c9tF1hLnG",
        "colab_type": "text"
      },
      "source": [
        "### Linear model with a single predictor"
      ]
    },
    {
      "cell_type": "code",
      "metadata": {
        "id": "BEDbB5ENegku",
        "colab_type": "code",
        "colab": {}
      },
      "source": [
        "import statsmodels.formula.api as smf\n",
        "smf.ols('overall ~ rides', data=sat_df).fit().summary()"
      ],
      "execution_count": null,
      "outputs": []
    },
    {
      "cell_type": "code",
      "metadata": {
        "id": "UNyu-XGXetnT",
        "colab_type": "code",
        "colab": {}
      },
      "source": [
        "-27.9869 + 1.2887*95"
      ],
      "execution_count": null,
      "outputs": []
    },
    {
      "cell_type": "markdown",
      "metadata": {
        "id": "f1eCLEezhtEq",
        "colab_type": "text"
      },
      "source": [
        "### ols objects"
      ]
    },
    {
      "cell_type": "code",
      "metadata": {
        "id": "Wp6HUv9cfeBh",
        "colab_type": "code",
        "colab": {}
      },
      "source": [
        "m1 = smf.ols('overall ~ rides', data=sat_df).fit()"
      ],
      "execution_count": null,
      "outputs": []
    },
    {
      "cell_type": "code",
      "metadata": {
        "id": "jWQICvpaooto",
        "colab_type": "code",
        "colab": {}
      },
      "source": [
        "# This plot and the one below it are identical\n",
        "sat_df.plot(kind='scatter', x='rides', y='overall')\n",
        "plt.plot(sat_df.rides, m1.predict(sat_df.rides))"
      ],
      "execution_count": null,
      "outputs": []
    },
    {
      "cell_type": "code",
      "metadata": {
        "id": "VjLO2Po1orjO",
        "colab_type": "code",
        "colab": {}
      },
      "source": [
        "from statsmodels.graphics import regressionplots\n",
        "sat_df.plot(kind='scatter', x='rides', y='overall')\n",
        "ax = plt.gca()\n",
        "_ = regressionplots.abline_plot(model_results=m1, ax=ax)"
      ],
      "execution_count": null,
      "outputs": []
    },
    {
      "cell_type": "code",
      "metadata": {
        "id": "qZ1vG-0Mn1ls",
        "colab_type": "code",
        "colab": {}
      },
      "source": [
        "m1.params"
      ],
      "execution_count": null,
      "outputs": []
    },
    {
      "cell_type": "code",
      "metadata": {
        "id": "6LQ_HILun4BM",
        "colab_type": "code",
        "colab": {}
      },
      "source": [
        "m1.predict({'rides': [95]})"
      ],
      "execution_count": null,
      "outputs": []
    },
    {
      "cell_type": "code",
      "metadata": {
        "id": "VNOQct7qqJp1",
        "colab_type": "code",
        "colab": {}
      },
      "source": [
        "m1.summary()"
      ],
      "execution_count": null,
      "outputs": []
    },
    {
      "cell_type": "code",
      "metadata": {
        "id": "GS72Y9kOnyWP",
        "colab_type": "code",
        "colab": {}
      },
      "source": [
        "m1.conf_int()"
      ],
      "execution_count": null,
      "outputs": []
    },
    {
      "cell_type": "code",
      "metadata": {
        "id": "hB42cXBDn-m1",
        "colab_type": "code",
        "colab": {}
      },
      "source": [
        "np.corrcoef(sat_df.rides, sat_df.overall)**2"
      ],
      "execution_count": null,
      "outputs": []
    },
    {
      "cell_type": "code",
      "metadata": {
        "id": "aiazjlX1n_cL",
        "colab_type": "code",
        "colab": {}
      },
      "source": [
        "m1.resid.max(), m1.resid.min()"
      ],
      "execution_count": null,
      "outputs": []
    },
    {
      "cell_type": "code",
      "metadata": {
        "id": "HylSygZWoDB3",
        "colab_type": "code",
        "colab": {}
      },
      "source": [
        "np.percentile(m1.resid, q=range(0,101,25))"
      ],
      "execution_count": null,
      "outputs": []
    },
    {
      "cell_type": "code",
      "metadata": {
        "id": "BoEdW6Rhsz6a",
        "colab_type": "code",
        "colab": {}
      },
      "source": [
        "plt.hist(m1.resid)\n",
        "plt.xlabel('m1 residual value')\n",
        "plt.ylabel('Count')"
      ],
      "execution_count": null,
      "outputs": []
    },
    {
      "cell_type": "code",
      "metadata": {
        "id": "4MI9o4HcAw4e",
        "colab_type": "code",
        "colab": {}
      },
      "source": [
        "np.std(m1.resid)"
      ],
      "execution_count": null,
      "outputs": []
    },
    {
      "cell_type": "markdown",
      "metadata": {
        "id": "ofeIt3UIoW0n",
        "colab_type": "text"
      },
      "source": [
        "## 7.2.5 Checking Model Fit"
      ]
    },
    {
      "cell_type": "code",
      "metadata": {
        "id": "KPKJzUihph2o",
        "colab_type": "code",
        "colab": {}
      },
      "source": [
        "np.random.seed(8266)\n",
        "x = np.random.normal(size=500)\n",
        "y = x**2 + np.random.normal(size=500)\n",
        "toy_model = smf.ols('y ~ x', data={'x': x, 'y': y}).fit()\n",
        "toy_model.summary()"
      ],
      "execution_count": null,
      "outputs": []
    },
    {
      "cell_type": "code",
      "metadata": {
        "id": "2TDrGaOxivS5",
        "colab_type": "code",
        "colab": {}
      },
      "source": [
        "plt.scatter(x,y)\n",
        "plt.plot(x, toy_model.predict({'x': x}))\n",
        "plt.xlabel('x')\n",
        "plt.ylabel('y')\n",
        "plt.title('x vs y with fit line')"
      ],
      "execution_count": null,
      "outputs": []
    },
    {
      "cell_type": "code",
      "metadata": {
        "id": "oib0vYIek0fh",
        "colab_type": "code",
        "colab": {}
      },
      "source": [
        "plt.scatter(x=toy_model.fittedvalues, y=toy_model.resid)\n",
        "plt.xlabel('Fitted values')\n",
        "plt.ylabel('Residuals')\n",
        "plt.title('Predicted y values vs Residuals')"
      ],
      "execution_count": null,
      "outputs": []
    },
    {
      "cell_type": "code",
      "metadata": {
        "id": "lLHB6QtVy6L5",
        "colab_type": "code",
        "colab": {}
      },
      "source": [
        "from statsmodels.graphics import gofplots\n",
        "def plot_gof_figures(model):\n",
        "  '''Plot a multipanel figure of goodness of fit plots'''\n",
        "  sns.residplot(model.fittedvalues, model.resid, lowess=True)\n",
        "  plt.xlabel('Fitted values')\n",
        "  plt.ylabel('Residuals')\n",
        "  plt.title('Residuals vs Fitted')\n",
        "  plt.show()\n",
        "\n",
        "  _ = gofplots.qqplot(model.resid, fit=True, line='45')\n",
        "  plt.title('Normal Q-Q')\n",
        "  plt.show()\n",
        "\n",
        "  plt.scatter(model.fittedvalues, np.abs(model.resid)**.5)\n",
        "  plt.xlabel('Fitted values')\n",
        "  plt.ylabel('Square root of the standardized residuals')\n",
        "  plt.title('Scale-Location')\n",
        "  plt.show()\n",
        "\n",
        "  regressionplots.plot_leverage_resid2(model)"
      ],
      "execution_count": null,
      "outputs": []
    },
    {
      "cell_type": "code",
      "metadata": {
        "id": "DtPC4cSuzMI_",
        "colab_type": "code",
        "colab": {}
      },
      "source": [
        "plot_gof_figures(toy_model)"
      ],
      "execution_count": null,
      "outputs": []
    },
    {
      "cell_type": "code",
      "metadata": {
        "id": "yhFJ-Nf7lVGL",
        "colab_type": "code",
        "colab": {}
      },
      "source": [
        "plot_gof_figures(m1)"
      ],
      "execution_count": null,
      "outputs": []
    },
    {
      "cell_type": "code",
      "metadata": {
        "id": "gdVUUdMYz3yk",
        "colab_type": "code",
        "colab": {}
      },
      "source": [
        "sat_df.loc[[ 405, 48, 176]]"
      ],
      "execution_count": null,
      "outputs": []
    },
    {
      "cell_type": "markdown",
      "metadata": {
        "id": "JSM5nSRxoMQc",
        "colab_type": "text"
      },
      "source": [
        "## 7.3 Fitting Linear Models with Multiple Predictors"
      ]
    },
    {
      "cell_type": "code",
      "metadata": {
        "id": "CL4z5F4jzUGr",
        "colab_type": "code",
        "colab": {}
      },
      "source": [
        "m2 = smf.ols('overall ~ rides + games + wait + clean',\n",
        "             data=sat_df).fit()\n",
        "m2.summary()"
      ],
      "execution_count": null,
      "outputs": []
    },
    {
      "cell_type": "code",
      "metadata": {
        "id": "aooPkfGkolQs",
        "colab_type": "code",
        "colab": {}
      },
      "source": [
        "np.std(m2.resid)"
      ],
      "execution_count": null,
      "outputs": []
    },
    {
      "cell_type": "code",
      "metadata": {
        "id": "nXOGRl4Xt7s2",
        "colab_type": "code",
        "colab": {}
      },
      "source": [
        "np.percentile(m2.resid, q=range(0,101,25))"
      ],
      "execution_count": null,
      "outputs": []
    },
    {
      "cell_type": "code",
      "metadata": {
        "id": "P9oDCh5gmJkI",
        "colab_type": "code",
        "colab": {}
      },
      "source": [
        "!pip install python_marketing_research\n",
        "from python_marketing_research_functions import chapter6"
      ],
      "execution_count": null,
      "outputs": []
    },
    {
      "cell_type": "code",
      "metadata": {
        "id": "wGjIu2eTmTdV",
        "colab_type": "code",
        "colab": {}
      },
      "source": [
        "chapter6.plot_confidence_intervals(m2.params[1:],\n",
        "                                   m2.conf_int().iloc[1:,:],\n",
        "                                   zero_line=True)"
      ],
      "execution_count": null,
      "outputs": []
    },
    {
      "cell_type": "markdown",
      "metadata": {
        "id": "DW1NOQ_a9mn0",
        "colab_type": "text"
      },
      "source": [
        "### 7.3.1 Comparing Models"
      ]
    },
    {
      "cell_type": "code",
      "metadata": {
        "id": "nwTwHKOD-AxV",
        "colab_type": "code",
        "colab": {}
      },
      "source": [
        "print(m1.rsquared)\n",
        "print(m2.rsquared)"
      ],
      "execution_count": null,
      "outputs": []
    },
    {
      "cell_type": "code",
      "metadata": {
        "id": "EU5O66BW-DF7",
        "colab_type": "code",
        "colab": {}
      },
      "source": [
        "print(m1.rsquared_adj)\n",
        "print(m2.rsquared_adj)"
      ],
      "execution_count": null,
      "outputs": []
    },
    {
      "cell_type": "code",
      "metadata": {
        "id": "bTz5c6fo-Mxm",
        "colab_type": "code",
        "colab": {}
      },
      "source": [
        "plt.figure(figsize=(12,8))\n",
        "plt.scatter(sat_df.overall, m1.fittedvalues, c='r', marker='x',\n",
        "            alpha=0.5, label='m1')\n",
        "plt.scatter(sat_df.overall, m2.fittedvalues, c='b', marker='x',\n",
        "            alpha=0.5, label='m2')\n",
        "satisfaction_range = [sat_df.overall.min(), sat_df.overall.max()]\n",
        "\n",
        "plt.plot(satisfaction_range, satisfaction_range, '--k', label = 'x=y')\n",
        "plt.xlabel('Observed value')\n",
        "plt.ylabel('Predicted value')\n",
        "plt.legend()"
      ],
      "execution_count": null,
      "outputs": []
    },
    {
      "cell_type": "code",
      "metadata": {
        "id": "tECHPIlO-qUf",
        "colab_type": "code",
        "colab": {}
      },
      "source": [
        "from statsmodels.stats import anova as sms_anova\n",
        "sms_anova.anova_lm(m1,m2)"
      ],
      "execution_count": null,
      "outputs": []
    },
    {
      "cell_type": "markdown",
      "metadata": {
        "id": "PAoG2vfl_xRn",
        "colab_type": "text"
      },
      "source": [
        "### 7.3.2 Using a Model to Make Predictions"
      ]
    },
    {
      "cell_type": "code",
      "metadata": {
        "id": "loCCE3E3_moj",
        "colab_type": "code",
        "colab": {}
      },
      "source": [
        "m2.params.Intercept + m2.params.rides*100 + m2.params.games*100\\\n",
        "  + m2.params.wait*100 + m2.params.clean*100"
      ],
      "execution_count": null,
      "outputs": []
    },
    {
      "cell_type": "code",
      "metadata": {
        "id": "nFS95qVmHUGx",
        "colab_type": "code",
        "colab": {}
      },
      "source": [
        "m2.params.Intercept + (m2.params[1:].sum() * 100)"
      ],
      "execution_count": null,
      "outputs": []
    },
    {
      "cell_type": "code",
      "metadata": {
        "id": "s3_hpUVrAwim",
        "colab_type": "code",
        "colab": {}
      },
      "source": [
        "m2.predict(sat_df.head(10))"
      ],
      "execution_count": null,
      "outputs": []
    },
    {
      "cell_type": "code",
      "metadata": {
        "id": "6fEEWOZ0DBk-",
        "colab_type": "code",
        "colab": {}
      },
      "source": [
        "m2.fittedvalues[:10]"
      ],
      "execution_count": null,
      "outputs": []
    },
    {
      "cell_type": "code",
      "metadata": {
        "id": "b0SczeL7qFLY",
        "colab_type": "code",
        "colab": {}
      },
      "source": [
        "m2.predict({'rides': 100,\n",
        "            'games': 100,\n",
        "            'wait': 100,\n",
        "            'clean': 100})"
      ],
      "execution_count": null,
      "outputs": []
    },
    {
      "cell_type": "markdown",
      "metadata": {
        "id": "tnFzJyfsEWU_",
        "colab_type": "text"
      },
      "source": [
        "### 7.3.3 Standardizing the Predictors"
      ]
    },
    {
      "cell_type": "code",
      "metadata": {
        "id": "EhdBjz0TDEWk",
        "colab_type": "code",
        "colab": {}
      },
      "source": [
        "((sat_df.rides - sat_df.rides.mean())/sat_df.rides.std()).head(10)"
      ],
      "execution_count": null,
      "outputs": []
    },
    {
      "cell_type": "code",
      "metadata": {
        "id": "3g6xogmyFbWc",
        "colab_type": "code",
        "colab": {}
      },
      "source": [
        "sat_df.head()"
      ],
      "execution_count": null,
      "outputs": []
    },
    {
      "cell_type": "code",
      "metadata": {
        "id": "YLOJvgDWEnG7",
        "colab_type": "code",
        "colab": {}
      },
      "source": [
        "sat_df_scaled = sat_df.copy()\n",
        "idx = ['clean', 'games', 'rides', 'wait', 'log_dist', 'overall']\n",
        "sat_df_scaled[idx] = (sat_df[idx] - sat_df[idx].mean(axis=0))\\\n",
        "  /sat_df[idx].std(axis=0)"
      ],
      "execution_count": null,
      "outputs": []
    },
    {
      "cell_type": "code",
      "metadata": {
        "id": "SS6Bt29PE9M9",
        "colab_type": "code",
        "colab": {}
      },
      "source": [
        "sat_df_scaled.head()"
      ],
      "execution_count": null,
      "outputs": []
    },
    {
      "cell_type": "code",
      "metadata": {
        "id": "sPCg0JchE_Ai",
        "colab_type": "code",
        "colab": {}
      },
      "source": [
        "sat_df_scaled[idx].describe().round(2)"
      ],
      "execution_count": null,
      "outputs": []
    },
    {
      "cell_type": "markdown",
      "metadata": {
        "id": "LQWssCvMGULq",
        "colab_type": "text"
      },
      "source": [
        "## 7.4 Using Factors as Predictors"
      ]
    },
    {
      "cell_type": "code",
      "metadata": {
        "id": "iCbs1EPEFBcf",
        "colab_type": "code",
        "colab": {}
      },
      "source": [
        "m3 = smf.ols('overall ~ rides + games + wait + clean + is_weekend'\n",
        "             ' + log_dist + num_child', data=sat_df_scaled).fit()\n",
        "m3.summary()"
      ],
      "execution_count": null,
      "outputs": []
    },
    {
      "cell_type": "code",
      "metadata": {
        "id": "v1f8w1B-NEVb",
        "colab_type": "code",
        "colab": {}
      },
      "source": [
        "dummy_vals = pd.get_dummies(sat_df_scaled.num_child, prefix='num_child')\n",
        "dummy_vals.head()"
      ],
      "execution_count": null,
      "outputs": []
    },
    {
      "cell_type": "code",
      "metadata": {
        "id": "aW53jewmMNi7",
        "colab_type": "code",
        "colab": {}
      },
      "source": [
        "sat_df_child_factor = sat_df_scaled.join(dummy_vals)"
      ],
      "execution_count": null,
      "outputs": []
    },
    {
      "cell_type": "code",
      "metadata": {
        "id": "ihK1sRIEIjFV",
        "colab_type": "code",
        "colab": {}
      },
      "source": [
        "m4 = smf.ols('overall ~ rides + games + wait + clean + log_dist'\n",
        "             '+ num_child_0 + num_child_1 + num_child_2 + num_child_3'\n",
        "             '+ num_child_4 + num_child_5',\n",
        "             data=sat_df_child_factor).fit()\n",
        "m4.summary()"
      ],
      "execution_count": null,
      "outputs": []
    },
    {
      "cell_type": "code",
      "metadata": {
        "id": "x1R3VdbALW9V",
        "colab_type": "code",
        "colab": {}
      },
      "source": [
        "sat_df_scaled['has_child'] = sat_df_scaled.num_child.apply(lambda x:\n",
        "                                                           x > 0)\n",
        "m5 = smf.ols('overall ~ rides + games + wait + clean + log_dist'\n",
        "             '+ has_child', data=sat_df_scaled).fit()\n",
        "m5.summary()"
      ],
      "execution_count": null,
      "outputs": []
    },
    {
      "cell_type": "markdown",
      "metadata": {
        "id": "zXPJvQxxNlve",
        "colab_type": "text"
      },
      "source": [
        "## 7.5 Interaction Terms"
      ]
    },
    {
      "cell_type": "code",
      "metadata": {
        "id": "ADD21yUHNgB8",
        "colab_type": "code",
        "colab": {}
      },
      "source": [
        "m6 = smf.ols('overall ~ rides + games + wait + clean + log_dist'\n",
        "             '+ has_child + rides:has_child + games:has_child'\n",
        "             '+ wait:has_child + clean:has_child + rides:is_weekend'\n",
        "             '+ games:is_weekend + wait:is_weekend + clean:is_weekend',\n",
        "             data=sat_df_scaled).fit()\n",
        "m6.summary()"
      ],
      "execution_count": null,
      "outputs": []
    },
    {
      "cell_type": "code",
      "metadata": {
        "id": "aNnkBeSNOyP7",
        "colab_type": "code",
        "colab": {}
      },
      "source": [
        "m7 = smf.ols('overall ~ rides + games + wait + clean + log_dist'\n",
        "             '+ has_child + wait:has_child',\n",
        "             data=sat_df_scaled).fit()\n",
        "m7.summary()"
      ],
      "execution_count": null,
      "outputs": []
    },
    {
      "cell_type": "code",
      "metadata": {
        "id": "s_OQpe23PSmn",
        "colab_type": "code",
        "colab": {}
      },
      "source": [
        "chapter6.plot_confidence_intervals(m7.params[1:], m7.conf_int().iloc[1:],\n",
        "                       zero_line=True)"
      ],
      "execution_count": null,
      "outputs": []
    },
    {
      "cell_type": "code",
      "metadata": {
        "id": "FpV06RzE6BeK",
        "colab_type": "code",
        "colab": {}
      },
      "source": [
        ""
      ],
      "execution_count": null,
      "outputs": []
    }
  ]
}