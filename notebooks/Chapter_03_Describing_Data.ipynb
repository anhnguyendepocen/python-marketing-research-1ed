{
  "nbformat": 4,
  "nbformat_minor": 0,
  "metadata": {
    "colab": {
      "name": "Chapter 3 - Describing Data",
      "provenance": [],
      "collapsed_sections": []
    },
    "kernelspec": {
      "name": "python3",
      "display_name": "Python 3"
    }
  },
  "cells": [
    {
      "cell_type": "markdown",
      "metadata": {
        "id": "s9J4a8tGuPVv",
        "colab_type": "text"
      },
      "source": [
        "## 3.1 Simulating Data"
      ]
    },
    {
      "cell_type": "code",
      "metadata": {
        "id": "b3qeOrPUtqZL",
        "colab_type": "code",
        "colab": {}
      },
      "source": [
        "import pandas as pd\n",
        "store_sales = pd.read_csv('http://bit.ly/PMR-ch3')"
      ],
      "execution_count": 0,
      "outputs": []
    },
    {
      "cell_type": "markdown",
      "metadata": {
        "id": "A4bn-e8awKG5",
        "colab_type": "text"
      },
      "source": [
        "### 3.1.1 Store Data: Setting the Structure"
      ]
    },
    {
      "cell_type": "code",
      "metadata": {
        "id": "gnxf6-dewAIC",
        "colab_type": "code",
        "colab": {}
      },
      "source": [
        "# import numpy and pandas\n",
        "import pandas as pd\n",
        "import numpy as np\n",
        "\n",
        "# Constants\n",
        "N_STORES = 20\n",
        "N_WEEKS = 104\n",
        "\n",
        "# create a data frame of initially missing values to hold the data\n",
        "columns = ('store_num', 'year', 'week', 'p1_sales', 'p2_sales',\n",
        "           'p1_price', 'p2_price', 'p1_promo', 'p2_promo', 'country')\n",
        "n_rows = N_STORES * N_WEEKS\n",
        "store_sales = pd.DataFrame(np.empty(shape=(n_rows, 10)),\n",
        "                           columns=columns)"
      ],
      "execution_count": 0,
      "outputs": []
    },
    {
      "cell_type": "code",
      "metadata": {
        "id": "fshn34IZ6V_y",
        "colab_type": "code",
        "colab": {}
      },
      "source": [
        "store_sales.shape"
      ],
      "execution_count": 0,
      "outputs": []
    },
    {
      "cell_type": "code",
      "metadata": {
        "colab_type": "code",
        "id": "zcM5xE4xSV_y",
        "colab": {}
      },
      "source": [
        "store_sales.head()"
      ],
      "execution_count": 0,
      "outputs": []
    },
    {
      "cell_type": "code",
      "metadata": {
        "id": "GWA3RteSywUk",
        "colab_type": "code",
        "colab": {}
      },
      "source": [
        "store_numbers = range(101, 101 + N_STORES)\n",
        "list(store_numbers)"
      ],
      "execution_count": 0,
      "outputs": []
    },
    {
      "cell_type": "code",
      "metadata": {
        "id": "ykQiQXT-zCM4",
        "colab_type": "code",
        "colab": {}
      },
      "source": [
        "store_country = dict(zip(store_numbers,\n",
        "                         ['USA', 'USA', 'USA', 'DEU', 'DEU', 'DEU',\n",
        "                          'DEU', 'DEU', 'GBR', 'GBR', 'GBR', 'BRA',\n",
        "                          'BRA', 'JPN', 'JPN', 'JPN', 'JPN', 'AUS',\n",
        "                          'CHN', 'CHN']))\n",
        "store_country"
      ],
      "execution_count": 0,
      "outputs": []
    },
    {
      "cell_type": "code",
      "metadata": {
        "id": "bFy1PliAz1Fj",
        "colab_type": "code",
        "colab": {}
      },
      "source": [
        "i = 0\n",
        "for store_num in store_numbers:\n",
        "  for year in [1, 2]:\n",
        "    for week in range(1, 53):\n",
        "      store_sales.loc[i, 'store_num'] = store_num\n",
        "      store_sales.loc[i, 'year'] = year\n",
        "      store_sales.loc[i, 'week'] = week\n",
        "      store_sales.loc[i, 'country'] = store_country[store_num]\n",
        "      i += 1"
      ],
      "execution_count": 0,
      "outputs": []
    },
    {
      "cell_type": "code",
      "metadata": {
        "id": "T_rEOvjvz1CH",
        "colab_type": "code",
        "colab": {}
      },
      "source": [
        "store_sales.head()"
      ],
      "execution_count": 0,
      "outputs": []
    },
    {
      "cell_type": "code",
      "metadata": {
        "id": "FNp4-z9Pz0_X",
        "colab_type": "code",
        "colab": {}
      },
      "source": [
        "store_sales.dtypes"
      ],
      "execution_count": 0,
      "outputs": []
    },
    {
      "cell_type": "code",
      "metadata": {
        "id": "FmP1UDqiBsMh",
        "colab_type": "code",
        "colab": {}
      },
      "source": [
        "type(store_sales.country[0])"
      ],
      "execution_count": 0,
      "outputs": []
    },
    {
      "cell_type": "code",
      "metadata": {
        "id": "SQwPqrCLz08d",
        "colab_type": "code",
        "colab": {}
      },
      "source": [
        "store_sales.country = store_sales.country.astype(\n",
        "    pd.CategoricalDtype())\n",
        "store_sales.store_num = store_sales.store_num.astype(\n",
        "    pd.CategoricalDtype())\n",
        "print(store_sales.store_num.head())\n",
        "print(store_sales.country.head())"
      ],
      "execution_count": 0,
      "outputs": []
    },
    {
      "cell_type": "code",
      "metadata": {
        "id": "WUElntujB0ey",
        "colab_type": "code",
        "colab": {}
      },
      "source": [
        "store_sales.dtypes"
      ],
      "execution_count": 0,
      "outputs": []
    },
    {
      "cell_type": "code",
      "metadata": {
        "id": "1kxAn2s4B67a",
        "colab_type": "code",
        "colab": {}
      },
      "source": [
        "# Not shown\n",
        "store_sales.head(60) # 60 rows can be displayed without truncation;\n",
        "store_sales.tail(60) # make sure end looks OK too;\n",
        "store_sales.sample(60) # inspecting a random sample is also helpful;\n"
      ],
      "execution_count": 0,
      "outputs": []
    },
    {
      "cell_type": "markdown",
      "metadata": {
        "id": "iYYZjNsOMvJo",
        "colab_type": "text"
      },
      "source": [
        "### 3.1.2 Store Data: Simulating Data Points"
      ]
    },
    {
      "cell_type": "code",
      "metadata": {
        "id": "SQYt2m21EXva",
        "colab_type": "code",
        "colab": {}
      },
      "source": [
        "np.random.seed(37204)"
      ],
      "execution_count": 0,
      "outputs": []
    },
    {
      "cell_type": "code",
      "metadata": {
        "id": "IYKtSCinIQI0",
        "colab_type": "code",
        "colab": {}
      },
      "source": [
        "np.random.binomial(n=1, p=0.1, size=n_rows).shape"
      ],
      "execution_count": 0,
      "outputs": []
    },
    {
      "cell_type": "code",
      "metadata": {
        "id": "HNRGDSONIR3D",
        "colab_type": "code",
        "colab": {}
      },
      "source": [
        "store_sales.shape"
      ],
      "execution_count": 0,
      "outputs": []
    },
    {
      "cell_type": "code",
      "metadata": {
        "id": "hgm-Qu89M-hE",
        "colab_type": "code",
        "colab": {}
      },
      "source": [
        "# 10% promoted\n",
        "store_sales.p1_promo = np.random.binomial(n=1, p=0.1, size=n_rows)\n",
        "# 15% promoted\n",
        "store_sales.p2_promo = np.random.binomial(n=1, p=0.15, size=n_rows)\n",
        "store_sales.head(10) # how does it look so far?"
      ],
      "execution_count": 0,
      "outputs": []
    },
    {
      "cell_type": "code",
      "metadata": {
        "id": "dcUAmbknNPeU",
        "colab_type": "code",
        "colab": {}
      },
      "source": [
        "store_sales.p1_promo.value_counts()"
      ],
      "execution_count": 0,
      "outputs": []
    },
    {
      "cell_type": "code",
      "metadata": {
        "id": "PlYprIYaNJyc",
        "colab_type": "code",
        "colab": {}
      },
      "source": [
        "store_sales.p1_price = np.random.choice([2.19, 2.29, 2.49, 2.79, \n",
        "                                         2.99],\n",
        "                                     size=n_rows)\n",
        "store_sales.p2_price = np.random.choice([2.29, 2.49, 2.59, 2.99,\n",
        "                                         3.19],\n",
        "                                     size=n_rows)\n",
        "store_sales.sample(5) # now how does it look?"
      ],
      "execution_count": 0,
      "outputs": []
    },
    {
      "cell_type": "code",
      "metadata": {
        "id": "OCcfAlxwPOgm",
        "colab_type": "code",
        "colab": {}
      },
      "source": [
        "# sales data, using poisson (counts) distribution\n",
        "# np.random.poisson()\n",
        "# first, the default sales in the absence of promotion\n",
        "sales_p1 = np.random.poisson(lam=120, size=n_rows)\n",
        "sales_p2 = np.random.poisson(lam=100, size=n_rows)"
      ],
      "execution_count": 0,
      "outputs": []
    },
    {
      "cell_type": "code",
      "metadata": {
        "id": "PUnwPoVeSCCK",
        "colab_type": "code",
        "colab": {}
      },
      "source": [
        "# scale sales according to the ratio of log(price)\n",
        "log_p1_price = np.log(store_sales.p1_price)\n",
        "log_p2_price = np.log(store_sales.p2_price)\n",
        "\n",
        "sales_p1 = sales_p1 * log_p2_price/log_p1_price\n",
        "sales_p2 = sales_p2 * log_p1_price/log_p2_price"
      ],
      "execution_count": 0,
      "outputs": []
    },
    {
      "cell_type": "code",
      "metadata": {
        "id": "krOP_1zOSB_B",
        "colab_type": "code",
        "colab": {}
      },
      "source": [
        "# final sales get a 30% or 40% lift when promoted\n",
        "store_sales.p1_sales = np.floor(sales_p1 *\n",
        "                                (1 + store_sales.p1_promo * 0.3))\n",
        "store_sales.p2_sales = np.floor(sales_p2 *\n",
        "                                (1 + store_sales.p2_promo * 0.4))\n",
        "store_sales.sample(10)"
      ],
      "execution_count": 0,
      "outputs": []
    },
    {
      "cell_type": "markdown",
      "metadata": {
        "id": "5XBgPlBATOrj",
        "colab_type": "text"
      },
      "source": [
        "## 3.2 Functions to Summarize a Variable"
      ]
    },
    {
      "cell_type": "markdown",
      "metadata": {
        "id": "cQksLXVlzWXu",
        "colab_type": "text"
      },
      "source": [
        "### 3.2.1 Language brief: groupby()"
      ]
    },
    {
      "cell_type": "code",
      "metadata": {
        "id": "y_3ggAFHzVWu",
        "colab_type": "code",
        "colab": {}
      },
      "source": [
        "store_sales.groupby('store_num')"
      ],
      "execution_count": 0,
      "outputs": []
    },
    {
      "cell_type": "code",
      "metadata": {
        "id": "Fv5S_8K8zbgz",
        "colab_type": "code",
        "colab": {}
      },
      "source": [
        "store_sales.groupby('store_num').p1_sales.mean()"
      ],
      "execution_count": 0,
      "outputs": []
    },
    {
      "cell_type": "code",
      "metadata": {
        "id": "YdxPWud0zbWu",
        "colab_type": "code",
        "colab": {}
      },
      "source": [
        "store_sales.groupby(['store_num', 'year']).p1_sales.mean()"
      ],
      "execution_count": 0,
      "outputs": []
    },
    {
      "cell_type": "code",
      "metadata": {
        "id": "K5yOyhhNzbJ8",
        "colab_type": "code",
        "colab": {}
      },
      "source": [
        "store_sales.groupby(['store_num', 'year']).p1_sales.mean().unstack()"
      ],
      "execution_count": 0,
      "outputs": []
    },
    {
      "cell_type": "code",
      "metadata": {
        "id": "FnogDmQlziZ-",
        "colab_type": "code",
        "colab": {}
      },
      "source": [
        "p1_sales_by_country = store_sales.groupby(['country']).p1_sales.sum()\n",
        "p1_sales_by_country"
      ],
      "execution_count": 0,
      "outputs": []
    },
    {
      "cell_type": "markdown",
      "metadata": {
        "id": "TL4E-fjG2ARc",
        "colab_type": "text"
      },
      "source": [
        "### 3.2.1 Discrete Variables"
      ]
    },
    {
      "cell_type": "code",
      "metadata": {
        "id": "ZeW-k3bgYwB5",
        "colab_type": "code",
        "colab": {}
      },
      "source": [
        "store_sales.p1_price.value_counts()"
      ],
      "execution_count": 0,
      "outputs": []
    },
    {
      "cell_type": "code",
      "metadata": {
        "id": "rDLnesIoTRre",
        "colab_type": "code",
        "colab": {}
      },
      "source": [
        "p1_table_0 = store_sales.p1_price.value_counts()\n",
        "p1_table_0"
      ],
      "execution_count": 0,
      "outputs": []
    },
    {
      "cell_type": "code",
      "metadata": {
        "id": "UCz9xECnY1EJ",
        "colab_type": "code",
        "colab": {}
      },
      "source": [
        "type(p1_table_0)"
      ],
      "execution_count": 0,
      "outputs": []
    },
    {
      "cell_type": "code",
      "metadata": {
        "id": "FxBN43TGwbOU",
        "colab_type": "code",
        "colab": {}
      },
      "source": [
        "p1_table_0.plot.bar()"
      ],
      "execution_count": 0,
      "outputs": []
    },
    {
      "cell_type": "code",
      "metadata": {
        "id": "KNNDXdNGgywe",
        "colab_type": "code",
        "colab": {}
      },
      "source": [
        "pd.crosstab(store_sales.p1_promo, store_sales.p1_price)"
      ],
      "execution_count": 0,
      "outputs": []
    },
    {
      "cell_type": "code",
      "metadata": {
        "id": "xgBZQaMSvlMz",
        "colab_type": "code",
        "colab": {}
      },
      "source": [
        "store_sales.groupby('p1_promo').p1_price.value_counts().unstack()"
      ],
      "execution_count": 0,
      "outputs": []
    },
    {
      "cell_type": "code",
      "metadata": {
        "id": "m92znKHwkuDV",
        "colab_type": "code",
        "colab": {}
      },
      "source": [
        "store_sales.groupby(['p1_promo', 'country']).p1_price.mean().unstack()"
      ],
      "execution_count": 0,
      "outputs": []
    },
    {
      "cell_type": "code",
      "metadata": {
        "id": "w2mWcpgixHVM",
        "colab_type": "code",
        "colab": {}
      },
      "source": [
        "p1_table_1 = store_sales.groupby('p1_promo').p1_price.value_counts()\n",
        "p1_table_1 = p1_table_1.unstack()\n",
        "p1_table_1.div(p1_table_0)"
      ],
      "execution_count": 0,
      "outputs": []
    },
    {
      "cell_type": "markdown",
      "metadata": {
        "id": "N20UXjnj2MJW",
        "colab_type": "text"
      },
      "source": [
        "### 3.2.2 Continuous Variables"
      ]
    },
    {
      "cell_type": "code",
      "metadata": {
        "id": "3CI_EcLWxtY9",
        "colab_type": "code",
        "colab": {}
      },
      "source": [
        "store_sales.p2_sales.min()"
      ],
      "execution_count": 0,
      "outputs": []
    },
    {
      "cell_type": "code",
      "metadata": {
        "id": "GhQI3ehPzhFo",
        "colab_type": "code",
        "colab": {}
      },
      "source": [
        "store_sales.p1_sales.max()"
      ],
      "execution_count": 0,
      "outputs": []
    },
    {
      "cell_type": "code",
      "metadata": {
        "id": "VYDzTh5ozxb5",
        "colab_type": "code",
        "colab": {}
      },
      "source": [
        "store_sales.p1_promo.mean()"
      ],
      "execution_count": 0,
      "outputs": []
    },
    {
      "cell_type": "code",
      "metadata": {
        "id": "8kDL87vzz2S5",
        "colab_type": "code",
        "colab": {}
      },
      "source": [
        "store_sales.p2_sales.median()"
      ],
      "execution_count": 0,
      "outputs": []
    },
    {
      "cell_type": "code",
      "metadata": {
        "id": "idBfNMaIz7EK",
        "colab_type": "code",
        "colab": {}
      },
      "source": [
        "store_sales.p1_sales.var()"
      ],
      "execution_count": 0,
      "outputs": []
    },
    {
      "cell_type": "code",
      "metadata": {
        "id": "2IlR3mq4z9UB",
        "colab_type": "code",
        "colab": {}
      },
      "source": [
        "store_sales.p1_sales.std()"
      ],
      "execution_count": 0,
      "outputs": []
    },
    {
      "cell_type": "code",
      "metadata": {
        "id": "2TFqIcrOz_5R",
        "colab_type": "code",
        "colab": {}
      },
      "source": [
        "store_sales.p1_sales.mad()"
      ],
      "execution_count": 0,
      "outputs": []
    },
    {
      "cell_type": "code",
      "metadata": {
        "id": "HWjJHeys0Y5S",
        "colab_type": "code",
        "colab": {}
      },
      "source": [
        "store_sales.p1_sales.quantile(q=[0.25, 0.5, 0.75])"
      ],
      "execution_count": 0,
      "outputs": []
    },
    {
      "cell_type": "code",
      "metadata": {
        "id": "EcbMjjkT0qdr",
        "colab_type": "code",
        "colab": {}
      },
      "source": [
        "store_sales.p1_sales.quantile(q=[0.05, 0.95])"
      ],
      "execution_count": 0,
      "outputs": []
    },
    {
      "cell_type": "code",
      "metadata": {
        "id": "zJ75vPdh1jx9",
        "colab_type": "code",
        "colab": {}
      },
      "source": [
        "store_sales.p1_sales.quantile(q=np.arange(0, 1.1, 0.1))"
      ],
      "execution_count": 0,
      "outputs": []
    },
    {
      "cell_type": "code",
      "metadata": {
        "id": "C9hsy-RtyAhE",
        "colab_type": "code",
        "colab": {}
      },
      "source": [
        "def iqr(x):\n",
        "  '''Return the interquartile range of the input numpy array'''\n",
        "  return x.quantile(0.75) - x.quantile(0.25)\n",
        "iqr(store_sales.p1_sales)"
      ],
      "execution_count": 0,
      "outputs": []
    },
    {
      "cell_type": "code",
      "metadata": {
        "id": "lra7czEIIMkH",
        "colab_type": "code",
        "colab": {}
      },
      "source": [
        "pd.DataFrame([[store_sales.p1_sales.median(),\n",
        "               store_sales.p2_sales.median()],\n",
        "              [iqr(store_sales.p1_sales), iqr(store_sales.p2_sales)]],\n",
        "             index=['Median sales', 'IQR'],\n",
        "             columns=['p1_sales', 'p2_sales'])"
      ],
      "execution_count": 0,
      "outputs": []
    },
    {
      "cell_type": "markdown",
      "metadata": {
        "id": "4Hd4exSJ68tu",
        "colab_type": "text"
      },
      "source": [
        "## 3.3 Summarizing Data Frames"
      ]
    },
    {
      "cell_type": "code",
      "metadata": {
        "id": "Fix4ui1t4Xzz",
        "colab_type": "code",
        "colab": {}
      },
      "source": [
        "store_sales.describe()"
      ],
      "execution_count": 0,
      "outputs": []
    },
    {
      "cell_type": "code",
      "metadata": {
        "id": "f2rak70qDu_P",
        "colab_type": "code",
        "colab": {}
      },
      "source": [
        "store_sales.p1_price.describe()"
      ],
      "execution_count": 0,
      "outputs": []
    },
    {
      "cell_type": "markdown",
      "metadata": {
        "id": "iOLa7P5QEXyP",
        "colab_type": "text"
      },
      "source": [
        "### 3.3.4 apply()"
      ]
    },
    {
      "cell_type": "code",
      "metadata": {
        "id": "4-Q_xJ0pE4ep",
        "colab_type": "code",
        "colab": {}
      },
      "source": [
        "store_sales.iloc[:, 3:9].mean()"
      ],
      "execution_count": 0,
      "outputs": []
    },
    {
      "cell_type": "code",
      "metadata": {
        "id": "z3xeabyDFSBj",
        "colab_type": "code",
        "colab": {}
      },
      "source": [
        "store_sales.iloc[:, 3:9].mean(axis=1).head()"
      ],
      "execution_count": 0,
      "outputs": []
    },
    {
      "cell_type": "code",
      "metadata": {
        "id": "n_iHIAmAEora",
        "colab_type": "code",
        "colab": {}
      },
      "source": [
        "#store_sales.iloc[:, 3:9].iqr()"
      ],
      "execution_count": 0,
      "outputs": []
    },
    {
      "cell_type": "code",
      "metadata": {
        "id": "0_hYfr6GE1gx",
        "colab_type": "code",
        "colab": {}
      },
      "source": [
        "store_sales.iloc[:, 3:9].apply(iqr)"
      ],
      "execution_count": 0,
      "outputs": []
    },
    {
      "cell_type": "code",
      "metadata": {
        "id": "0r0gd7wcFs0U",
        "colab_type": "code",
        "colab": {}
      },
      "source": [
        "store_sales.iloc[:, 3:9].apply(iqr, axis=1).head()"
      ],
      "execution_count": 0,
      "outputs": []
    },
    {
      "cell_type": "code",
      "metadata": {
        "id": "Hg_prDvrGgVv",
        "colab_type": "code",
        "colab": {}
      },
      "source": [
        "store_sales.iloc[:, 3:9].apply(lambda x: x.mean() - x.median())"
      ],
      "execution_count": 0,
      "outputs": []
    },
    {
      "cell_type": "code",
      "metadata": {
        "id": "Bby6ffy5L1MN",
        "colab_type": "code",
        "colab": {}
      },
      "source": [
        "store_sales.p1_sales.apply(lambda x: 'high' if x > 130 else 'low')[:5]"
      ],
      "execution_count": 0,
      "outputs": []
    },
    {
      "cell_type": "code",
      "metadata": {
        "id": "x7clCRzGG6R2",
        "colab_type": "code",
        "colab": {}
      },
      "source": [
        "pd.DataFrame([store_sales[['p1_sales', 'p2_sales']].median(),\n",
        "              store_sales[['p1_sales', 'p2_sales']].apply(iqr)],\n",
        "             index=['Median sales', 'IQR'])"
      ],
      "execution_count": 0,
      "outputs": []
    },
    {
      "cell_type": "markdown",
      "metadata": {
        "id": "nM2dV1VAJFtS",
        "colab_type": "text"
      },
      "source": [
        "## 3.4 Single Variable Visualization"
      ]
    },
    {
      "cell_type": "markdown",
      "metadata": {
        "id": "hqF8VDAgUgAd",
        "colab_type": "text"
      },
      "source": [
        "### 3.4.1 Histograms"
      ]
    },
    {
      "cell_type": "code",
      "metadata": {
        "id": "6RejrUJORcLp",
        "colab_type": "code",
        "colab": {}
      },
      "source": [
        "store_sales.p1_sales.hist()"
      ],
      "execution_count": 0,
      "outputs": []
    },
    {
      "cell_type": "code",
      "metadata": {
        "id": "q36qbFdxEL87",
        "colab_type": "code",
        "colab": {}
      },
      "source": [
        "import matplotlib.pyplot as plt\n",
        "store_sales.p1_sales.hist()\n",
        "plt.title('Product 1 weekly sales frequencies, All stores')\n",
        "plt.xlabel('Product 1 sales (units)')\n",
        "plt.ylabel('Count')"
      ],
      "execution_count": 0,
      "outputs": []
    },
    {
      "cell_type": "code",
      "metadata": {
        "id": "I_WPO3YOuALt",
        "colab_type": "code",
        "colab": {}
      },
      "source": [
        "plt.rcParams.update({'font.size': 12})"
      ],
      "execution_count": 0,
      "outputs": []
    },
    {
      "cell_type": "code",
      "metadata": {
        "id": "L9LDrKZjoJUU",
        "colab_type": "code",
        "colab": {}
      },
      "source": [
        "store_sales.p1_sales.hist(bins=30,\n",
        "                          edgecolor='k',\n",
        "                          facecolor='lightblue')\n",
        "plt.title('Product 1 weekly sales frequencies, All stores')\n",
        "plt.xlabel('Product 1 sales (units)')\n",
        "plt.ylabel('Count')\n",
        "plt.grid(False)\n",
        "plt.box(False)"
      ],
      "execution_count": 0,
      "outputs": []
    },
    {
      "cell_type": "code",
      "metadata": {
        "id": "tkFBPVTsRGPy",
        "colab_type": "code",
        "colab": {}
      },
      "source": [
        "store_sales.p1_sales.hist(bins=30,\n",
        "                          edgecolor='k',\n",
        "                          facecolor='lightblue',\n",
        "                          density=True)\n",
        "plt.title('Product 1 weekly sales frequencies, All stores')\n",
        "plt.xlabel('Product 1 sales (units)')\n",
        "plt.ylabel('Relative frequency')\n",
        "plt.xticks(range(60, 300, 20))\n",
        "plt.grid(False)\n",
        "plt.box(False)"
      ],
      "execution_count": 0,
      "outputs": []
    },
    {
      "cell_type": "code",
      "metadata": {
        "id": "rebdhuPGRizp",
        "colab_type": "code",
        "colab": {}
      },
      "source": [
        "store_sales.p1_sales.hist(bins=30,\n",
        "                          edgecolor='k',\n",
        "                          facecolor='lightblue',\n",
        "                          density=True)\n",
        "store_sales.p1_sales.plot.density(color='red')\n",
        "plt.title('Product 1 weekly sales frequencies, All stores')\n",
        "plt.xlabel('Product 1 sales (units)')\n",
        "plt.ylabel('Relative frequency')\n",
        "plt.xticks(range(60, 300, 20))\n",
        "plt.xlim((60, 290))\n",
        "plt.box(False)"
      ],
      "execution_count": 0,
      "outputs": []
    },
    {
      "cell_type": "markdown",
      "metadata": {
        "id": "bbW65MHiUjR9",
        "colab_type": "text"
      },
      "source": [
        "### Box plots"
      ]
    },
    {
      "cell_type": "code",
      "metadata": {
        "id": "Urfr3bf4ToA2",
        "colab_type": "code",
        "colab": {}
      },
      "source": [
        "p = store_sales.p2_sales.plot.box(vert=False, sym='k.')\n",
        "plt.title('Weekly sales of P2, All stores')\n",
        "plt.xlabel('Weekly sales')\n",
        "p.set_facecolor('w')"
      ],
      "execution_count": 0,
      "outputs": []
    },
    {
      "cell_type": "code",
      "metadata": {
        "id": "T1vWGW0Ypu0x",
        "colab_type": "code",
        "colab": {}
      },
      "source": [
        "store_sales.boxplot(column='p2_sales', by='store_num', vert=False,\n",
        "                    sym='k.')\n",
        "plt.suptitle('')\n",
        "plt.title('Weekly sales of p2 by store')\n",
        "plt.xlabel('Weekly unit sales')\n",
        "plt.ylabel('Store')\n",
        "plt.box(False)"
      ],
      "execution_count": 0,
      "outputs": []
    },
    {
      "cell_type": "code",
      "metadata": {
        "id": "MGVCSnypuNjx",
        "colab_type": "code",
        "colab": {}
      },
      "source": [
        "store_sales.boxplot(column='p2_sales', by='p2_promo', vert=False,\n",
        "                    sym='k.')\n",
        "plt.suptitle('')\n",
        "plt.title('Weekly sales of p2 with and without promotion')\n",
        "plt.xlabel('Weekly unit sales')\n",
        "plt.ylabel('P2 promo in store?')\n",
        "plt.yticks([1, 2], ['No', 'Yes'])\n",
        "plt.box(False)"
      ],
      "execution_count": 0,
      "outputs": []
    },
    {
      "cell_type": "markdown",
      "metadata": {
        "id": "gveLwTskxMsF",
        "colab_type": "text"
      },
      "source": [
        "### 3.4.3 QQ Plot to check normality"
      ]
    },
    {
      "cell_type": "code",
      "metadata": {
        "id": "-_8546qBvD-2",
        "colab_type": "code",
        "colab": {}
      },
      "source": [
        "from scipy import stats\n",
        "plt.figure(figsize=(7,7))\n",
        "stats.probplot(store_sales.p1_sales, dist='norm', plot=plt)"
      ],
      "execution_count": 0,
      "outputs": []
    },
    {
      "cell_type": "code",
      "metadata": {
        "id": "Vm0PTa6zvD8K",
        "colab_type": "code",
        "colab": {}
      },
      "source": [
        "plt.figure(figsize=(7,7))\n",
        "stats.probplot(np.log(store_sales.p1_sales), dist='norm', plot=plt)"
      ],
      "execution_count": 0,
      "outputs": []
    },
    {
      "cell_type": "markdown",
      "metadata": {
        "id": "uzicq5A4yAIG",
        "colab_type": "text"
      },
      "source": [
        "### 3.4.4 Cumulative distribution"
      ]
    },
    {
      "cell_type": "code",
      "metadata": {
        "id": "T6RTFIxD382k",
        "colab_type": "code",
        "colab": {}
      },
      "source": [
        "from statsmodels.distributions.empirical_distribution import ECDF\n",
        "e = ECDF(store_sales.p1_sales)\n",
        "plt.plot(e.x, e.y)\n",
        "plt.title('Cumulative distribution of p1 weekly sales')\n",
        "plt.ylabel('Cumulative proportion')\n",
        "plt.plot([60, 270], [0.9, 0.9], 'k--', alpha=0.5)\n",
        "plt.plot([store_sales.p1_sales.quantile(.9),\n",
        "          store_sales.p1_sales.quantile(.9)],\n",
        "         [0, 1], 'k--', alpha=0.5)\n",
        "plt.box(False)"
      ],
      "execution_count": 0,
      "outputs": []
    },
    {
      "cell_type": "code",
      "metadata": {
        "id": "UH0wmRddq8XL",
        "colab_type": "code",
        "colab": {}
      },
      "source": [
        "ecdf_x = store_sales.p1_sales.sort_values()\n",
        "ecdf_y = np.arange(0, 1, 1/len(store_sales.p1_sales))\n",
        "plt.subplot(2,1,2)\n",
        "plt.plot(ecdf_x, ecdf_y)\n",
        "plt.xlabel('P1 weekly sales, all stores')\n",
        "plt.ylabel('Cumulative proportion')\n",
        "plt.plot([60, 270], [0.9, 0.9], 'k--', alpha=0.5)\n",
        "plt.plot([store_sales.p1_sales.quantile(.9),\n",
        "          store_sales.p1_sales.quantile(.9)],\n",
        "         [0, 1], 'k--', alpha=0.5)\n",
        "plt.box(False)"
      ],
      "execution_count": 0,
      "outputs": []
    },
    {
      "cell_type": "markdown",
      "metadata": {
        "id": "hQF0UZAe68Y3",
        "colab_type": "text"
      },
      "source": [
        "### 3.4.6 Maps"
      ]
    },
    {
      "cell_type": "code",
      "metadata": {
        "id": "9Ko5kGxDZ-qx",
        "colab_type": "code",
        "colab": {}
      },
      "source": [
        "!apt-get -qq install libproj-dev proj-data  proj-bin libgeos-dev \n",
        "!pip install cartopy"
      ],
      "execution_count": 0,
      "outputs": []
    },
    {
      "cell_type": "code",
      "metadata": {
        "id": "S5BKJ1RtDvZW",
        "colab_type": "code",
        "colab": {}
      },
      "source": [
        "from cartopy.io import shapereader\n",
        "from cartopy import crs\n",
        "\n",
        "plt.figure(figsize=(16,6))\n",
        "ax = plt.axes(projection=crs.PlateCarree())\n",
        "\n",
        "shpfile = shapereader.natural_earth(resolution='110m',\n",
        "                                  category='cultural',\n",
        "                                  name='admin_0_countries')\n",
        "reader = shapereader.Reader(shpfile)\n",
        "countries = reader.records()\n",
        "max_sales = p1_sales_by_country.max()\n",
        "for country in countries:\n",
        "  country_name = country.attributes['ADM0_A3']\n",
        "  if country_name in p1_sales_by_country:\n",
        "    ax.add_geometries(country.geometry, crs.PlateCarree(),\n",
        "      facecolor=plt.cm.Greens(p1_sales_by_country[country_name]\n",
        "                                 /max_sales),\n",
        "      edgecolor='k')\n",
        "  else:\n",
        "    ax.add_geometries(country.geometry, crs.PlateCarree(),\n",
        "      facecolor='w',\n",
        "      edgecolor='k')"
      ],
      "execution_count": 0,
      "outputs": []
    },
    {
      "cell_type": "code",
      "metadata": {
        "id": "bT74v_UhG95n",
        "colab_type": "code",
        "colab": {}
      },
      "source": [
        ""
      ],
      "execution_count": 0,
      "outputs": []
    }
  ]
}