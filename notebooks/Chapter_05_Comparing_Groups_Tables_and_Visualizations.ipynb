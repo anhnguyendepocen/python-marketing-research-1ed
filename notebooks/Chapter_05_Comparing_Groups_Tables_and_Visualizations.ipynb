{
  "nbformat": 4,
  "nbformat_minor": 0,
  "metadata": {
    "colab": {
      "name": "Chapter 5 - Comparing Groups: Tables and Visualizations",
      "provenance": [],
      "collapsed_sections": []
    },
    "kernelspec": {
      "name": "python3",
      "display_name": "Python 3"
    }
  },
  "cells": [
    {
      "cell_type": "code",
      "metadata": {
        "colab_type": "code",
        "id": "jaQ_hnwPhdUX",
        "colab": {}
      },
      "source": [
        "%config InlineBackend.figure_format = 'svg'\n",
        "import pandas as pd\n",
        "pd.set_option('display.max_rows', 500)\n",
        "pd.set_option('display.max_columns', 500)\n",
        "pd.set_option('display.width', 70)"
      ],
      "execution_count": null,
      "outputs": []
    },
    {
      "cell_type": "markdown",
      "metadata": {
        "id": "KCUdZqUtwN9y",
        "colab_type": "text"
      },
      "source": [
        "## 5.1 Simulating consumer segment data"
      ]
    },
    {
      "cell_type": "code",
      "metadata": {
        "id": "NmtGwGOLhk9M",
        "colab_type": "code",
        "colab": {}
      },
      "source": [
        "import pandas as pd\n",
        "segment_data = pd.read_csv('http://bit.ly/PMR-ch5')\n",
        "segment_data.head()"
      ],
      "execution_count": null,
      "outputs": []
    },
    {
      "cell_type": "code",
      "metadata": {
        "id": "2rFfu6-piGwT",
        "colab_type": "code",
        "colab": {}
      },
      "source": [
        "segment_data.describe()"
      ],
      "execution_count": null,
      "outputs": []
    },
    {
      "cell_type": "markdown",
      "metadata": {
        "id": "Lv_6T9SewKmR",
        "colab_type": "text"
      },
      "source": [
        "### 5.1.1 Segment data definition"
      ]
    },
    {
      "cell_type": "code",
      "metadata": {
        "id": "FHVyeHPkbxfh",
        "colab_type": "code",
        "colab": {}
      },
      "source": [
        "segment_variables = ['age', 'gender', 'income', 'kids', 'own_home',\n",
        "                     'subscribe']\n",
        "segment_variables_distribution = dict(zip(segment_variables,\n",
        "                                          ['normal', 'binomial',\n",
        "                                           'normal','poisson',\n",
        "                                           'binomial', 'binomial']))\n",
        "\n",
        "segment_variables_distribution['age']"
      ],
      "execution_count": null,
      "outputs": []
    },
    {
      "cell_type": "code",
      "metadata": {
        "id": "9wRlrfkyeOrf",
        "colab_type": "code",
        "colab": {}
      },
      "source": [
        "segment_variables_distribution"
      ],
      "execution_count": null,
      "outputs": []
    },
    {
      "cell_type": "code",
      "metadata": {
        "id": "kwAt4s5yc6ab",
        "colab_type": "code",
        "colab": {}
      },
      "source": [
        "segment_means = {'suburb_mix': [40, 0.5, 55000, 2, 0.5, 0.1],\n",
        "                 'urban_hip':  [24, 0.7, 21000, 1, 0.2, 0.2],\n",
        "                 'travelers':  [58, 0.5, 64000, 0, 0.7, 0.05],\n",
        "                 'moving_up':  [36, 0.3, 52000, 2, 0.3, 0.2]}"
      ],
      "execution_count": null,
      "outputs": []
    },
    {
      "cell_type": "code",
      "metadata": {
        "id": "Wyggv0DYc680",
        "colab_type": "code",
        "colab": {}
      },
      "source": [
        "# standard deviations for each segment \n",
        "# None = not applicable for the variable)\n",
        "segment_stddev = {'suburb_mix': [5, None, 12000, None, None, None],\n",
        "                  'urban_hip':  [2, None, 5000, None, None, None],\n",
        "                  'travelers':  [8, None, 21000, None, None, None],\n",
        "                  'moving_up':  [4, None, 10000, None, None, None]}"
      ],
      "execution_count": null,
      "outputs": []
    },
    {
      "cell_type": "code",
      "metadata": {
        "id": "5iAdxWQVbxbJ",
        "colab_type": "code",
        "colab": {}
      },
      "source": [
        "segment_names = ['suburb_mix', 'urban_hip', 'travelers', 'moving_up']\n",
        "segment_sizes = dict(zip(segment_names,[100, 50, 80, 70]))\n",
        "\n",
        "segment_statistics = {}\n",
        "for name in segment_names:\n",
        "  segment_statistics[name] = {'size': segment_sizes[name]}\n",
        "  for i, variable in enumerate(segment_variables):\n",
        "    segment_statistics[name][variable] = {\n",
        "        'mean': segment_means[name][i],\n",
        "        'stddev': segment_stddev[name][i]\n",
        "    }"
      ],
      "execution_count": null,
      "outputs": []
    },
    {
      "cell_type": "code",
      "metadata": {
        "id": "1nP_QnKMFHT1",
        "colab_type": "code",
        "colab": {}
      },
      "source": [
        "segment_statistics['moving_up']"
      ],
      "execution_count": null,
      "outputs": []
    },
    {
      "cell_type": "markdown",
      "metadata": {
        "id": "BIvyIqiPwGJ5",
        "colab_type": "text"
      },
      "source": [
        "### 5.1.2 Final segment data generation"
      ]
    },
    {
      "cell_type": "code",
      "metadata": {
        "id": "t0IhaNeqgzEg",
        "colab_type": "code",
        "colab": {}
      },
      "source": [
        "import numpy as np\n",
        "import pandas as pd\n",
        "\n",
        "np.random.seed(seed=2554)\n",
        "segment_constructor = {}\n",
        "\n",
        "# Iterate over segments to create data for each\n",
        "for name in segment_names:\n",
        "  segment_data_subset = {}\n",
        "  print('segment: {0}'.format(name))\n",
        "  # Within each segment, iterate over the variables and generate data\n",
        "  for variable in segment_variables:\n",
        "    print('\\tvariable: {0}'.format(variable))\n",
        "    if segment_variables_distribution[variable] == 'normal':\n",
        "      # Draw random normals\n",
        "      segment_data_subset[variable] = np.random.normal(\n",
        "          loc=segment_statistics[name][variable]['mean'],\n",
        "          scale=segment_statistics[name][variable]['stddev'],\n",
        "          size=segment_statistics[name]['size']\n",
        "      )\n",
        "    elif segment_variables_distribution[variable] == 'poisson':\n",
        "      # Draw counts\n",
        "      segment_data_subset[variable] = np.random.poisson(\n",
        "          lam=segment_statistics[name][variable]['mean'],\n",
        "          size=segment_statistics[name]['size']\n",
        "      )\n",
        "    elif segment_variables_distribution[variable] == 'binomial':\n",
        "      # Draw binomials\n",
        "      segment_data_subset[variable] = np.random.binomial(\n",
        "          n=1,\n",
        "          p=segment_statistics[name][variable]['mean'],\n",
        "          size=segment_statistics[name]['size']\n",
        "      )\n",
        "    else:\n",
        "      # Data type unknown\n",
        "      print('Bad segment data type: {0}'.format(\n",
        "          segment_variables_distribution[j])\n",
        "           )\n",
        "      raise StopIteration\n",
        "  segment_data_subset['Segment'] = np.repeat(\n",
        "      name,\n",
        "      repeats=segment_statistics[name]['size']\n",
        "  )\n",
        "  segment_constructor[name] = pd.DataFrame(segment_data_subset)\n",
        "segment_data = pd.concat(segment_constructor.values())"
      ],
      "execution_count": null,
      "outputs": []
    },
    {
      "cell_type": "code",
      "metadata": {
        "id": "el8OlzgIgzB0",
        "colab_type": "code",
        "colab": {}
      },
      "source": [
        "segment_data.head()"
      ],
      "execution_count": null,
      "outputs": []
    },
    {
      "cell_type": "code",
      "metadata": {
        "id": "vnu4VlvkA_GT",
        "colab_type": "code",
        "colab": {}
      },
      "source": [
        "name = 'suburb_mix'\n",
        "variable = 'age'\n",
        "print(segment_statistics[name][variable]['mean'])\n",
        "print(segment_statistics[name][variable]['stddev'])\n",
        "np.random.normal(\n",
        "    loc=segment_statistics[name][variable]['mean'],\n",
        "    scale=segment_statistics[name][variable]['stddev'],\n",
        "    size=10\n",
        ")"
      ],
      "execution_count": null,
      "outputs": []
    },
    {
      "cell_type": "code",
      "metadata": {
        "id": "mmtnfzMACsH7",
        "colab_type": "code",
        "colab": {}
      },
      "source": [
        "variable = 'kids'\n",
        "print(segment_statistics[name][variable]['mean'])\n",
        "print(segment_statistics[name][variable]['stddev'])\n",
        "np.random.poisson(\n",
        "    lam=segment_statistics[name][variable]['mean'],\n",
        "    size=10\n",
        ")"
      ],
      "execution_count": null,
      "outputs": []
    },
    {
      "cell_type": "code",
      "metadata": {
        "id": "sJ7kBVk3BSkW",
        "colab_type": "code",
        "colab": {}
      },
      "source": [
        "variable = 'gender'\n",
        "print(segment_statistics[name][variable]['mean'])\n",
        "print(segment_statistics[name][variable]['stddev'])\n",
        "np.random.binomial(\n",
        "    n=1,\n",
        "    p=segment_statistics[name][variable]['mean'],\n",
        "    size=10\n",
        ")"
      ],
      "execution_count": null,
      "outputs": []
    },
    {
      "cell_type": "code",
      "metadata": {
        "id": "AdZ5sKJugy9A",
        "colab_type": "code",
        "colab": {}
      },
      "source": [
        "np.repeat(name, repeats=10)"
      ],
      "execution_count": null,
      "outputs": []
    },
    {
      "cell_type": "code",
      "metadata": {
        "id": "LKqxwci2s1aY",
        "colab_type": "code",
        "colab": {}
      },
      "source": [
        "segment_data['gender'] = segment_data['gender'].apply(\n",
        "    lambda x: 'male' if x else 'female'\n",
        ")\n",
        "segment_data['own_home'] = segment_data['own_home'].apply(\n",
        "    lambda x: True if x else False\n",
        ")\n",
        "segment_data['subscribe'] = segment_data['subscribe'].apply(\n",
        "    lambda x: True if x else False\n",
        ")"
      ],
      "execution_count": null,
      "outputs": []
    },
    {
      "cell_type": "code",
      "metadata": {
        "id": "7d-9gdRX0cFv",
        "colab_type": "code",
        "colab": {}
      },
      "source": [
        "segment_data.describe(include='all')"
      ],
      "execution_count": null,
      "outputs": []
    },
    {
      "cell_type": "code",
      "metadata": {
        "id": "zIzfDi4rr7NY",
        "colab_type": "code",
        "colab": {}
      },
      "source": [
        "segment_data.head()"
      ],
      "execution_count": null,
      "outputs": []
    },
    {
      "cell_type": "code",
      "metadata": {
        "id": "V_KyCgdZ2C7v",
        "colab_type": "code",
        "colab": {}
      },
      "source": [
        "from google.colab import files\n",
        "with open('segment_dataframe_Python_intro_Ch5.csv', 'w') as f:\n",
        "  segment_data.to_csv(f)\n",
        "\n",
        "files.download('segment_dataframe_Python_intro_Ch5.csv')"
      ],
      "execution_count": null,
      "outputs": []
    },
    {
      "cell_type": "markdown",
      "metadata": {
        "id": "Y7ZOsk7ewBD5",
        "colab_type": "text"
      },
      "source": [
        "## 5.2 Finding descriptives by group"
      ]
    },
    {
      "cell_type": "code",
      "metadata": {
        "id": "4tUJMVsatPM2",
        "colab_type": "code",
        "colab": {}
      },
      "source": [
        "segment_data.loc[segment_data.Segment == 'moving_up']['income'].mean()"
      ],
      "execution_count": null,
      "outputs": []
    },
    {
      "cell_type": "code",
      "metadata": {
        "id": "QzAWxTgy22qU",
        "colab_type": "code",
        "colab": {}
      },
      "source": [
        "segment_data.loc[\n",
        "    (segment_data['Segment'] == 'moving_up') &\n",
        "    (segment_data['subscribe'] == False)\n",
        "]['income'].mean()"
      ],
      "execution_count": null,
      "outputs": []
    },
    {
      "cell_type": "code",
      "metadata": {
        "id": "fLgF_pK028ME",
        "colab_type": "code",
        "colab": {}
      },
      "source": [
        "segment_data.groupby('Segment')['income'].mean()"
      ],
      "execution_count": null,
      "outputs": []
    },
    {
      "cell_type": "code",
      "metadata": {
        "id": "8VzY1Riu3f_P",
        "colab_type": "code",
        "colab": {}
      },
      "source": [
        "segment_data.groupby(['Segment', 'subscribe'])['income'].mean()"
      ],
      "execution_count": null,
      "outputs": []
    },
    {
      "cell_type": "code",
      "metadata": {
        "id": "Y29nAPPX3pEM",
        "colab_type": "code",
        "colab": {}
      },
      "source": [
        "segment_data.groupby(\n",
        "    ['Segment', 'subscribe']\n",
        ")['income'].mean().unstack()"
      ],
      "execution_count": null,
      "outputs": []
    },
    {
      "cell_type": "code",
      "metadata": {
        "id": "QILRTP4BvVgS",
        "colab_type": "code",
        "colab": {}
      },
      "source": [
        "np.random.seed(4532)\n",
        "segment_income = segment_data.groupby('Segment')['income'].mean()\n",
        "segment_data = segment_data.join(segment_income,\n",
        "                                 on='Segment',\n",
        "                                 rsuffix='_segment')\n",
        "segment_data.head(5)"
      ],
      "execution_count": null,
      "outputs": []
    },
    {
      "cell_type": "code",
      "metadata": {
        "id": "qTQ8bSxEvVWS",
        "colab_type": "code",
        "colab": {}
      },
      "source": [
        "segment_data.drop(labels='income_segment', axis=1, inplace=True)\n",
        "segment_data.head(5)"
      ],
      "execution_count": null,
      "outputs": []
    },
    {
      "cell_type": "markdown",
      "metadata": {
        "id": "YC8ZiaLZv6Nn",
        "colab_type": "text"
      },
      "source": [
        "### 5.2.1 Descriptives for two-way groups"
      ]
    },
    {
      "cell_type": "code",
      "metadata": {
        "id": "qn0ULhYcu_60",
        "colab_type": "code",
        "colab": {}
      },
      "source": [
        "segment_data.groupby(['Segment', 'own_home'])['income'].mean()"
      ],
      "execution_count": null,
      "outputs": []
    },
    {
      "cell_type": "code",
      "metadata": {
        "id": "JeZfXZRDxxGC",
        "colab_type": "code",
        "colab": {}
      },
      "source": [
        "segment_data.groupby(\n",
        "    ['Segment', 'own_home', 'subscribe']\n",
        ")['income'].mean()"
      ],
      "execution_count": null,
      "outputs": []
    },
    {
      "cell_type": "code",
      "metadata": {
        "id": "vpvgjOZcx15V",
        "colab_type": "code",
        "colab": {}
      },
      "source": [
        "segment_data.groupby(\n",
        "    ['Segment', 'own_home', 'subscribe']\n",
        ")['income'].mean().unstack()"
      ],
      "execution_count": null,
      "outputs": []
    },
    {
      "cell_type": "code",
      "metadata": {
        "id": "bkIoSYWNxs5L",
        "colab_type": "code",
        "colab": {}
      },
      "source": [
        "segment_data.groupby(\n",
        "    ['Segment', 'own_home']\n",
        ")['subscribe'].count().unstack()"
      ],
      "execution_count": null,
      "outputs": []
    },
    {
      "cell_type": "code",
      "metadata": {
        "id": "2XdGw1l4u_0z",
        "colab_type": "code",
        "colab": {}
      },
      "source": [
        "segment_data.groupby(\n",
        "    ['kids', 'Segment']\n",
        ").subscribe.count().unstack(level=1)"
      ],
      "execution_count": null,
      "outputs": []
    },
    {
      "cell_type": "code",
      "metadata": {
        "id": "nvF5POVju_xT",
        "colab_type": "code",
        "colab": {}
      },
      "source": [
        "pd.crosstab(segment_data['kids'], segment_data['Segment'])"
      ],
      "execution_count": null,
      "outputs": []
    },
    {
      "cell_type": "code",
      "metadata": {
        "id": "PtKftG0B5qhr",
        "colab_type": "code",
        "colab": {}
      },
      "source": [
        "segment_data.groupby('Segment')['kids'].sum()"
      ],
      "execution_count": null,
      "outputs": []
    },
    {
      "cell_type": "markdown",
      "metadata": {
        "id": "YPvwDpabuIvW",
        "colab_type": "text"
      },
      "source": [
        "### 5.2.2 Visualization by group: frequencies and proportions"
      ]
    },
    {
      "cell_type": "code",
      "metadata": {
        "id": "NbtKR4vjuFQX",
        "colab_type": "code",
        "colab": {}
      },
      "source": [
        "import matplotlib.pyplot as plt\n",
        "\n",
        "segments_groupby_segments = segment_data.groupby(['Segment']) \n",
        "segments_groupby_segments['subscribe'].value_counts().unstack().plot(\n",
        "    kind='barh',\n",
        "    figsize=(8, 8)\n",
        ")\n",
        "plt.xlabel('counts')"
      ],
      "execution_count": null,
      "outputs": []
    },
    {
      "cell_type": "code",
      "metadata": {
        "id": "ArwyQwG5vRPZ",
        "colab_type": "code",
        "colab": {}
      },
      "source": [
        "segments_groupby_segments['subscribe'].value_counts(\n",
        "    normalize=True\n",
        ").unstack().plot(\n",
        "    kind='barh',\n",
        "    figsize=(8, 8)\n",
        ")\n",
        "plt.xlabel('proportion of segment')"
      ],
      "execution_count": null,
      "outputs": []
    },
    {
      "cell_type": "code",
      "metadata": {
        "id": "WdWLJEE9vi23",
        "colab_type": "code",
        "colab": {}
      },
      "source": [
        "segment_data.groupby(['subscribe'])['Segment'].value_counts(\n",
        "    normalize=True\n",
        ").unstack().plot(kind='barh', figsize=(8, 8))\n",
        "plt.xlabel('proportion of subscribers')"
      ],
      "execution_count": null,
      "outputs": []
    },
    {
      "cell_type": "code",
      "metadata": {
        "id": "MDd4Tzko40Y8",
        "colab_type": "code",
        "colab": {}
      },
      "source": [
        "import seaborn as sns\n",
        "sns.barplot(y='Segment', x='subscribe', data=segment_data,\n",
        "            orient='h', ci=None)"
      ],
      "execution_count": null,
      "outputs": []
    },
    {
      "cell_type": "code",
      "metadata": {
        "id": "yn1ooGvt5qZc",
        "colab_type": "code",
        "colab": {}
      },
      "source": [
        "g = sns.FacetGrid(segment_data, col='Segment')\n",
        "g.map(sns.barplot, 'subscribe', orient='v', ci=None)"
      ],
      "execution_count": null,
      "outputs": []
    },
    {
      "cell_type": "code",
      "metadata": {
        "id": "nyywwPua85qX",
        "colab_type": "code",
        "colab": {}
      },
      "source": [
        "g = sns.FacetGrid(segment_data, col='Segment', row='own_home')\n",
        "g.map(sns.barplot, 'subscribe', orient='v', ci=None)"
      ],
      "execution_count": null,
      "outputs": []
    },
    {
      "cell_type": "code",
      "metadata": {
        "id": "oMx3n_Xr6mlI",
        "colab_type": "code",
        "colab": {}
      },
      "source": [
        "segment_data.groupby(['Segment'])['income'].mean().plot.bar()"
      ],
      "execution_count": null,
      "outputs": []
    },
    {
      "cell_type": "code",
      "metadata": {
        "id": "4V0-miUG85jt",
        "colab_type": "code",
        "colab": {}
      },
      "source": [
        "sns.barplot(x='Segment', y='income', data=segment_data, color='.6', \n",
        "            estimator=np.mean, ci=95)"
      ],
      "execution_count": null,
      "outputs": []
    },
    {
      "cell_type": "code",
      "metadata": {
        "id": "rv5kLrTQ7xnj",
        "colab_type": "code",
        "colab": {}
      },
      "source": [
        "segment_data.groupby(\n",
        "    ['Segment', 'own_home']\n",
        ")['income'].mean().unstack().plot.bar()"
      ],
      "execution_count": null,
      "outputs": []
    },
    {
      "cell_type": "code",
      "metadata": {
        "id": "gmtycKTrBWDX",
        "colab_type": "code",
        "colab": {}
      },
      "source": [
        "sns.barplot(x='Segment', y='income', hue='own_home',\n",
        "            data=segment_data, estimator=np.mean, ci=95)"
      ],
      "execution_count": null,
      "outputs": []
    },
    {
      "cell_type": "code",
      "metadata": {
        "id": "ov_L4ZWg0kYk",
        "colab_type": "code",
        "colab": {}
      },
      "source": [
        "x = segment_data.groupby('Segment')['income'].apply(list)\n",
        "_ = plt.boxplot(x=x.values, labels=x.index)"
      ],
      "execution_count": null,
      "outputs": []
    },
    {
      "cell_type": "code",
      "metadata": {
        "id": "D5bDxTW0vR9d",
        "colab_type": "code",
        "colab": {}
      },
      "source": [
        "sns.boxplot(x='Segment', y='income', data=segment_data,\n",
        "            color='0.7', orient='v')"
      ],
      "execution_count": null,
      "outputs": []
    },
    {
      "cell_type": "code",
      "metadata": {
        "id": "2wqeHYlqBhHw",
        "colab_type": "code",
        "colab": {}
      },
      "source": [
        "sns.boxplot(y='Segment', x='income', data=segment_data, \n",
        "            color='0.7', orient='h')"
      ],
      "execution_count": null,
      "outputs": []
    },
    {
      "cell_type": "code",
      "metadata": {
        "id": "nk_5VKwVUxuA",
        "colab_type": "code",
        "colab": {}
      },
      "source": [
        "sns.boxplot(y='Segment', x='income', hue='own_home',\n",
        "            data=segment_data, color='0.7', orient='h')"
      ],
      "execution_count": null,
      "outputs": []
    }
  ]
}