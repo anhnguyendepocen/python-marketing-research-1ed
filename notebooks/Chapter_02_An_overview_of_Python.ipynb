{
  "nbformat": 4,
  "nbformat_minor": 0,
  "metadata": {
    "colab": {
      "name": "Chapter 2 - An overview of Python",
      "provenance": [],
      "collapsed_sections": []
    },
    "kernelspec": {
      "name": "python3",
      "display_name": "Python 3"
    }
  },
  "cells": [
    {
      "cell_type": "code",
      "metadata": {
        "colab_type": "code",
        "id": "UOpMk6LShR0g",
        "colab": {}
      },
      "source": [
        "%config InlineBackend.figure_format = 'svg'"
      ],
      "execution_count": null,
      "outputs": []
    },
    {
      "cell_type": "code",
      "metadata": {
        "id": "avZVrEJESOG0",
        "colab_type": "code",
        "colab": {}
      },
      "source": [
        "!which python"
      ],
      "execution_count": null,
      "outputs": []
    },
    {
      "cell_type": "code",
      "metadata": {
        "id": "gRXv2RxMSToX",
        "colab_type": "code",
        "colab": {}
      },
      "source": [
        "!python --version"
      ],
      "execution_count": null,
      "outputs": []
    },
    {
      "cell_type": "code",
      "metadata": {
        "id": "QzhTaZ1l8cbY",
        "colab_type": "code",
        "colab": {}
      },
      "source": [
        "!pip install pandas seaborn"
      ],
      "execution_count": null,
      "outputs": []
    },
    {
      "cell_type": "markdown",
      "metadata": {
        "id": "unUk2YiiaJf_",
        "colab_type": "text"
      },
      "source": [
        "## 2.2 A quick tour of Python data analysis capabilities"
      ]
    },
    {
      "cell_type": "code",
      "metadata": {
        "id": "gUvax8BQSaHh",
        "colab_type": "code",
        "colab": {}
      },
      "source": [
        "import pandas as pd\n",
        "sat_df = pd.read_csv('https://bit.ly/PMR-ch2')\n",
        "sat_df.Segment = sat_df.Segment.astype(pd.api.types.\n",
        "                                       CategoricalDtype())\n",
        "sat_df.head()"
      ],
      "execution_count": null,
      "outputs": []
    },
    {
      "cell_type": "code",
      "metadata": {
        "id": "vVL7XPrVSwoy",
        "colab_type": "code",
        "colab": {}
      },
      "source": [
        "sat_df.describe()"
      ],
      "execution_count": null,
      "outputs": []
    },
    {
      "cell_type": "code",
      "metadata": {
        "id": "ZHBfDjuyS00p",
        "colab_type": "code",
        "colab": {}
      },
      "source": [
        "import seaborn as sns\n",
        "sns.heatmap(sat_df.corr())"
      ],
      "execution_count": null,
      "outputs": []
    },
    {
      "cell_type": "code",
      "metadata": {
        "id": "sMaowXazVuF2",
        "colab_type": "code",
        "colab": {}
      },
      "source": [
        "sat_df.groupby('Segment').iProdSAT.mean()"
      ],
      "execution_count": null,
      "outputs": []
    },
    {
      "cell_type": "code",
      "metadata": {
        "id": "blX2ZN81WAQ3",
        "colab_type": "code",
        "colab": {}
      },
      "source": [
        "import statsmodels.formula.api as smf\n",
        "from statsmodels.stats import anova as sms_anova\n",
        "segment_psat_lm = smf.ols('iProdSAT ~ -1 + Segment',\n",
        "                          data=sat_df).fit()\n",
        "sms_anova.anova_lm(segment_psat_lm)"
      ],
      "execution_count": null,
      "outputs": []
    },
    {
      "cell_type": "code",
      "metadata": {
        "id": "HHr5kA0HEJW7",
        "colab_type": "code",
        "colab": {}
      },
      "source": [
        "import matplotlib.pyplot as plt\n",
        "plt.errorbar(y=segment_psat_lm.params.index,\n",
        "             x=segment_psat_lm.params.values,\n",
        "             xerr=segment_psat_lm.conf_int()[1].T\n",
        "                  - segment_psat_lm.params,\n",
        "             fmt='ko')"
      ],
      "execution_count": null,
      "outputs": []
    },
    {
      "cell_type": "markdown",
      "metadata": {
        "id": "oKjJOXC-aSRX",
        "colab_type": "text"
      },
      "source": [
        "## Basics of working with Python commands"
      ]
    },
    {
      "cell_type": "code",
      "metadata": {
        "colab_type": "code",
        "id": "NjFnR9KJJD_Q",
        "colab": {}
      },
      "source": [
        "x = [1, 23, 6]\n",
        "print(x)"
      ],
      "execution_count": null,
      "outputs": []
    },
    {
      "cell_type": "code",
      "metadata": {
        "id": "0sTzax-TJWO_",
        "colab_type": "code",
        "colab": {}
      },
      "source": [
        "print(X)"
      ],
      "execution_count": null,
      "outputs": []
    },
    {
      "cell_type": "code",
      "metadata": {
        "id": "6HQU8kPmJceX",
        "colab_type": "code",
        "colab": {}
      },
      "source": [
        "x = [1, 23, 6] # Initialize a list"
      ],
      "execution_count": null,
      "outputs": []
    },
    {
      "cell_type": "code",
      "metadata": {
        "id": "Kp6OYFQzantX",
        "colab_type": "code",
        "colab": {}
      },
      "source": [
        "# Initialize a list\n",
        "x = [1, 23, 6]\n",
        "print(x)"
      ],
      "execution_count": null,
      "outputs": []
    },
    {
      "cell_type": "markdown",
      "metadata": {
        "id": "CiURr1b0fDAG",
        "colab_type": "text"
      },
      "source": [
        "## 2.4 Built-in types"
      ]
    },
    {
      "cell_type": "markdown",
      "metadata": {
        "id": "gpEnpQ-EfIiW",
        "colab_type": "text"
      },
      "source": [
        "### 2.4.1 Booleans"
      ]
    },
    {
      "cell_type": "code",
      "metadata": {
        "id": "Ro_b_fQEap14",
        "colab_type": "code",
        "colab": {}
      },
      "source": [
        "1 == 1"
      ],
      "execution_count": null,
      "outputs": []
    },
    {
      "cell_type": "code",
      "metadata": {
        "id": "3IrnoaIwhves",
        "colab_type": "code",
        "colab": {}
      },
      "source": [
        "1 < 2"
      ],
      "execution_count": null,
      "outputs": []
    },
    {
      "cell_type": "code",
      "metadata": {
        "id": "6zFc-DQmhzec",
        "colab_type": "code",
        "colab": {}
      },
      "source": [
        "1 == 2"
      ],
      "execution_count": null,
      "outputs": []
    },
    {
      "cell_type": "code",
      "metadata": {
        "id": "rCc-i-j8h0H0",
        "colab_type": "code",
        "colab": {}
      },
      "source": [
        "x = True\n",
        "y = False\n",
        "x or y"
      ],
      "execution_count": null,
      "outputs": []
    },
    {
      "cell_type": "code",
      "metadata": {
        "id": "9tWVkE84iJSu",
        "colab_type": "code",
        "colab": {}
      },
      "source": [
        "x and y"
      ],
      "execution_count": null,
      "outputs": []
    },
    {
      "cell_type": "code",
      "metadata": {
        "id": "pkn6YpyXiJ4V",
        "colab_type": "code",
        "colab": {}
      },
      "source": [
        "x and not y"
      ],
      "execution_count": null,
      "outputs": []
    },
    {
      "cell_type": "markdown",
      "metadata": {
        "id": "JP0G-l7ykmXA",
        "colab_type": "text"
      },
      "source": [
        "### 2.4.2 Numeric types"
      ]
    },
    {
      "cell_type": "markdown",
      "metadata": {
        "id": "3HXrVGaVnkon",
        "colab_type": "text"
      },
      "source": [
        "int"
      ]
    },
    {
      "cell_type": "code",
      "metadata": {
        "id": "VSpC0As_lhqq",
        "colab_type": "code",
        "colab": {}
      },
      "source": [
        "x = 2\n",
        "y = 4\n",
        "x + y"
      ],
      "execution_count": null,
      "outputs": []
    },
    {
      "cell_type": "code",
      "metadata": {
        "id": "CrrbFnKslsl0",
        "colab_type": "code",
        "colab": {}
      },
      "source": [
        "w = x/y\n",
        "w"
      ],
      "execution_count": null,
      "outputs": []
    },
    {
      "cell_type": "code",
      "metadata": {
        "id": "JioPklJTvGzJ",
        "colab_type": "code",
        "colab": {}
      },
      "source": [
        "type(w)"
      ],
      "execution_count": null,
      "outputs": []
    },
    {
      "cell_type": "code",
      "metadata": {
        "id": "iMUF2HgmmFz8",
        "colab_type": "code",
        "colab": {}
      },
      "source": [
        "x ** y"
      ],
      "execution_count": null,
      "outputs": []
    },
    {
      "cell_type": "markdown",
      "metadata": {
        "id": "I0CalWqonndJ",
        "colab_type": "text"
      },
      "source": [
        "float"
      ]
    },
    {
      "cell_type": "code",
      "metadata": {
        "id": "tgn89zZHlq-7",
        "colab_type": "code",
        "colab": {}
      },
      "source": [
        "z = 3.2\n",
        "type(x * z)"
      ],
      "execution_count": null,
      "outputs": []
    },
    {
      "cell_type": "markdown",
      "metadata": {
        "id": "GAHzCai4no3X",
        "colab_type": "text"
      },
      "source": [
        "complex"
      ]
    },
    {
      "cell_type": "code",
      "metadata": {
        "colab_type": "code",
        "id": "InGbrMxLleKs",
        "colab": {}
      },
      "source": [
        "3j"
      ],
      "execution_count": null,
      "outputs": []
    },
    {
      "cell_type": "code",
      "metadata": {
        "id": "dprnfTnmk8xS",
        "colab_type": "code",
        "colab": {}
      },
      "source": [
        "3j**2"
      ],
      "execution_count": null,
      "outputs": []
    },
    {
      "cell_type": "markdown",
      "metadata": {
        "id": "53cQRjdMnOdH",
        "colab_type": "text"
      },
      "source": [
        "## 2.4.3 Sequence types"
      ]
    },
    {
      "cell_type": "markdown",
      "metadata": {
        "id": "Ir7zxvMvnp_n",
        "colab_type": "text"
      },
      "source": [
        "list"
      ]
    },
    {
      "cell_type": "code",
      "metadata": {
        "id": "lLYQnZrCnPiJ",
        "colab_type": "code",
        "colab": {}
      },
      "source": [
        "x = [0, 1, 2, 3, 4, 5]\n",
        "y = ['a', 'b', 'c']"
      ],
      "execution_count": null,
      "outputs": []
    },
    {
      "cell_type": "code",
      "metadata": {
        "id": "GX7dh18bnPf2",
        "colab_type": "code",
        "colab": {}
      },
      "source": [
        "x + y"
      ],
      "execution_count": null,
      "outputs": []
    },
    {
      "cell_type": "code",
      "metadata": {
        "id": "rvgJN6yxyD2p",
        "colab_type": "code",
        "colab": {}
      },
      "source": [
        "x.append('r')\n",
        "x"
      ],
      "execution_count": null,
      "outputs": []
    },
    {
      "cell_type": "code",
      "metadata": {
        "id": "k0traoC0nPc-",
        "colab_type": "code",
        "colab": {}
      },
      "source": [
        "len(x)"
      ],
      "execution_count": null,
      "outputs": []
    },
    {
      "cell_type": "code",
      "metadata": {
        "id": "eFxK_4ZfoQHw",
        "colab_type": "code",
        "colab": {}
      },
      "source": [
        "x[1]"
      ],
      "execution_count": null,
      "outputs": []
    },
    {
      "cell_type": "code",
      "metadata": {
        "id": "Jr4Lm2NO4utn",
        "colab_type": "code",
        "colab": {}
      },
      "source": [
        "x[2:4]"
      ],
      "execution_count": null,
      "outputs": []
    },
    {
      "cell_type": "code",
      "metadata": {
        "id": "bS8hCEr4n8X6",
        "colab_type": "code",
        "colab": {}
      },
      "source": [
        "x[:2]"
      ],
      "execution_count": null,
      "outputs": []
    },
    {
      "cell_type": "code",
      "metadata": {
        "id": "Ee82oSaunPaP",
        "colab_type": "code",
        "colab": {}
      },
      "source": [
        "x[1:]"
      ],
      "execution_count": null,
      "outputs": []
    },
    {
      "cell_type": "code",
      "metadata": {
        "id": "NwSzBxr9nO_g",
        "colab_type": "code",
        "colab": {}
      },
      "source": [
        "x[-2:]"
      ],
      "execution_count": null,
      "outputs": []
    },
    {
      "cell_type": "code",
      "metadata": {
        "id": "tYJGOM3QoE0R",
        "colab_type": "code",
        "colab": {}
      },
      "source": [
        "x[2] = 'freeze'\n",
        "x"
      ],
      "execution_count": null,
      "outputs": []
    },
    {
      "cell_type": "markdown",
      "metadata": {
        "id": "UfOiuoC2oKRQ",
        "colab_type": "text"
      },
      "source": [
        "tuples"
      ]
    },
    {
      "cell_type": "code",
      "metadata": {
        "id": "2p5NpgtooLPh",
        "colab_type": "code",
        "colab": {}
      },
      "source": [
        "z = (7, 8, 9)"
      ],
      "execution_count": null,
      "outputs": []
    },
    {
      "cell_type": "code",
      "metadata": {
        "id": "j7B_aVKboLFx",
        "colab_type": "code",
        "colab": {}
      },
      "source": [
        "z[1]"
      ],
      "execution_count": null,
      "outputs": []
    },
    {
      "cell_type": "code",
      "metadata": {
        "id": "TPbCGaeIoTOZ",
        "colab_type": "code",
        "colab": {}
      },
      "source": [
        "z[1] = 'boil'"
      ],
      "execution_count": null,
      "outputs": []
    },
    {
      "cell_type": "markdown",
      "metadata": {
        "id": "hsz-ZhNCoayR",
        "colab_type": "text"
      },
      "source": [
        "ranges"
      ]
    },
    {
      "cell_type": "code",
      "metadata": {
        "id": "Sq4tL9h2oVYw",
        "colab_type": "code",
        "colab": {}
      },
      "source": [
        "range(10)"
      ],
      "execution_count": null,
      "outputs": []
    },
    {
      "cell_type": "code",
      "metadata": {
        "id": "Tt5aA55uod5R",
        "colab_type": "code",
        "colab": {}
      },
      "source": [
        "list(range(10))"
      ],
      "execution_count": null,
      "outputs": []
    },
    {
      "cell_type": "code",
      "metadata": {
        "id": "63ktsaqMbSJy",
        "colab_type": "code",
        "colab": {}
      },
      "source": [
        "list(range(2,12))"
      ],
      "execution_count": null,
      "outputs": []
    },
    {
      "cell_type": "code",
      "metadata": {
        "id": "0jywM68WohFo",
        "colab_type": "code",
        "colab": {}
      },
      "source": [
        "list(range(2, 12, 2))"
      ],
      "execution_count": null,
      "outputs": []
    },
    {
      "cell_type": "markdown",
      "metadata": {
        "id": "BVGYPAmFmaYJ",
        "colab_type": "text"
      },
      "source": [
        "### 2.4.4 Text sequence type - str"
      ]
    },
    {
      "cell_type": "code",
      "metadata": {
        "id": "DcRZ2XeJlHvj",
        "colab_type": "code",
        "colab": {}
      },
      "source": [
        "x = 'Hello'\n",
        "y = \"World\"\n",
        "x+y"
      ],
      "execution_count": null,
      "outputs": []
    },
    {
      "cell_type": "code",
      "metadata": {
        "id": "mBCGM5LanKWo",
        "colab_type": "code",
        "colab": {}
      },
      "source": [
        "x[3:]"
      ],
      "execution_count": null,
      "outputs": []
    },
    {
      "cell_type": "code",
      "metadata": {
        "id": "Oa_PvHbeorjr",
        "colab_type": "code",
        "colab": {}
      },
      "source": [
        "x.lower()"
      ],
      "execution_count": null,
      "outputs": []
    },
    {
      "cell_type": "code",
      "metadata": {
        "id": "bi8hSpXJowvb",
        "colab_type": "code",
        "colab": {}
      },
      "source": [
        "x.upper()"
      ],
      "execution_count": null,
      "outputs": []
    },
    {
      "cell_type": "code",
      "metadata": {
        "id": "uDPa4eHvo1A6",
        "colab_type": "code",
        "colab": {}
      },
      "source": [
        "x.replace('lo', 'p')"
      ],
      "execution_count": null,
      "outputs": []
    },
    {
      "cell_type": "code",
      "metadata": {
        "id": "lb8zeh3to5mD",
        "colab_type": "code",
        "colab": {}
      },
      "source": [
        "', '.join([x,y, 'what a day!'])"
      ],
      "execution_count": null,
      "outputs": []
    },
    {
      "cell_type": "code",
      "metadata": {
        "id": "Lm5uuGN7fGeH",
        "colab_type": "code",
        "colab": {}
      },
      "source": [
        "'Hello, World, what a day!'.split(',')"
      ],
      "execution_count": null,
      "outputs": []
    },
    {
      "cell_type": "markdown",
      "metadata": {
        "id": "2tJ7QHJ47nRC",
        "colab_type": "text"
      },
      "source": [
        "#### Format"
      ]
    },
    {
      "cell_type": "code",
      "metadata": {
        "id": "P7traGQE7qDB",
        "colab_type": "code",
        "colab": {}
      },
      "source": [
        "temperature = 21.34\n",
        "'The temperature today is {} degrees'.format(temperature)"
      ],
      "execution_count": null,
      "outputs": []
    },
    {
      "cell_type": "code",
      "metadata": {
        "id": "cC7b5if079ru",
        "colab_type": "code",
        "colab": {}
      },
      "source": [
        "x = 18.93\n",
        "y = 345.234\n",
        "'{} divided by {} equals {}'.format(x, y, x/y)"
      ],
      "execution_count": null,
      "outputs": []
    },
    {
      "cell_type": "code",
      "metadata": {
        "id": "0sZvDVkp8Qwj",
        "colab_type": "code",
        "colab": {}
      },
      "source": [
        "'{x} plus {x} plus {y} equals {r}'.format(x=x, y=y, r=x + x + y)"
      ],
      "execution_count": null,
      "outputs": []
    },
    {
      "cell_type": "markdown",
      "metadata": {
        "id": "W-dwG1MPrSGI",
        "colab_type": "text"
      },
      "source": [
        "### 2.4.5 Set types"
      ]
    },
    {
      "cell_type": "code",
      "metadata": {
        "id": "VBmBiB5Xo_sc",
        "colab_type": "code",
        "colab": {}
      },
      "source": [
        "x = [1, 1, 3, 8, 12, 12]\n",
        "set(x)"
      ],
      "execution_count": null,
      "outputs": []
    },
    {
      "cell_type": "code",
      "metadata": {
        "id": "oAhVsSEF9KEr",
        "colab_type": "code",
        "colab": {}
      },
      "source": [
        "3 in x"
      ],
      "execution_count": null,
      "outputs": []
    },
    {
      "cell_type": "code",
      "metadata": {
        "id": "9vnDTaKQ9M6h",
        "colab_type": "code",
        "colab": {}
      },
      "source": [
        "5 in x"
      ],
      "execution_count": null,
      "outputs": []
    },
    {
      "cell_type": "code",
      "metadata": {
        "id": "Q3gFMf65rc_w",
        "colab_type": "code",
        "colab": {}
      },
      "source": [
        "x = set([1, 1, 3, 8, 12, 12])\n",
        "y = set([2, 2, 8, 9])\n",
        "x.intersection(y)"
      ],
      "execution_count": null,
      "outputs": []
    },
    {
      "cell_type": "code",
      "metadata": {
        "id": "482OLCLzrndR",
        "colab_type": "code",
        "colab": {}
      },
      "source": [
        "y.difference(x)"
      ],
      "execution_count": null,
      "outputs": []
    },
    {
      "cell_type": "code",
      "metadata": {
        "id": "_54FLOt9rrXw",
        "colab_type": "code",
        "colab": {}
      },
      "source": [
        "x.union(y)"
      ],
      "execution_count": null,
      "outputs": []
    },
    {
      "cell_type": "markdown",
      "metadata": {
        "id": "iONBHy6FrwEI",
        "colab_type": "text"
      },
      "source": [
        "### 2.4.6 Mapping types"
      ]
    },
    {
      "cell_type": "code",
      "metadata": {
        "id": "ilHdswl7rvPA",
        "colab_type": "code",
        "colab": {}
      },
      "source": [
        "x = dict(a=1, b=2, c=3)\n",
        "x"
      ],
      "execution_count": null,
      "outputs": []
    },
    {
      "cell_type": "code",
      "metadata": {
        "id": "PxAvIr2wB0uF",
        "colab_type": "code",
        "colab": {}
      },
      "source": [
        "x = {'a': 1, 'b': 2, 'c': 3}\n",
        "x"
      ],
      "execution_count": null,
      "outputs": []
    },
    {
      "cell_type": "code",
      "metadata": {
        "id": "RydLZUR7CYl1",
        "colab_type": "code",
        "colab": {}
      },
      "source": [
        "y = {1: 'a', 2: 'b', 3: 'c'}\n",
        "y"
      ],
      "execution_count": null,
      "outputs": []
    },
    {
      "cell_type": "code",
      "metadata": {
        "id": "VoTKT3nfr6CQ",
        "colab_type": "code",
        "colab": {}
      },
      "source": [
        "x['a']"
      ],
      "execution_count": null,
      "outputs": []
    },
    {
      "cell_type": "code",
      "metadata": {
        "id": "OF5P9o1XsHFw",
        "colab_type": "code",
        "colab": {}
      },
      "source": [
        "y.items()"
      ],
      "execution_count": null,
      "outputs": []
    },
    {
      "cell_type": "code",
      "metadata": {
        "id": "0ErcA_xZsLnB",
        "colab_type": "code",
        "colab": {}
      },
      "source": [
        "y.keys()"
      ],
      "execution_count": null,
      "outputs": []
    },
    {
      "cell_type": "code",
      "metadata": {
        "id": "lVizijFVsMji",
        "colab_type": "code",
        "colab": {}
      },
      "source": [
        "y.values()"
      ],
      "execution_count": null,
      "outputs": []
    },
    {
      "cell_type": "markdown",
      "metadata": {
        "id": "HPN1WdA9sjD4",
        "colab_type": "text"
      },
      "source": [
        "### 2.4.7 Functions, classes, and methods"
      ]
    },
    {
      "cell_type": "code",
      "metadata": {
        "id": "UShmxihZsN8p",
        "colab_type": "code",
        "colab": {}
      },
      "source": [
        "def add(a, b):\n",
        "  return a + b"
      ],
      "execution_count": null,
      "outputs": []
    },
    {
      "cell_type": "code",
      "metadata": {
        "id": "yjUTglPdvT_N",
        "colab_type": "code",
        "colab": {}
      },
      "source": [
        "add(3, 4)"
      ],
      "execution_count": null,
      "outputs": []
    },
    {
      "cell_type": "code",
      "metadata": {
        "id": "ly1LMNZ8b6GS",
        "colab_type": "code",
        "colab": {}
      },
      "source": [
        "add(a=3, b=4)"
      ],
      "execution_count": null,
      "outputs": []
    },
    {
      "cell_type": "code",
      "metadata": {
        "id": "AEVBIstLcIqy",
        "colab_type": "code",
        "colab": {}
      },
      "source": [
        "def add(a, b=0):\n",
        "  return a + b"
      ],
      "execution_count": null,
      "outputs": []
    },
    {
      "cell_type": "code",
      "metadata": {
        "id": "zjNWi6y5cLOb",
        "colab_type": "code",
        "colab": {}
      },
      "source": [
        "add(3)"
      ],
      "execution_count": null,
      "outputs": []
    },
    {
      "cell_type": "code",
      "metadata": {
        "id": "V4e0tflhcMNB",
        "colab_type": "code",
        "colab": {}
      },
      "source": [
        "add(3, 4)"
      ],
      "execution_count": null,
      "outputs": []
    },
    {
      "cell_type": "code",
      "metadata": {
        "id": "gn0pWSZOvV8S",
        "colab_type": "code",
        "colab": {}
      },
      "source": [
        "class Adder:\n",
        "  '''A class that adds its parameters'''\n",
        "  def __init__(self, a, b):\n",
        "    self.x = a\n",
        "    self.y = b\n",
        "\n",
        "  def add(self):\n",
        "    return self.x + self.y"
      ],
      "execution_count": null,
      "outputs": []
    },
    {
      "cell_type": "code",
      "metadata": {
        "id": "t1hCBY_6v0Oj",
        "colab_type": "code",
        "colab": {}
      },
      "source": [
        "\n",
        "adder = Adder(3, 4)\n",
        "adder"
      ],
      "execution_count": null,
      "outputs": []
    },
    {
      "cell_type": "code",
      "metadata": {
        "id": "ByuTXbXCwnWe",
        "colab_type": "code",
        "colab": {}
      },
      "source": [
        "adder.x"
      ],
      "execution_count": null,
      "outputs": []
    },
    {
      "cell_type": "code",
      "metadata": {
        "id": "oP0KNhmmwBWO",
        "colab_type": "code",
        "colab": {}
      },
      "source": [
        "adder.add()"
      ],
      "execution_count": null,
      "outputs": []
    },
    {
      "cell_type": "code",
      "metadata": {
        "id": "XMlpyipC62pO",
        "colab_type": "code",
        "colab": {}
      },
      "source": [
        "adder2 = Adder('frog', 'coyote')\n",
        "adder2.add()"
      ],
      "execution_count": null,
      "outputs": []
    },
    {
      "cell_type": "markdown",
      "metadata": {
        "id": "JcvJwI6zQcqH",
        "colab_type": "text"
      },
      "source": [
        "### 2.4.8 Modules and packages"
      ]
    },
    {
      "cell_type": "code",
      "metadata": {
        "id": "vREcmwl0Gus9",
        "colab_type": "code",
        "colab": {}
      },
      "source": [
        "!pip install python_marketing_research"
      ],
      "execution_count": null,
      "outputs": []
    },
    {
      "cell_type": "code",
      "metadata": {
        "id": "lH9Js5hD6GIA",
        "colab_type": "code",
        "colab": {}
      },
      "source": [
        "from python_marketing_research_functions import chapter2\n",
        "\n",
        "chapter2.add(3, 4)"
      ],
      "execution_count": null,
      "outputs": []
    },
    {
      "cell_type": "code",
      "metadata": {
        "id": "IiOHIvy2TovO",
        "colab_type": "code",
        "colab": {}
      },
      "source": [
        "adder = chapter2.Adder(3, 4)\n",
        "adder.add()"
      ],
      "execution_count": null,
      "outputs": []
    },
    {
      "cell_type": "code",
      "metadata": {
        "id": "0QZDg3uEJC9j",
        "colab_type": "code",
        "colab": {}
      },
      "source": [
        "!wget https://raw.githubusercontent.com/python-marketing-research/\\\n",
        "  python-marketing-research-1ed/master/requirements.txt\n",
        "!pip install -r requirements.txt"
      ],
      "execution_count": null,
      "outputs": []
    },
    {
      "cell_type": "markdown",
      "metadata": {
        "id": "wtDzWTYP1LJu",
        "colab_type": "text"
      },
      "source": [
        "### 2.4.9 Control flow"
      ]
    },
    {
      "cell_type": "markdown",
      "metadata": {
        "id": "oh66tvJ84ig7",
        "colab_type": "text"
      },
      "source": [
        "#### If statement"
      ]
    },
    {
      "cell_type": "code",
      "metadata": {
        "id": "aCJPeiLc3b3-",
        "colab_type": "code",
        "colab": {}
      },
      "source": [
        "x = 5\n",
        "if x > 2:\n",
        "  print('x = {}, which is greater than 2'.format(x))\n",
        "print('Done!')"
      ],
      "execution_count": null,
      "outputs": []
    },
    {
      "cell_type": "code",
      "metadata": {
        "id": "xTdzeTuBbWTH",
        "colab_type": "code",
        "colab": {}
      },
      "source": [
        "x = 0\n",
        "if x > 2:\n",
        "  print('x = {}, which is greater than 2'.format(x))\n",
        "print('Done!')"
      ],
      "execution_count": null,
      "outputs": []
    },
    {
      "cell_type": "code",
      "metadata": {
        "id": "XFZZjppF3icC",
        "colab_type": "code",
        "colab": {}
      },
      "source": [
        "x = 0\n",
        "if x > 2:\n",
        "  print('x = {}, which is greater than 2'.format(x))\n",
        "else:\n",
        "  print('x = {}, which is less than or equal to 2'.format(x))"
      ],
      "execution_count": null,
      "outputs": []
    },
    {
      "cell_type": "code",
      "metadata": {
        "id": "-lnD_1EaVtME",
        "colab_type": "code",
        "colab": {}
      },
      "source": [
        "x = 2\n",
        "if x > 2:\n",
        "  print('x = {}, which is greater than 2'.format(x))\n",
        "elif x == 2:\n",
        "  print('x = {}, which equals 2!'.format(x))\n",
        "else:\n",
        "  print('x = {}, which is less than 2'.format(x))"
      ],
      "execution_count": null,
      "outputs": []
    },
    {
      "cell_type": "code",
      "metadata": {
        "id": "pMyFkVdj4l9k",
        "colab_type": "code",
        "colab": {}
      },
      "source": [
        "def check_present(value, values):\n",
        "  if value in values:\n",
        "    print('{} was found in the values'.format(value))\n",
        "  else:\n",
        "    print('{} was NOT found in the values'.format(value))"
      ],
      "execution_count": null,
      "outputs": []
    },
    {
      "cell_type": "code",
      "metadata": {
        "id": "0P6-ij6e47jt",
        "colab_type": "code",
        "colab": {}
      },
      "source": [
        "a = set([4, 2, 5, 1, 12, 33])\n",
        "check_present(38, a)\n",
        "check_present(12, a)"
      ],
      "execution_count": null,
      "outputs": []
    },
    {
      "cell_type": "markdown",
      "metadata": {
        "id": "Y5opE6Hr639_",
        "colab_type": "text"
      },
      "source": [
        "#### While statement"
      ]
    },
    {
      "cell_type": "code",
      "metadata": {
        "id": "bX2mA4BMTif_",
        "colab_type": "code",
        "colab": {}
      },
      "source": [
        "x = 0\n",
        "while x < 5:\n",
        "  print(x)\n",
        "  x += 1"
      ],
      "execution_count": null,
      "outputs": []
    },
    {
      "cell_type": "code",
      "metadata": {
        "id": "01TqJljW7g1g",
        "colab_type": "code",
        "colab": {}
      },
      "source": [
        "a = [4, 2, 5, 1, 12, 33]\n",
        "a_squared = []\n",
        "i = 0\n",
        "while i < len(a):\n",
        "  a_squared.append(a[i]**2)\n",
        "  i += 1\n",
        "print('a_squared generated: {}'.format(a_squared))"
      ],
      "execution_count": null,
      "outputs": []
    },
    {
      "cell_type": "markdown",
      "metadata": {
        "id": "c20RW6F3_A70",
        "colab_type": "text"
      },
      "source": [
        "#### For statements"
      ]
    },
    {
      "cell_type": "code",
      "metadata": {
        "id": "OY5cLHKZ9svz",
        "colab_type": "code",
        "colab": {}
      },
      "source": [
        "a = [4, 2, 5, 1, 12, 33]\n",
        "a_squared = []\n",
        "for x in a:\n",
        "  a_squared.append(x**2)\n",
        "print('a_squared generated: {}'.format(a_squared))"
      ],
      "execution_count": null,
      "outputs": []
    },
    {
      "cell_type": "code",
      "metadata": {
        "id": "ivyPbEpL_WUc",
        "colab_type": "code",
        "colab": {}
      },
      "source": [
        "for i in range(5):\n",
        "  print(i)"
      ],
      "execution_count": null,
      "outputs": []
    },
    {
      "cell_type": "code",
      "metadata": {
        "id": "lb_1C5VH2y4c",
        "colab_type": "code",
        "colab": {}
      },
      "source": [
        "a_squared = []\n",
        "for i in range(len(a)):\n",
        "  a_squared.append(a[i]**2)\n",
        "print('a_squared generated: {}'.format(a_squared))"
      ],
      "execution_count": null,
      "outputs": []
    },
    {
      "cell_type": "code",
      "metadata": {
        "id": "Z_V9rwMj_8fm",
        "colab_type": "code",
        "colab": {}
      },
      "source": [
        "for i in range(21, 100, 12):\n",
        "  print(i)"
      ],
      "execution_count": null,
      "outputs": []
    },
    {
      "cell_type": "code",
      "metadata": {
        "id": "Wv_UG1tTBB6Z",
        "colab_type": "code",
        "colab": {}
      },
      "source": [
        "for x, y in zip(range(6), range(6, 18, 2)):\n",
        "  print(x,y)"
      ],
      "execution_count": null,
      "outputs": []
    },
    {
      "cell_type": "code",
      "metadata": {
        "id": "ePYmW9dQBOMR",
        "colab_type": "code",
        "colab": {}
      },
      "source": [
        "for j, k in zip(range(6), range(6, 12, 2)):\n",
        "  print(j, k)"
      ],
      "execution_count": null,
      "outputs": []
    },
    {
      "cell_type": "code",
      "metadata": {
        "id": "pdB8Bl0U5zIN",
        "colab_type": "code",
        "colab": {}
      },
      "source": [
        "for i, x in enumerate(a):\n",
        "  print(i, x)"
      ],
      "execution_count": null,
      "outputs": []
    },
    {
      "cell_type": "code",
      "metadata": {
        "id": "tLSnXz4LExJL",
        "colab_type": "code",
        "colab": {}
      },
      "source": [
        "x = 34\n",
        "y = x-1\n",
        "while True:\n",
        "  if x % y == 0:\n",
        "    break\n",
        "  y -= 1\n",
        "print('{y} is the largest factor of {x},\\n{f2} times {y} equals {x}'\n",
        "      .format(y=y, x=x, f2=x/y))"
      ],
      "execution_count": null,
      "outputs": []
    },
    {
      "cell_type": "markdown",
      "metadata": {
        "id": "CtoxbTfVavJG",
        "colab_type": "text"
      },
      "source": [
        "#### List comprehension"
      ]
    },
    {
      "cell_type": "code",
      "metadata": {
        "id": "tXtcKfH_H5TP",
        "colab_type": "code",
        "colab": {}
      },
      "source": [
        "a = [4, 2, 5, 1, 12, 33]"
      ],
      "execution_count": null,
      "outputs": []
    },
    {
      "cell_type": "code",
      "metadata": {
        "id": "_TXTw73Naura",
        "colab_type": "code",
        "colab": {}
      },
      "source": [
        "a_plus_one = [x + 1 for x in a]\n",
        "a_plus_one"
      ],
      "execution_count": null,
      "outputs": []
    },
    {
      "cell_type": "code",
      "metadata": {
        "id": "SN5A8DoOauNK",
        "colab_type": "code",
        "colab": {}
      },
      "source": [
        "a_plus_one_filtered = [x + 1 for x in a if x < 12]\n",
        "a_plus_one_filtered"
      ],
      "execution_count": null,
      "outputs": []
    },
    {
      "cell_type": "code",
      "metadata": {
        "id": "NfVba8lSa_2q",
        "colab_type": "code",
        "colab": {}
      },
      "source": [
        "a_modified = [x + 1 if x < 12 else x * 100 for x in a]\n",
        "a_modified"
      ],
      "execution_count": null,
      "outputs": []
    },
    {
      "cell_type": "code",
      "metadata": {
        "id": "ZLSLoxCBBFFk",
        "colab_type": "code",
        "colab": {}
      },
      "source": [
        "a_square_tuples = [(v, v**2) for v in a]\n",
        "a_square_tuples"
      ],
      "execution_count": null,
      "outputs": []
    },
    {
      "cell_type": "code",
      "metadata": {
        "id": "QdW-Hs58HxED",
        "colab_type": "code",
        "colab": {}
      },
      "source": [
        "a_reconstructed = [w/v for v,w in a_square_tuples]\n",
        "a_reconstructed"
      ],
      "execution_count": null,
      "outputs": []
    },
    {
      "cell_type": "code",
      "metadata": {
        "id": "y6dYudsTA5td",
        "colab_type": "code",
        "colab": {}
      },
      "source": [
        "a_square_dict = {v: v**2 for v in a}\n",
        "a_square_dict"
      ],
      "execution_count": null,
      "outputs": []
    },
    {
      "cell_type": "markdown",
      "metadata": {
        "id": "R1I7TH1gDkTa",
        "colab_type": "text"
      },
      "source": [
        "### Help!"
      ]
    },
    {
      "cell_type": "code",
      "metadata": {
        "id": "izSozmEHEHrq",
        "colab_type": "code",
        "colab": {}
      },
      "source": [
        "help(range)"
      ],
      "execution_count": null,
      "outputs": []
    },
    {
      "cell_type": "code",
      "metadata": {
        "id": "GJHQ0_0tEJzB",
        "colab_type": "code",
        "colab": {}
      },
      "source": [
        "help(Adder)"
      ],
      "execution_count": null,
      "outputs": []
    },
    {
      "cell_type": "code",
      "metadata": {
        "id": "NsAvTn5dEK7E",
        "colab_type": "code",
        "colab": {}
      },
      "source": [
        "?range"
      ],
      "execution_count": null,
      "outputs": []
    },
    {
      "cell_type": "markdown",
      "metadata": {
        "id": "ymdzyfVwT0dn",
        "colab_type": "text"
      },
      "source": [
        "### 2.5.1 NumPy"
      ]
    },
    {
      "cell_type": "markdown",
      "metadata": {
        "id": "8m6-cRXpT5XF",
        "colab_type": "text"
      },
      "source": [
        "#### Array"
      ]
    },
    {
      "cell_type": "code",
      "metadata": {
        "id": "RDR6LmY81KdX",
        "colab_type": "code",
        "colab": {}
      },
      "source": [
        "import numpy as np"
      ],
      "execution_count": null,
      "outputs": []
    },
    {
      "cell_type": "code",
      "metadata": {
        "id": "fqJL_nGcT8td",
        "colab_type": "code",
        "colab": {}
      },
      "source": [
        "x = np.array([1, 3, 4])\n",
        "print(x)\n",
        "print(x.dtype)"
      ],
      "execution_count": null,
      "outputs": []
    },
    {
      "cell_type": "code",
      "metadata": {
        "id": "nusDE4WeUBRY",
        "colab_type": "code",
        "colab": {}
      },
      "source": [
        "x = np.array([1, 3, 4, 'a', 'b'])\n",
        "print(x)\n",
        "print(x.dtype)"
      ],
      "execution_count": null,
      "outputs": []
    },
    {
      "cell_type": "code",
      "metadata": {
        "id": "_HuJF7kFUCV1",
        "colab_type": "code",
        "colab": {}
      },
      "source": [
        "a = [7, 4, 2, 22, -12]\n",
        "a[:3]"
      ],
      "execution_count": null,
      "outputs": []
    },
    {
      "cell_type": "code",
      "metadata": {
        "id": "_Ef6gsuIUJ2V",
        "colab_type": "code",
        "colab": {}
      },
      "source": [
        "x = np.array(a)\n",
        "x[:3]"
      ],
      "execution_count": null,
      "outputs": []
    },
    {
      "cell_type": "code",
      "metadata": {
        "id": "uA2ncV5pVYXP",
        "colab_type": "code",
        "colab": {}
      },
      "source": [
        "x[[0, 3]]"
      ],
      "execution_count": null,
      "outputs": []
    },
    {
      "cell_type": "code",
      "metadata": {
        "id": "kuVH4bPjVpQH",
        "colab_type": "code",
        "colab": {}
      },
      "source": [
        "#a[[0, 3]]"
      ],
      "execution_count": null,
      "outputs": []
    },
    {
      "cell_type": "code",
      "metadata": {
        "id": "x5IKYYB-Vq2I",
        "colab_type": "code",
        "colab": {}
      },
      "source": [
        "x[[True, False, False, True, False]]"
      ],
      "execution_count": null,
      "outputs": []
    },
    {
      "cell_type": "code",
      "metadata": {
        "id": "bl9LecZWOBxa",
        "colab_type": "code",
        "colab": {}
      },
      "source": [
        "A = [[1, 2, 3],\n",
        "    [4, 5, 6]]\n",
        "A"
      ],
      "execution_count": null,
      "outputs": []
    },
    {
      "cell_type": "code",
      "metadata": {
        "id": "HGCY__R6PCvL",
        "colab_type": "code",
        "colab": {}
      },
      "source": [
        "A[0]"
      ],
      "execution_count": null,
      "outputs": []
    },
    {
      "cell_type": "code",
      "metadata": {
        "id": "u3Bna3BSOrdf",
        "colab_type": "code",
        "colab": {}
      },
      "source": [
        "A[1][2]"
      ],
      "execution_count": null,
      "outputs": []
    },
    {
      "cell_type": "code",
      "metadata": {
        "id": "2E3cr4zeOzf4",
        "colab_type": "code",
        "colab": {}
      },
      "source": [
        "aA = np.array(A)\n",
        "aA[0, :]"
      ],
      "execution_count": null,
      "outputs": []
    },
    {
      "cell_type": "code",
      "metadata": {
        "id": "SAIGeyP6O70g",
        "colab_type": "code",
        "colab": {}
      },
      "source": [
        "aA[:, 1]"
      ],
      "execution_count": null,
      "outputs": []
    },
    {
      "cell_type": "code",
      "metadata": {
        "id": "Ep5honvcPVo4",
        "colab_type": "code",
        "colab": {}
      },
      "source": [
        "aA[1, 2]"
      ],
      "execution_count": null,
      "outputs": []
    },
    {
      "cell_type": "code",
      "metadata": {
        "id": "_MRxKy6lVwSL",
        "colab_type": "code",
        "colab": {}
      },
      "source": [
        "x = np.empty(shape=5, dtype=np.int32)\n",
        "x"
      ],
      "execution_count": null,
      "outputs": []
    },
    {
      "cell_type": "code",
      "metadata": {
        "id": "BEKBtLEZXrrD",
        "colab_type": "code",
        "colab": {}
      },
      "source": [
        "x = np.zeros(shape=5)\n",
        "x"
      ],
      "execution_count": null,
      "outputs": []
    },
    {
      "cell_type": "markdown",
      "metadata": {
        "id": "noL7tJDmZdiL",
        "colab_type": "text"
      },
      "source": [
        "#### Vectorized operations"
      ]
    },
    {
      "cell_type": "code",
      "metadata": {
        "id": "QpBG8jb6Xwhb",
        "colab_type": "code",
        "colab": {}
      },
      "source": [
        "a = [7, 4, 2, 22, -12]\n",
        "a_squared = []\n",
        "for v in a:\n",
        "  a_squared.append(v**2)\n",
        "print(a_squared)"
      ],
      "execution_count": null,
      "outputs": []
    },
    {
      "cell_type": "code",
      "metadata": {
        "id": "iyp3FF9LaKHq",
        "colab_type": "code",
        "colab": {}
      },
      "source": [
        "[v**2 for v in a]"
      ],
      "execution_count": null,
      "outputs": []
    },
    {
      "cell_type": "code",
      "metadata": {
        "id": "mTBI8NEjZfyY",
        "colab_type": "code",
        "colab": {}
      },
      "source": [
        "x = np.array(a)\n",
        "x**2"
      ],
      "execution_count": null,
      "outputs": []
    },
    {
      "cell_type": "code",
      "metadata": {
        "id": "PcD8b1FbZsHh",
        "colab_type": "code",
        "colab": {}
      },
      "source": [
        "x > 5"
      ],
      "execution_count": null,
      "outputs": []
    },
    {
      "cell_type": "code",
      "metadata": {
        "id": "ItykOOqsc0lc",
        "colab_type": "code",
        "colab": {}
      },
      "source": [
        "(x > 5).sum()"
      ],
      "execution_count": null,
      "outputs": []
    },
    {
      "cell_type": "code",
      "metadata": {
        "id": "I5-jnjslc3YE",
        "colab_type": "code",
        "colab": {}
      },
      "source": [
        "(x > 5).sum()/len(x)"
      ],
      "execution_count": null,
      "outputs": []
    },
    {
      "cell_type": "code",
      "metadata": {
        "id": "Pi1GpoayZ4UI",
        "colab_type": "code",
        "colab": {}
      },
      "source": [
        "x[x > 5]"
      ],
      "execution_count": null,
      "outputs": []
    },
    {
      "cell_type": "code",
      "metadata": {
        "id": "t83r4DtZaShS",
        "colab_type": "code",
        "colab": {}
      },
      "source": [
        "y = np.array([34, 2, 9, -5, -18])\n",
        "x / y"
      ],
      "execution_count": null,
      "outputs": []
    },
    {
      "cell_type": "markdown",
      "metadata": {
        "id": "FKG0VtHCrM9I",
        "colab_type": "text"
      },
      "source": [
        "### Pandas"
      ]
    },
    {
      "cell_type": "code",
      "metadata": {
        "id": "7myQ-tV4rRf9",
        "colab_type": "code",
        "colab": {}
      },
      "source": [
        "import pandas as pd"
      ],
      "execution_count": null,
      "outputs": []
    },
    {
      "cell_type": "markdown",
      "metadata": {
        "id": "UN8foPF7rP9w",
        "colab_type": "text"
      },
      "source": [
        "#### Series"
      ]
    },
    {
      "cell_type": "code",
      "metadata": {
        "id": "EpRH8c_2rQ61",
        "colab_type": "code",
        "colab": {}
      },
      "source": [
        "a = [7, 4, 2, 22, -12]\n",
        "x = pd.Series(a)\n",
        "x"
      ],
      "execution_count": null,
      "outputs": []
    },
    {
      "cell_type": "code",
      "metadata": {
        "id": "Up5JKoiVaiGB",
        "colab_type": "code",
        "colab": {}
      },
      "source": [
        "x.index"
      ],
      "execution_count": null,
      "outputs": []
    },
    {
      "cell_type": "code",
      "metadata": {
        "id": "w5Feyg3OsHZv",
        "colab_type": "code",
        "colab": {}
      },
      "source": [
        "x.values"
      ],
      "execution_count": null,
      "outputs": []
    },
    {
      "cell_type": "code",
      "metadata": {
        "id": "_1qrLZFxsI1-",
        "colab_type": "code",
        "colab": {}
      },
      "source": [
        "x = pd.Series(a, index=['a', 'b', 'c', 'd', 'e'])\n",
        "x['a']"
      ],
      "execution_count": null,
      "outputs": []
    },
    {
      "cell_type": "code",
      "metadata": {
        "id": "3kSvjs7BsV2N",
        "colab_type": "code",
        "colab": {}
      },
      "source": [
        "x[['b', 'd', 'e']]"
      ],
      "execution_count": null,
      "outputs": []
    },
    {
      "cell_type": "code",
      "metadata": {
        "id": "m4TEUc8KsZFP",
        "colab_type": "code",
        "colab": {}
      },
      "source": [
        "start_time = pd.datetime.strptime('2019-04-09', '%Y-%m-%d')\n",
        "x = pd.Series(a,\n",
        "              index=pd.date_range(start=start_time,\n",
        "                                  normalize=True, periods=5)\n",
        "             )\n",
        "x"
      ],
      "execution_count": null,
      "outputs": []
    },
    {
      "cell_type": "code",
      "metadata": {
        "id": "aj4iCXN1wxmd",
        "colab_type": "code",
        "colab": {}
      },
      "source": [
        "x + 5"
      ],
      "execution_count": null,
      "outputs": []
    },
    {
      "cell_type": "code",
      "metadata": {
        "id": "xpLHVEvvz5B1",
        "colab_type": "code",
        "colab": {}
      },
      "source": [
        "x**2"
      ],
      "execution_count": null,
      "outputs": []
    },
    {
      "cell_type": "code",
      "metadata": {
        "id": "WjIpqUVVz6hs",
        "colab_type": "code",
        "colab": {}
      },
      "source": [
        "x.abs() > 10"
      ],
      "execution_count": null,
      "outputs": []
    },
    {
      "cell_type": "markdown",
      "metadata": {
        "id": "nT1a2o5AAkbH",
        "colab_type": "text"
      },
      "source": [
        "#### Data Frames"
      ]
    },
    {
      "cell_type": "code",
      "metadata": {
        "id": "eV9M0V-sz_WF",
        "colab_type": "code",
        "colab": {}
      },
      "source": [
        "a = [7, 4, 2, 22, -12]\n",
        "b = [34, 2, 9, -5, -18]\n",
        "ab_df = pd.DataFrame({'a': a, 'b': b})\n",
        "ab_df"
      ],
      "execution_count": null,
      "outputs": []
    },
    {
      "cell_type": "code",
      "metadata": {
        "colab_type": "code",
        "id": "L9gVKbi-OxBK",
        "colab": {}
      },
      "source": [
        "ab_df = pd.DataFrame({'a': a, 'b': b},\n",
        "                     index=pd.date_range(start=start_time,\n",
        "                                  normalize=True, periods=5))\n",
        "ab_df"
      ],
      "execution_count": null,
      "outputs": []
    },
    {
      "cell_type": "code",
      "metadata": {
        "id": "jsexwgOdCxnQ",
        "colab_type": "code",
        "colab": {}
      },
      "source": [
        "ab_df['a']"
      ],
      "execution_count": null,
      "outputs": []
    },
    {
      "cell_type": "code",
      "metadata": {
        "id": "uo42jD2fC-q5",
        "colab_type": "code",
        "colab": {}
      },
      "source": [
        "ab_df.a"
      ],
      "execution_count": null,
      "outputs": []
    },
    {
      "cell_type": "code",
      "metadata": {
        "id": "A4inTdBAC_2h",
        "colab_type": "code",
        "colab": {}
      },
      "source": [
        "ab_df.loc['2019-04-10']"
      ],
      "execution_count": null,
      "outputs": []
    },
    {
      "cell_type": "code",
      "metadata": {
        "id": "flVe6tqjDDsB",
        "colab_type": "code",
        "colab": {}
      },
      "source": [
        "ab_df.iloc[3]"
      ],
      "execution_count": null,
      "outputs": []
    },
    {
      "cell_type": "code",
      "metadata": {
        "id": "-t4ljDmzMLUU",
        "colab_type": "code",
        "colab": {}
      },
      "source": [
        "ab_df.iloc[:, 1]"
      ],
      "execution_count": null,
      "outputs": []
    },
    {
      "cell_type": "code",
      "metadata": {
        "id": "MzKjpskbIxrp",
        "colab_type": "code",
        "colab": {}
      },
      "source": [
        "ab_df.head(3)"
      ],
      "execution_count": null,
      "outputs": []
    },
    {
      "cell_type": "code",
      "metadata": {
        "id": "QMpKq417DFxR",
        "colab_type": "code",
        "colab": {}
      },
      "source": [
        "ab_df.mean()"
      ],
      "execution_count": null,
      "outputs": []
    },
    {
      "cell_type": "code",
      "metadata": {
        "id": "Mzxz4BmnDfx5",
        "colab_type": "code",
        "colab": {}
      },
      "source": [
        "ab_df.mean(axis=0)"
      ],
      "execution_count": null,
      "outputs": []
    },
    {
      "cell_type": "code",
      "metadata": {
        "id": "8Jw4AmZUDb-L",
        "colab_type": "code",
        "colab": {}
      },
      "source": [
        "ab_df.mean(axis=1)"
      ],
      "execution_count": null,
      "outputs": []
    },
    {
      "cell_type": "code",
      "metadata": {
        "id": "XHmgB4HJDdha",
        "colab_type": "code",
        "colab": {}
      },
      "source": [
        "store_id = pd.Series([3, 14, 21, 32, 54],dtype='category') # store id\n",
        "store_rev = [543, 654, 345, 678, 234] # store revenue, $1000\n",
        "store_visits = [45, 78, 32, 56, 34] # visits, 1000s\n",
        "store_manager = ['Annie', 'Bert', 'Carla', 'Dave', 'Ella']\n",
        "store_df = pd.DataFrame({'id': store_id,\n",
        "                         'rev': store_rev,\n",
        "                         'visits': store_visits,\n",
        "                         'manager': store_manager})\n",
        "store_df"
      ],
      "execution_count": null,
      "outputs": []
    },
    {
      "cell_type": "code",
      "metadata": {
        "id": "8cU3mrRXEuz8",
        "colab_type": "code",
        "colab": {}
      },
      "source": [
        "store_df.manager"
      ],
      "execution_count": null,
      "outputs": []
    },
    {
      "cell_type": "code",
      "metadata": {
        "id": "ZiuvQJ7nE0nb",
        "colab_type": "code",
        "colab": {}
      },
      "source": [
        "store_df.rev.mean()"
      ],
      "execution_count": null,
      "outputs": []
    },
    {
      "cell_type": "code",
      "metadata": {
        "id": "lKZEooi1HPDH",
        "colab_type": "code",
        "colab": {}
      },
      "source": [
        "store_df.corr()"
      ],
      "execution_count": null,
      "outputs": []
    },
    {
      "cell_type": "code",
      "metadata": {
        "id": "YV1ru43OHj_L",
        "colab_type": "code",
        "colab": {}
      },
      "source": [
        "store_df.describe()"
      ],
      "execution_count": null,
      "outputs": []
    },
    {
      "cell_type": "markdown",
      "metadata": {
        "id": "WmpkWnpOQn8N",
        "colab_type": "text"
      },
      "source": [
        "### Missing data"
      ]
    },
    {
      "cell_type": "code",
      "metadata": {
        "id": "-4jQ2-uxWoRn",
        "colab_type": "code",
        "colab": {}
      },
      "source": [
        "np.nan"
      ],
      "execution_count": null,
      "outputs": []
    },
    {
      "cell_type": "code",
      "metadata": {
        "id": "nWsdlPwRWpOX",
        "colab_type": "code",
        "colab": {}
      },
      "source": [
        "type(np.nan)"
      ],
      "execution_count": null,
      "outputs": []
    },
    {
      "cell_type": "code",
      "metadata": {
        "id": "L30VXuXEQpLM",
        "colab_type": "code",
        "colab": {}
      },
      "source": [
        "x = np.array([3., 4., 6., 2., np.nan, 18., np.nan])\n",
        "x"
      ],
      "execution_count": null,
      "outputs": []
    },
    {
      "cell_type": "code",
      "metadata": {
        "id": "rTqOU5t-Qu4l",
        "colab_type": "code",
        "colab": {}
      },
      "source": [
        "np.mean(x)"
      ],
      "execution_count": null,
      "outputs": []
    },
    {
      "cell_type": "code",
      "metadata": {
        "id": "MOu1NPOFQwn0",
        "colab_type": "code",
        "colab": {}
      },
      "source": [
        "np.nanmean(x)"
      ],
      "execution_count": null,
      "outputs": []
    },
    {
      "cell_type": "code",
      "metadata": {
        "id": "AisWGNdrS3TJ",
        "colab_type": "code",
        "colab": {}
      },
      "source": [
        "np.isnan(x)"
      ],
      "execution_count": null,
      "outputs": []
    },
    {
      "cell_type": "code",
      "metadata": {
        "id": "1L1KK5F4S9uh",
        "colab_type": "code",
        "colab": {}
      },
      "source": [
        "~np.isnan(x)"
      ],
      "execution_count": null,
      "outputs": []
    },
    {
      "cell_type": "code",
      "metadata": {
        "id": "3FItxjx8Q05k",
        "colab_type": "code",
        "colab": {}
      },
      "source": [
        "np.mean(x[~np.isnan(x)])"
      ],
      "execution_count": null,
      "outputs": []
    },
    {
      "cell_type": "code",
      "metadata": {
        "id": "0dB5BWGbTlbh",
        "colab_type": "code",
        "colab": {}
      },
      "source": [
        "x = np.array([3., 4., 6., 2., -999, 18., -999])\n",
        "x.mean()"
      ],
      "execution_count": null,
      "outputs": []
    },
    {
      "cell_type": "code",
      "metadata": {
        "id": "w6lYFAcQWUgQ",
        "colab_type": "code",
        "colab": {}
      },
      "source": [
        "x[x == -999] = np.nan\n",
        "np.nanmean(x)"
      ],
      "execution_count": null,
      "outputs": []
    },
    {
      "cell_type": "code",
      "metadata": {
        "id": "70H9s4kXRonl",
        "colab_type": "code",
        "colab": {}
      },
      "source": [
        "np.log(np.array([-1, 0, 1]))"
      ],
      "execution_count": null,
      "outputs": []
    },
    {
      "cell_type": "markdown",
      "metadata": {
        "id": "gvwJ6oByXLU3",
        "colab_type": "text"
      },
      "source": [
        "## Loading and saving data"
      ]
    },
    {
      "cell_type": "markdown",
      "metadata": {
        "id": "qbexmkz2Ii0V",
        "colab_type": "text"
      },
      "source": [
        "### Pickle files"
      ]
    },
    {
      "cell_type": "code",
      "metadata": {
        "id": "pZT-II2XHc78",
        "colab_type": "code",
        "colab": {}
      },
      "source": [
        "import pickle\n",
        "\n",
        "f = open('store_df.pkl', 'wb')\n",
        "pickle.dump(store_df, f)\n",
        "f.close()"
      ],
      "execution_count": null,
      "outputs": []
    },
    {
      "cell_type": "code",
      "metadata": {
        "id": "L63eAZZOL8KC",
        "colab_type": "code",
        "colab": {}
      },
      "source": [
        "help(open)"
      ],
      "execution_count": null,
      "outputs": []
    },
    {
      "cell_type": "code",
      "metadata": {
        "id": "8_dNOxsrHzcu",
        "colab_type": "code",
        "colab": {}
      },
      "source": [
        "with open('store_df.pkl', 'wb') as f:\n",
        "  pickle.dump(store_df, f)"
      ],
      "execution_count": null,
      "outputs": []
    },
    {
      "cell_type": "code",
      "metadata": {
        "id": "TXQnDuE-H6OH",
        "colab_type": "code",
        "colab": {}
      },
      "source": [
        "with open('store_df.pkl', 'rb') as f:\n",
        "  store_df_reload = pickle.load(f)\n",
        "store_df_reload"
      ],
      "execution_count": null,
      "outputs": []
    },
    {
      "cell_type": "code",
      "metadata": {
        "id": "MUR26bXyHoxR",
        "colab_type": "code",
        "colab": {}
      },
      "source": [
        "store_df.to_pickle('store_df.pkl')"
      ],
      "execution_count": null,
      "outputs": []
    },
    {
      "cell_type": "code",
      "metadata": {
        "id": "7RryR8ZTIN9L",
        "colab_type": "code",
        "colab": {}
      },
      "source": [
        "store_df_reload2 = pd.read_pickle('store_df.pkl')\n",
        "store_df_reload2"
      ],
      "execution_count": null,
      "outputs": []
    },
    {
      "cell_type": "markdown",
      "metadata": {
        "id": "e-Zp3WQ5TCFe",
        "colab_type": "text"
      },
      "source": [
        "### Importing data"
      ]
    },
    {
      "cell_type": "code",
      "metadata": {
        "id": "WRVsA6YCIe_o",
        "colab_type": "code",
        "colab": {}
      },
      "source": [
        "store_df.to_csv()"
      ],
      "execution_count": null,
      "outputs": []
    },
    {
      "cell_type": "code",
      "metadata": {
        "id": "b2oI_8PcTllD",
        "colab_type": "code",
        "colab": {}
      },
      "source": [
        "store_df.to_csv('store_df.csv', index=False)"
      ],
      "execution_count": null,
      "outputs": []
    },
    {
      "cell_type": "code",
      "metadata": {
        "id": "n6NDBmkGTsCo",
        "colab_type": "code",
        "colab": {}
      },
      "source": [
        "store_df_from_csv = pd.read_csv('store_df.csv')\n",
        "store_df_from_csv.id = store_df_from_csv.id.astype('category')\n",
        "store_df_from_csv"
      ],
      "execution_count": null,
      "outputs": []
    },
    {
      "cell_type": "code",
      "metadata": {
        "id": "b8qRPZ_cT0s_",
        "colab_type": "code",
        "colab": {}
      },
      "source": [
        "store_df == store_df_from_csv"
      ],
      "execution_count": null,
      "outputs": []
    },
    {
      "cell_type": "markdown",
      "metadata": {
        "id": "kYu7i-tQb6rE",
        "colab_type": "text"
      },
      "source": [
        "### Importing data Colab"
      ]
    },
    {
      "cell_type": "code",
      "metadata": {
        "id": "dCv2YVx_Wcwn",
        "colab_type": "code",
        "colab": {}
      },
      "source": [
        "from google.colab import files\n",
        "\n",
        "files.download('store_df.csv')"
      ],
      "execution_count": null,
      "outputs": []
    },
    {
      "cell_type": "code",
      "metadata": {
        "id": "v6WGQ50tb_7-",
        "colab_type": "code",
        "colab": {}
      },
      "source": [
        "files.upload()"
      ],
      "execution_count": null,
      "outputs": []
    },
    {
      "cell_type": "code",
      "metadata": {
        "id": "7CvYmDZjcF-n",
        "colab_type": "code",
        "colab": {}
      },
      "source": [
        "!ls"
      ],
      "execution_count": null,
      "outputs": []
    },
    {
      "cell_type": "code",
      "metadata": {
        "id": "mCWAZ04hcVXk",
        "colab_type": "code",
        "colab": {}
      },
      "source": [
        "store_df_uploaded = pd.read_csv('store_df (1).csv')"
      ],
      "execution_count": null,
      "outputs": []
    },
    {
      "cell_type": "code",
      "metadata": {
        "id": "QupnwZT3jhKa",
        "colab_type": "code",
        "colab": {}
      },
      "source": [
        "store_df_uploaded == store_df"
      ],
      "execution_count": null,
      "outputs": []
    },
    {
      "cell_type": "code",
      "metadata": {
        "id": "9wB12gEWchVL",
        "colab_type": "code",
        "colab": {}
      },
      "source": [
        "del store_df_uploaded, store_df"
      ],
      "execution_count": null,
      "outputs": []
    },
    {
      "cell_type": "code",
      "metadata": {
        "id": "Uko9u8YxUybs",
        "colab_type": "code",
        "colab": {}
      },
      "source": [
        ""
      ],
      "execution_count": null,
      "outputs": []
    }
  ]
}