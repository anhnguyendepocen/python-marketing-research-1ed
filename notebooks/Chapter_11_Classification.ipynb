{
  "nbformat": 4,
  "nbformat_minor": 0,
  "metadata": {
    "colab": {
      "name": "Chapter 11 - Classification",
      "provenance": [],
      "collapsed_sections": []
    },
    "kernelspec": {
      "name": "python3",
      "display_name": "Python 3"
    }
  },
  "cells": [
    {
      "cell_type": "markdown",
      "metadata": {
        "id": "LbNZ_RxVSBfW",
        "colab_type": "text"
      },
      "source": [
        "## 10.2 Segmentation data"
      ]
    },
    {
      "cell_type": "code",
      "metadata": {
        "colab_type": "code",
        "id": "gbAfU2egh0Ux",
        "colab": {}
      },
      "source": [
        "%config InlineBackend.figure_format = 'svg'\n",
        "import pandas as pd\n",
        "pd.set_option('display.max_rows', 500)\n",
        "pd.set_option('display.max_columns', 500)\n",
        "pd.set_option('display.width', 70)"
      ],
      "execution_count": null,
      "outputs": []
    },
    {
      "cell_type": "code",
      "metadata": {
        "id": "9aCRs4UcD3kF",
        "colab_type": "code",
        "colab": {}
      },
      "source": [
        "import pandas as pd\n",
        "seg_df = pd.read_csv('http://bit.ly/PMR-ch5')\n",
        "seg_df['is_female'] = seg_df.gender == 'female'\n",
        "seg_sub = seg_df.drop(['Segment', 'gender'], axis=1)\n",
        "seg_sub.head()"
      ],
      "execution_count": null,
      "outputs": []
    },
    {
      "cell_type": "markdown",
      "metadata": {
        "id": "LnIWak0vXfvC",
        "colab_type": "text"
      },
      "source": [
        "## 11.1 Classification"
      ]
    },
    {
      "cell_type": "code",
      "metadata": {
        "id": "FjeUrn0mZxXH",
        "colab_type": "code",
        "colab": {}
      },
      "source": [
        "import numpy as np\n",
        "\n",
        "seg_labels = seg_df.Segment\n",
        "\n",
        "np.random.seed(537)\n",
        "rand_idx = np.random.rand(seg_labels.shape[0])\n",
        "\n",
        "train_idx = rand_idx <= 0.7\n",
        "test_idx = rand_idx > 0.7\n",
        "\n",
        "X_train = seg_sub.iloc[train_idx]\n",
        "X_test = seg_sub.iloc[test_idx]\n",
        "\n",
        "y_train = seg_labels.iloc[train_idx]\n",
        "y_test = seg_labels.iloc[test_idx]"
      ],
      "execution_count": null,
      "outputs": []
    },
    {
      "cell_type": "markdown",
      "metadata": {
        "id": "_sjqLTQwXj4p",
        "colab_type": "text"
      },
      "source": [
        "### 11.1.1 Naive bayes"
      ]
    },
    {
      "cell_type": "code",
      "metadata": {
        "id": "xxIk2AM6Scvh",
        "colab_type": "code",
        "colab": {}
      },
      "source": [
        "from sklearn import naive_bayes \n",
        "\n",
        "nb = naive_bayes.GaussianNB()\n",
        "\n",
        "nb.fit(X_train, y_train)\n",
        "\n",
        "list(zip(nb.classes_, nb.class_prior_))"
      ],
      "execution_count": null,
      "outputs": []
    },
    {
      "cell_type": "code",
      "metadata": {
        "id": "f871nInhtRBZ",
        "colab_type": "code",
        "colab": {}
      },
      "source": [
        "predictions = nb.predict(seg_sub)\n",
        "seg_sub_pred = seg_sub.copy()\n",
        "seg_sub_pred['prediction'] = predictions\n",
        "seg_sub_pred['true_segment'] = seg_df['Segment']\n",
        "seg_sub_pred.sample(5)"
      ],
      "execution_count": null,
      "outputs": []
    },
    {
      "cell_type": "code",
      "metadata": {
        "id": "tjCSnwKaKv9o",
        "colab_type": "code",
        "colab": {}
      },
      "source": [
        "nb.score(X_test, y_test)"
      ],
      "execution_count": null,
      "outputs": []
    },
    {
      "cell_type": "code",
      "metadata": {
        "id": "2r3ZV0lxJJFB",
        "colab_type": "code",
        "colab": {}
      },
      "source": [
        "from sklearn import metrics\n",
        "\n",
        "y_pred = nb.predict(X_test)\n",
        "\n",
        "metrics.f1_score(y_true=y_test, y_pred=y_pred, average='weighted')"
      ],
      "execution_count": null,
      "outputs": []
    },
    {
      "cell_type": "code",
      "metadata": {
        "id": "g4iNiURBFQWk",
        "colab_type": "code",
        "colab": {}
      },
      "source": [
        "import seaborn as sns\n",
        "import matplotlib.pyplot as plt\n",
        "\n",
        "def confusion_matrix(y_true, y_pred, model):\n",
        "  conf_mat = metrics.confusion_matrix(y_true, y_pred)\n",
        "\n",
        "  sns.heatmap(conf_mat.T,\n",
        "              xticklabels=model.classes_, yticklabels=model.classes_,\n",
        "              annot=True, fmt='d')\n",
        "  plt.xlabel('true label')\n",
        "  plt.ylabel('predicted label')"
      ],
      "execution_count": null,
      "outputs": []
    },
    {
      "cell_type": "code",
      "metadata": {
        "id": "M3teqTUjp8Qe",
        "colab_type": "code",
        "colab": {}
      },
      "source": [
        "confusion_matrix(y_test, y_pred, nb)"
      ],
      "execution_count": null,
      "outputs": []
    },
    {
      "cell_type": "code",
      "metadata": {
        "id": "TP5Y6vA3o1r4",
        "colab_type": "code",
        "colab": {}
      },
      "source": [
        "def return_precision_recall(y_true, y_pred, model):\n",
        "  conf_mat = metrics.confusion_matrix(y_true, y_pred)\n",
        "\n",
        "  precision = pd.Series(metrics.precision_score(y_test,\n",
        "                                                y_pred,\n",
        "                                                average=None),\n",
        "                        index=model.classes_)\n",
        "  recall = pd.Series(metrics.recall_score(y_test,\n",
        "                                          y_pred,\n",
        "                                          average=None),\n",
        "                     index=model.classes_)\n",
        "  \n",
        "  f1 = pd.Series(2 * (precision * recall)/(precision + recall),\n",
        "                 index=model.classes_)\n",
        "\n",
        "  return pd.DataFrame([precision, recall, f1], index=['precision',\n",
        "                                                      'recall', 'f1'])"
      ],
      "execution_count": null,
      "outputs": []
    },
    {
      "cell_type": "code",
      "metadata": {
        "id": "3u4H1TgTpMKY",
        "colab_type": "code",
        "colab": {}
      },
      "source": [
        "return_precision_recall(y_test, y_pred, nb)"
      ],
      "execution_count": null,
      "outputs": []
    },
    {
      "cell_type": "code",
      "metadata": {
        "id": "oStp5hcUB861",
        "colab_type": "code",
        "colab": {}
      },
      "source": [
        "from sklearn import clone, decomposition\n",
        "\n",
        "def plot_decision_pca(model, X, y):\n",
        "  width, height = 500, 500\n",
        "\n",
        "  # Transform the X values using a PCA\n",
        "  p = decomposition.PCA(random_state=132, svd_solver='full')\n",
        "  X_transformed = p.fit_transform(X.iloc[:,:2])\n",
        "\n",
        "  # Pull the first two dimensions\n",
        "  x0 = X_transformed[:, 0]\n",
        "  x1 = X_transformed[:, 1]\n",
        "\n",
        "  # Get evenly spaced values between the min and max values\n",
        "  x0_g = np.linspace(x0.min(), x0.max(), width)\n",
        "  x1_g = np.linspace(x1.min(), x1.max(), height)\n",
        "\n",
        "  # Create a \"grid\" of those evenly spaced values from each vector\n",
        "  xx, yy = np.meshgrid(x0_g, x1_g)\n",
        "\n",
        "  # Stack together all of the sampled values \n",
        "  X_grid_transformed = np.vstack([xx.ravel(), yy.ravel()]).T\n",
        "\n",
        "  # Do the inverse transform to get the non-PCA transformed values\n",
        "  X_grid = p.inverse_transform(X_grid_transformed)\n",
        "\n",
        "  # Fit a clone of the model using use inverse transformed columns\n",
        "  # From the first two PCA dimensions.\n",
        "  # Predict values on the sampled values\n",
        "  model_c = clone(model)\n",
        "  model_c.fit(p.inverse_transform(np.vstack([x0, x1]).T), y)\n",
        "  X_grid_labels = model_c.predict(X_grid)\n",
        "\n",
        "  # Create a class mapper to map from class string to an integer\n",
        "  class_mapper = {class_:i for i,class_ in enumerate(model.classes_)}\n",
        "\n",
        "  plt.figure(figsize=(6,6))\n",
        "  # Plot the predicted values\n",
        "  a = plt.scatter(x0, x1,\n",
        "                  c=[class_mapper[label] for label in y],\n",
        "                  cmap=plt.cm.rainbow, edgecolor='k', vmin=0, vmax=3)\n",
        "  plt.contourf(xx, yy,\n",
        "               np.reshape([class_mapper[label]\n",
        "                           for label in X_grid_labels],\n",
        "                          (width, height)),\n",
        "              cmap=a.cmap, alpha=0.5, levels=3)\n",
        "  cb = plt.colorbar(ticks=[0.5, 1.2, 2, 2.8])\n",
        "  _ = cb.ax.set_yticklabels(model.classes_)\n",
        "  plt.title('Decision boundaries with true values overlaid')\n",
        "  plt.xlabel('First principal component')\n",
        "  plt.ylabel('Second principal component')"
      ],
      "execution_count": null,
      "outputs": []
    },
    {
      "cell_type": "code",
      "metadata": {
        "id": "c2g4vccKTiqN",
        "colab_type": "code",
        "colab": {}
      },
      "source": [
        "plot_decision_pca(nb, X_test, y_test)"
      ],
      "execution_count": null,
      "outputs": []
    },
    {
      "cell_type": "code",
      "metadata": {
        "id": "ZreEgH6OBrHZ",
        "colab_type": "code",
        "colab": {}
      },
      "source": [
        "np.linspace(0, 10, 3)"
      ],
      "execution_count": null,
      "outputs": []
    },
    {
      "cell_type": "code",
      "metadata": {
        "id": "G2Zmhzx8BrEU",
        "colab_type": "code",
        "colab": {}
      },
      "source": [
        "np.linspace(0, 10, 15)"
      ],
      "execution_count": null,
      "outputs": []
    },
    {
      "cell_type": "code",
      "metadata": {
        "id": "EJSGTf-g_LF4",
        "colab_type": "code",
        "colab": {}
      },
      "source": [
        "x = np.linspace(0, 10, 5)\n",
        "y = np.linspace(5, 25, 5)"
      ],
      "execution_count": null,
      "outputs": []
    },
    {
      "cell_type": "code",
      "metadata": {
        "id": "7h9Nkwe6_LDE",
        "colab_type": "code",
        "colab": {}
      },
      "source": [
        "xx, yy = np.meshgrid(x, y)"
      ],
      "execution_count": null,
      "outputs": []
    },
    {
      "cell_type": "code",
      "metadata": {
        "id": "rq8dYPoofwEJ",
        "colab_type": "code",
        "colab": {}
      },
      "source": [
        "xx"
      ],
      "execution_count": null,
      "outputs": []
    },
    {
      "cell_type": "code",
      "metadata": {
        "id": "S2ctwieECahm",
        "colab_type": "code",
        "colab": {}
      },
      "source": [
        "yy"
      ],
      "execution_count": null,
      "outputs": []
    },
    {
      "cell_type": "code",
      "metadata": {
        "id": "gbzJTcOyCcKF",
        "colab_type": "code",
        "colab": {}
      },
      "source": [
        "xx.ravel()"
      ],
      "execution_count": null,
      "outputs": []
    },
    {
      "cell_type": "code",
      "metadata": {
        "id": "q9u2ExIdCcHA",
        "colab_type": "code",
        "colab": {}
      },
      "source": [
        "np.vstack([xx.ravel(), yy.ravel()]).T"
      ],
      "execution_count": null,
      "outputs": []
    },
    {
      "cell_type": "code",
      "metadata": {
        "id": "_zEiNJxTFI18",
        "colab_type": "code",
        "colab": {}
      },
      "source": [
        "!pip install python_marketing_research\n",
        "from python_marketing_research_functions import chapter10\n",
        "\n",
        "chapter10.check_clusters(seg_sub, nb.predict(seg_sub))"
      ],
      "execution_count": null,
      "outputs": []
    },
    {
      "cell_type": "code",
      "metadata": {
        "id": "PjVythafZ7rS",
        "colab_type": "code",
        "colab": {}
      },
      "source": [
        "chapter10.check_clusters(seg_sub, seg_labels)"
      ],
      "execution_count": null,
      "outputs": []
    },
    {
      "cell_type": "code",
      "metadata": {
        "id": "rWfSeMjYFIzD",
        "colab_type": "code",
        "colab": {}
      },
      "source": [
        "pd.DataFrame(nb.predict_proba(seg_sub),\n",
        "             columns=nb.classes_).sample(5).round(4)"
      ],
      "execution_count": null,
      "outputs": []
    },
    {
      "cell_type": "markdown",
      "metadata": {
        "id": "REPwjFC0GFP-",
        "colab_type": "text"
      },
      "source": [
        "### 11.1.2 Random forest classification"
      ]
    },
    {
      "cell_type": "code",
      "metadata": {
        "id": "kmtz4xCXFIwg",
        "colab_type": "code",
        "colab": {}
      },
      "source": [
        "from sklearn import ensemble\n",
        "\n",
        "np.random.seed(23432)\n",
        "rf = ensemble.RandomForestClassifier(n_estimators=50)\n",
        "\n",
        "rf.fit(X_train, y_train)"
      ],
      "execution_count": null,
      "outputs": []
    },
    {
      "cell_type": "code",
      "metadata": {
        "id": "qB6pnvrNp4qx",
        "colab_type": "code",
        "colab": {}
      },
      "source": [
        "rf.score(X_test, y_test)"
      ],
      "execution_count": null,
      "outputs": []
    },
    {
      "cell_type": "code",
      "metadata": {
        "id": "getncRy5mFN3",
        "colab_type": "code",
        "colab": {}
      },
      "source": [
        "y_pred = rf.predict(X_test)\n",
        "\n",
        "metrics.f1_score(y_test, y_pred, average='weighted')"
      ],
      "execution_count": null,
      "outputs": []
    },
    {
      "cell_type": "code",
      "metadata": {
        "id": "MvivIsVufZfT",
        "colab_type": "code",
        "colab": {}
      },
      "source": [
        "confusion_matrix(y_test, y_pred, rf)"
      ],
      "execution_count": null,
      "outputs": []
    },
    {
      "cell_type": "code",
      "metadata": {
        "id": "NR3fYlxRn3PM",
        "colab_type": "code",
        "colab": {}
      },
      "source": [
        "return_precision_recall(y_test, y_pred, rf)"
      ],
      "execution_count": null,
      "outputs": []
    },
    {
      "cell_type": "code",
      "metadata": {
        "id": "Lqref4ET0Vpu",
        "colab_type": "code",
        "colab": {}
      },
      "source": [
        "import graphviz\n",
        "from sklearn import tree\n",
        "from IPython.display import Image\n",
        "\n",
        "\n",
        "tree_0 = rf.estimators_[0]\n",
        "dot_data = tree.export_graphviz(tree_0, out_file=None,\n",
        "                                feature_names=X_train.columns,\n",
        "                                class_names=rf.classes_)\n",
        "tree_graph = graphviz.Source(dot_data, format='png')\n",
        "tree_graph.render('tmp', view=True)\n",
        "Image('tmp.png', width=10000, height=10000)"
      ],
      "execution_count": null,
      "outputs": []
    },
    {
      "cell_type": "code",
      "metadata": {
        "id": "rWUWwVaNWuFR",
        "colab_type": "code",
        "colab": {}
      },
      "source": [
        "import graphviz\n",
        "from sklearn import tree\n",
        "from IPython.display import Image\n",
        "\n",
        "\n",
        "tree_0 = rf.estimators_[0]\n",
        "dot_data = tree.export_graphviz(tree_0, out_file=None,\n",
        "                                feature_names=X_train.columns,\n",
        "                                class_names=rf.classes_)\n",
        "tree_graph = graphviz.Source(dot_data, format='png')\n",
        "tree_graph.render('tmp', view=True)\n",
        "Image('tmp.png', width=1000, height=1000)"
      ],
      "execution_count": null,
      "outputs": []
    },
    {
      "cell_type": "code",
      "metadata": {
        "id": "dHZEUaAvFhw0",
        "colab_type": "code",
        "colab": {}
      },
      "source": [
        "from google.colab import files\n",
        "\n",
        "tree_graph = graphviz.Source(dot_data, format='pdf')\n",
        "tree_graph.render('rf_tree', view=True)\n",
        "files.download('rf_tree.pdf')"
      ],
      "execution_count": null,
      "outputs": []
    },
    {
      "cell_type": "code",
      "metadata": {
        "id": "DbR03UmPZUwM",
        "colab_type": "code",
        "colab": {}
      },
      "source": [
        "plot_decision_pca(rf, X_test, y_test)"
      ],
      "execution_count": null,
      "outputs": []
    },
    {
      "cell_type": "code",
      "metadata": {
        "id": "CpcQgqlZVvRV",
        "colab_type": "code",
        "colab": {}
      },
      "source": [
        "def pairwise_decision_boundary(model, X_train, y_train,\n",
        "                               X_test, y_test,\n",
        "                               first_column, second_column,\n",
        "                               jitter=False):\n",
        "    width, height = 1000, 1000\n",
        "    # Create a class mapper to map from class string to an integer\n",
        "    class_mapper = {c:i for i,c in enumerate(model.classes_)}\n",
        "    \n",
        "    x0 = X_train[first_column]\n",
        "    x1 = X_train[second_column]\n",
        "    # Get evenly spaced values between the min and max values\n",
        "    x0_g = np.linspace(x0.min(), x0.max(), width)\n",
        "    x1_g = np.linspace(x1.min(), x1.max(), height)\n",
        "    \n",
        "    # Create a \"grid\" of those evenly spaced values from each vector\n",
        "    xx, yy = np.meshgrid(x0_g, x1_g)   \n",
        "    # Stack together all of the sampled values\n",
        "    X_grid = np.vstack([xx.ravel(), yy.ravel()]).T    \n",
        "    \n",
        "    model_c = clone(model)\n",
        "    model_c.fit(X_train.loc[:,[first_column, second_column]], y_train)\n",
        "    X_grid_labels = model_c.predict(X_grid)\n",
        "    # Plot the predicted values\n",
        "    j_x0, j_x1 = 0, 0\n",
        "    if jitter:\n",
        "      j_x0 = (np.random.random(X_test.shape[0])-0.5)/10.\n",
        "      j_x1 = (np.random.random(X_test.shape[0])-0.5)/10.\n",
        "    a = plt.scatter(X_test[first_column] + j_x0,\n",
        "                    X_test[second_column] + j_x1,\n",
        "                    c=[class_mapper[l] for l in y_test],\n",
        "                    cmap=plt.cm.rainbow, \n",
        "                    edgecolor='k', vmin=0, vmax=3)\n",
        "    plt.contourf(xx, yy,\n",
        "                 np.reshape([class_mapper[l] for l in X_grid_labels],\n",
        "                            (width, height)),\n",
        "                cmap=a.cmap, alpha=0.5, levels=3)\n",
        "    plt.title('Decision boundaries with true values overlaid')\n",
        "    plt.xlabel(first_column)\n",
        "    plt.ylabel(second_column)\n",
        "    cb = plt.colorbar(ticks=[0.5, 1.2, 2, 2.8])\n",
        "    cb.ax.set_yticklabels(model.classes_)"
      ],
      "execution_count": null,
      "outputs": []
    },
    {
      "cell_type": "code",
      "metadata": {
        "id": "8fB13s2wWGzt",
        "colab_type": "code",
        "colab": {}
      },
      "source": [
        "pairwise_decision_boundary(rf, X_train, y_train, X_test, y_test,\n",
        "                           'age', 'income')"
      ],
      "execution_count": null,
      "outputs": []
    },
    {
      "cell_type": "code",
      "metadata": {
        "id": "DgZc3PH3VQta",
        "colab_type": "code",
        "colab": {}
      },
      "source": [
        "pairwise_decision_boundary(rf, X_train, y_train, X_test, y_test,\n",
        "                           'age', 'kids', jitter=True)"
      ],
      "execution_count": null,
      "outputs": []
    },
    {
      "cell_type": "code",
      "metadata": {
        "id": "vzQ6n5-WfmI2",
        "colab_type": "code",
        "colab": {}
      },
      "source": [
        "pairwise_decision_boundary(rf, X_train, y_train, X_test, y_test,\n",
        "                           'subscribe', 'kids', jitter=True)"
      ],
      "execution_count": null,
      "outputs": []
    },
    {
      "cell_type": "code",
      "metadata": {
        "id": "aKfubKu0f_gu",
        "colab_type": "code",
        "colab": {}
      },
      "source": [
        "pd.DataFrame(rf.predict_proba(X_test), columns=rf.classes_).sample(5)"
      ],
      "execution_count": null,
      "outputs": []
    },
    {
      "cell_type": "code",
      "metadata": {
        "id": "HoYlzFl6gcYQ",
        "colab_type": "code",
        "colab": {}
      },
      "source": [
        "chapter10.check_clusters(seg_sub, rf.predict(seg_sub))"
      ],
      "execution_count": null,
      "outputs": []
    },
    {
      "cell_type": "code",
      "metadata": {
        "id": "o8b9IgvohUIg",
        "colab_type": "code",
        "colab": {}
      },
      "source": [
        "chapter10.check_clusters(seg_sub, seg_labels)"
      ],
      "execution_count": null,
      "outputs": []
    },
    {
      "cell_type": "markdown",
      "metadata": {
        "id": "uGu0gScphiWK",
        "colab_type": "text"
      },
      "source": [
        "### 11.1.3 Random forest variable importance"
      ]
    },
    {
      "cell_type": "code",
      "metadata": {
        "id": "THKsIQmwhc0J",
        "colab_type": "code",
        "colab": {}
      },
      "source": [
        "pd.Series(rf.feature_importances_,\n",
        "          index=seg_sub.columns).sort_values(ascending=False)"
      ],
      "execution_count": null,
      "outputs": []
    },
    {
      "cell_type": "markdown",
      "metadata": {
        "id": "Vlfkp8M2oP15",
        "colab_type": "text"
      },
      "source": [
        "## 11.2 Prediction: identifying potential customers"
      ]
    },
    {
      "cell_type": "code",
      "metadata": {
        "id": "Rg_kdviPhnuZ",
        "colab_type": "code",
        "colab": {}
      },
      "source": [
        "subscribe_label = seg_sub.subscribe\n",
        "\n",
        "seg_sub_nosub = seg_sub.drop('subscribe', axis=1)\n",
        "\n",
        "np.random.seed(7885)\n",
        "rand_idx = np.random.rand(subscribe_label.shape[0])\n",
        "train_idx = rand_idx <= 0.65\n",
        "test_idx = rand_idx > 0.65\n",
        "\n",
        "X_train = seg_sub_nosub.iloc[train_idx]\n",
        "X_test = seg_sub_nosub.iloc[test_idx]\n",
        "\n",
        "y_train = subscribe_label.iloc[train_idx]\n",
        "y_test = subscribe_label.iloc[test_idx]"
      ],
      "execution_count": null,
      "outputs": []
    },
    {
      "cell_type": "code",
      "metadata": {
        "id": "0mCYtdR1oy87",
        "colab_type": "code",
        "colab": {}
      },
      "source": [
        "chapter10.cluster_plot(seg_sub_nosub, subscribe_label)"
      ],
      "execution_count": null,
      "outputs": []
    },
    {
      "cell_type": "code",
      "metadata": {
        "id": "AR3XHzrYo-A8",
        "colab_type": "code",
        "colab": {}
      },
      "source": [
        "rf_sub = ensemble.RandomForestClassifier(n_estimators=100,\n",
        "                                         random_state=86,\n",
        "                                         class_weight=\\\n",
        "                                           'balanced_subsample')\n",
        "\n",
        "rf_sub.fit(X_train, y_train)\n",
        "\n",
        "y_pred = rf_sub.predict(X_test)"
      ],
      "execution_count": null,
      "outputs": []
    },
    {
      "cell_type": "code",
      "metadata": {
        "id": "-3xMXoXypZfM",
        "colab_type": "code",
        "colab": {}
      },
      "source": [
        "rf_sub.score(X_test, y_test)"
      ],
      "execution_count": null,
      "outputs": []
    },
    {
      "cell_type": "code",
      "metadata": {
        "id": "z4t1Z0VNplCO",
        "colab_type": "code",
        "colab": {}
      },
      "source": [
        "metrics.f1_score(y_test, y_pred, average='micro')"
      ],
      "execution_count": null,
      "outputs": []
    },
    {
      "cell_type": "code",
      "metadata": {
        "id": "rLcGUHkPqRbH",
        "colab_type": "code",
        "colab": {}
      },
      "source": [
        "confusion_matrix(y_test, y_pred, rf_sub)"
      ],
      "execution_count": null,
      "outputs": []
    },
    {
      "cell_type": "code",
      "metadata": {
        "id": "Ed-CTniQy74O",
        "colab_type": "code",
        "colab": {}
      },
      "source": [
        "from sklearn import model_selection\n",
        "\n",
        "rf_sub_cv = ensemble.RandomForestClassifier(random_state=34,\n",
        "                                            class_weight=\\\n",
        "                                              'balanced_subsample')\n",
        "parameters = {'n_estimators': [10, 100, 500],\n",
        "              'max_depth': [5, 10, 30],\n",
        "              'min_samples_split': [2,5],\n",
        "              'min_samples_leaf': [1,2,5]}\n",
        "clf = model_selection.GridSearchCV(rf_sub_cv, parameters,\n",
        "                                   cv=5, scoring='f1_weighted')\n",
        "clf.fit(X_train, y_train)"
      ],
      "execution_count": null,
      "outputs": []
    },
    {
      "cell_type": "code",
      "metadata": {
        "id": "8E3EQ_28zI7U",
        "colab_type": "code",
        "colab": {}
      },
      "source": [
        "clf.best_params_"
      ],
      "execution_count": null,
      "outputs": []
    },
    {
      "cell_type": "code",
      "metadata": {
        "id": "QuoEcO1qzbum",
        "colab_type": "code",
        "colab": {}
      },
      "source": [
        "y_pred_be = clf.best_estimator_.predict(X_test)\n",
        "\n",
        "confusion_matrix(y_test, y_pred_be, clf.best_estimator_)"
      ],
      "execution_count": null,
      "outputs": []
    },
    {
      "cell_type": "code",
      "metadata": {
        "id": "_CntLUbVzdiW",
        "colab_type": "code",
        "colab": {}
      },
      "source": [
        "rf_sub_cv = ensemble.RandomForestClassifier(random_state=34,\n",
        "                                            class_weight=\\\n",
        "                                              'balanced_subsample')\n",
        "parameters = {'n_estimators': [10, 100, 500],\n",
        "              'max_depth': [5, 10, 30],\n",
        "              'min_samples_split': [2,5],\n",
        "              'min_samples_leaf': [1,2,5]}\n",
        "clf = model_selection.GridSearchCV(rf_sub_cv, parameters,\n",
        "                                   cv=5, scoring='recall')\n",
        "clf.fit(X_train, y_train)"
      ],
      "execution_count": null,
      "outputs": []
    },
    {
      "cell_type": "code",
      "metadata": {
        "id": "9cDxSOtszrP_",
        "colab_type": "code",
        "colab": {}
      },
      "source": [
        "clf.best_params_"
      ],
      "execution_count": null,
      "outputs": []
    },
    {
      "cell_type": "code",
      "metadata": {
        "id": "SbjHIBvyz-4P",
        "colab_type": "code",
        "colab": {}
      },
      "source": [
        "y_pred_be = clf.best_estimator_.predict(X_test)\n",
        "\n",
        "confusion_matrix(y_test, y_pred_be, clf.best_estimator_)"
      ],
      "execution_count": null,
      "outputs": []
    },
    {
      "cell_type": "code",
      "metadata": {
        "id": "cWafOj_8Y8yZ",
        "colab_type": "code",
        "colab": {}
      },
      "source": [
        "rf_sub = ensemble.RandomForestClassifier(n_estimators=10,\n",
        "                                         random_state=86,\n",
        "                                         max_depth=5,\n",
        "                                         min_samples_leaf=2,\n",
        "                                         min_samples_split=2,\n",
        "                                         class_weight=\\\n",
        "                                           {False: 1, True:50})\n",
        "\n",
        "rf_sub.fit(X_train, y_train)\n",
        "\n",
        "y_pred = rf_sub.predict(X_test)"
      ],
      "execution_count": null,
      "outputs": []
    },
    {
      "cell_type": "code",
      "metadata": {
        "id": "Gml4_6m8a8NT",
        "colab_type": "code",
        "colab": {}
      },
      "source": [
        "confusion_matrix(y_test, y_pred, rf_sub)"
      ],
      "execution_count": null,
      "outputs": []
    },
    {
      "cell_type": "code",
      "metadata": {
        "id": "JFXk0RlFbK-K",
        "colab_type": "code",
        "colab": {}
      },
      "source": [
        ""
      ],
      "execution_count": null,
      "outputs": []
    }
  ]
}